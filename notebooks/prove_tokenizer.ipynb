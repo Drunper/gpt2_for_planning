{
  "cells": [
    {
      "cell_type": "code",
      "execution_count": 2,
      "metadata": {
        "colab": {
          "base_uri": "https://localhost:8080/"
        },
        "id": "HZzaZkpTxNBF",
        "outputId": "45fca999-4b7e-4673-fd16-5725ce9ab406"
      },
      "outputs": [],
      "source": [
        "import datasets"
      ]
    },
    {
      "cell_type": "code",
      "execution_count": 1,
      "metadata": {
        "id": "m1A_FLBcqgob"
      },
      "outputs": [],
      "source": [
        "import os\n",
        "import copy\n",
        "import torch\n",
        "import pickle\n",
        "from tqdm import tqdm\n",
        "import torch"
      ]
    },
    {
      "cell_type": "code",
      "execution_count": 4,
      "metadata": {
        "id": "oMXWRguUo20a"
      },
      "outputs": [],
      "source": [
        "from tokenizers import (\n",
        "    decoders,\n",
        "    models,\n",
        "    normalizers,\n",
        "    pre_tokenizers,\n",
        "    processors,\n",
        "    trainers,\n",
        "    Tokenizer,\n",
        ")\n",
        "\n",
        "from transformers import PreTrainedTokenizer\n",
        "from transformers import AutoModel\n",
        "from transformers import PreTrainedTokenizerFast"
      ]
    },
    {
      "cell_type": "code",
      "execution_count": 5,
      "metadata": {
        "id": "8i3CvCrlqe-U"
      },
      "outputs": [],
      "source": [
        "from tokenizers import ByteLevelBPETokenizer, normalizers\n",
        "from tokenizers.models import BPE\n",
        "from tokenizers.trainers import BpeTrainer\n",
        "from tokenizers.pre_tokenizers import Split, Whitespace, CharDelimiterSplit\n",
        "from tokenizers.processors import TemplateProcessing"
      ]
    },
    {
      "cell_type": "code",
      "execution_count": 7,
      "metadata": {
        "id": "tuOY3IfRrXaA"
      },
      "outputs": [],
      "source": [
        "with open(\"../dict_pickles/logistics_plans_with_invariants.pickle\", \"rb\") as pickle_file:\n",
        "    af_dict = pickle.load(pickle_file)"
      ]
    },
    {
      "cell_type": "code",
      "execution_count": 8,
      "metadata": {
        "id": "o5uhNDr9rcoi"
      },
      "outputs": [],
      "source": [
        "actions_fluents_list = []\n",
        "for action_or_fluent in af_dict.keys():\n",
        "    actions_fluents_list.append(action_or_fluent.replace(\" \", \"\").replace(\"-\", \"\"))"
      ]
    },
    {
      "cell_type": "code",
      "execution_count": 9,
      "metadata": {
        "colab": {
          "base_uri": "https://localhost:8080/"
        },
        "id": "paPAoxp_XCzg",
        "outputId": "33f190c3-8aa4-472a-cdce-6df7db679cdc"
      },
      "outputs": [
        {
          "data": {
            "text/plain": [
              "(True, True)"
            ]
          },
          "execution_count": 9,
          "metadata": {},
          "output_type": "execute_result"
        }
      ],
      "source": [
        "\"attru2pos33\" in actions_fluents_list, \"incityapt3cit1\" in actions_fluents_list"
      ]
    },
    {
      "cell_type": "code",
      "execution_count": 10,
      "metadata": {
        "id": "lLor4NztszPC"
      },
      "outputs": [],
      "source": [
        "tokenizer = Tokenizer(models.WordPiece(unk_token=\"<|unknown|>\"))\n",
        "tokenizer.normalizer = normalizers.BertNormalizer(clean_text=True)\n",
        "tokenizer.pre_tokenizer = pre_tokenizers.Split(\" \", \"removed\")\n",
        "special_tokens = [\"<|unknown|>\", \"<|pad|>\", \"<|startofplan|>\", \"<|endofplan|>\", \"<|goals|>\", \"<|actions|>\", \"<|mask|>\"]\n",
        "trainer = trainers.WordPieceTrainer(vocab_size=25000, special_tokens=special_tokens)\n",
        "tokenizer.train_from_iterator(actions_fluents_list, trainer=trainer)"
      ]
    },
    {
      "cell_type": "code",
      "execution_count": 11,
      "metadata": {
        "id": "ZmkyyNdFueZu"
      },
      "outputs": [],
      "source": [
        "bos_token_id = tokenizer.token_to_id(\"<|startofplan|>\")\n",
        "eos_token_id = tokenizer.token_to_id(\"<|endofplan|>\")\n",
        "actions_token_id = tokenizer.token_to_id(\"<|actions|>\")"
      ]
    },
    {
      "cell_type": "code",
      "execution_count": 12,
      "metadata": {
        "id": "ORHLKMhvetmc"
      },
      "outputs": [],
      "source": [
        "tokenizer.post_processor = processors.TemplateProcessing(\n",
        "    single=f\"<|startofplan|> $A:0\",\n",
        "    pair=f\"<|startofplan|>:0 $A:0 <|actions|>:0 $B:0 <|endofplan|>:0\",\n",
        "    special_tokens=[(\"<|startofplan|>\", bos_token_id), (\"<|endofplan|>\", eos_token_id), (\"<|actions|>\", actions_token_id)],\n",
        ")"
      ]
    },
    {
      "cell_type": "code",
      "execution_count": 13,
      "metadata": {
        "id": "pyardL7ZukIc"
      },
      "outputs": [],
      "source": [
        "tokenizer.save(\"../tokenizers/logistics_invariants_tokenizer.json\")"
      ]
    },
    {
      "cell_type": "code",
      "execution_count": null,
      "metadata": {
        "id": "yGLTLp7-aqLS"
      },
      "outputs": [],
      "source": [
        "tokenizer = Tokenizer.from_file(\"/content/logistics_tokenizer.json\")"
      ]
    },
    {
      "cell_type": "code",
      "execution_count": null,
      "metadata": {
        "id": "XEGjBGQlJWbe"
      },
      "outputs": [],
      "source": [
        "additional_special_tokens = [\"<|goals|>\", \"<|actions|>\"]"
      ]
    },
    {
      "cell_type": "code",
      "execution_count": null,
      "metadata": {
        "id": "tr9Mgu4vRd1U"
      },
      "outputs": [],
      "source": [
        "wrapped_tokenizer = PreTrainedTokenizerFast(\n",
        "    tokenizer_object=tokenizer,\n",
        "    unk_token=\"<|unknown|>\",\n",
        "    pad_token=\"<|pad|>\",\n",
        "    bos_token=\"<|startoftext|>\",\n",
        "    eos_token=\"<|endoftext|>\",\n",
        "    # goals_token=\"<|goals|>\",\n",
        "    # actions_token=\"<|actions|>\",\n",
        "    mask_token=\"<|mask|>\",\n",
        "    additional_special_tokens=additional_special_tokens,\n",
        "    padding_side=\"left\",  \n",
        ")"
      ]
    },
    {
      "cell_type": "code",
      "execution_count": null,
      "metadata": {
        "colab": {
          "base_uri": "https://localhost:8080/"
        },
        "id": "LX8Xfgn9Y9mA",
        "outputId": "48aa238c-3f6f-4bc5-971f-431fa42b4757"
      },
      "outputs": [
        {
          "data": {
            "text/plain": [
              "('/content/tokenizer_config.json',\n",
              " '/content/special_tokens_map.json',\n",
              " '/content/tokenizer.json')"
            ]
          },
          "execution_count": 17,
          "metadata": {},
          "output_type": "execute_result"
        }
      ],
      "source": [
        "wrapped_tokenizer.save_pretrained(\"/content/\")"
      ]
    },
    {
      "cell_type": "code",
      "execution_count": null,
      "metadata": {
        "id": "nT0ABzCPLg0S"
      },
      "outputs": [],
      "source": [
        "text = 'attru2pos33 attru3pos77 attru4pos66 attru5pos44 attru1pos13 atobj21pos23 atobj23pos77 atobj44pos33 atobj55pos11 atobj12pos23 atobj88pos23 atobj66pos13 atobj13pos13 atobj22pos23 atobj77pos11 atapn8apt3 atapn1apt3 atapn7apt3 atapn4apt8 <|goals|> atobj77pos12 atobj22pos11 <|actions|> DRIVETRUCKTRU2POS33APT6CIT3 DRIVETRUCKTRU4POS66POS23CIT1 DRIVETRUCKTRU3POS77APT4CIT6 LOADTRUCKOBJ22TRU4POS23 DRIVETRUCKTRU4POS23APT3CIT1 UNLOADTRUCKOBJ22TRU4APT3 LOADAIRPLANEOBJ22APN1APT3 FLYAIRPLANEAPN1APT3APT6 UNLOADAIRPLANEOBJ22APN1APT6 LOADTRUCKOBJ22TRU2APT6 DRIVETRUCKTRU2APT6POS11CIT3 UNLOADTRUCKOBJ22TRU2POS11 LOADTRUCKOBJ77TRU2POS11 DRIVETRUCKTRU2POS11APT6CIT3 UNLOADTRUCKOBJ77TRU2APT6 LOADAIRPLANEOBJ77APN1APT6 FLYAIRPLANEAPN1APT6APT4 UNLOADAIRPLANEOBJ77APN1APT4 LOADTRUCKOBJ77TRU3APT4 DRIVETRUCKTRU3APT4POS12CIT6 UNLOADTRUCKOBJ77TRU3POS12'"
      ]
    },
    {
      "cell_type": "code",
      "execution_count": null,
      "metadata": {
        "id": "bNEf3BpBZMCP"
      },
      "outputs": [],
      "source": [
        "text = 'attru2pos33 attru3pos77 attru4pos66 attru5pos44'"
      ]
    },
    {
      "cell_type": "code",
      "execution_count": null,
      "metadata": {
        "colab": {
          "base_uri": "https://localhost:8080/"
        },
        "id": "z4rP7vLnKcW9",
        "outputId": "42e6f8ea-86b7-4ebe-e267-60b64b44f8ea"
      },
      "outputs": [
        {
          "data": {
            "text/plain": [
              "5"
            ]
          },
          "execution_count": 21,
          "metadata": {},
          "output_type": "execute_result"
        }
      ],
      "source": [
        "wrapped_tokenizer.convert_tokens_to_ids(\"<|actions|>\")"
      ]
    },
    {
      "cell_type": "code",
      "execution_count": null,
      "metadata": {
        "id": "QeI00kg_b48u"
      },
      "outputs": [],
      "source": [
        "def tokenize_function(examples):\n",
        "    output = wrapped_tokenizer(examples['states'],\n",
        "                               examples['actions'],\n",
        "                               # max_length=context_length,\n",
        "                               # padding='max_length',\n",
        "                               return_token_type_ids=False,\n",
        "                               # return_tensors='pt',\n",
        "                               # max_length=512,\n",
        "                               )\n",
        "    return output"
      ]
    },
    {
      "cell_type": "code",
      "execution_count": null,
      "metadata": {
        "colab": {
          "base_uri": "https://localhost:8080/",
          "height": 36
        },
        "id": "nM-uIMcJYutz",
        "outputId": "394b0f31-1fd8-45b6-84b1-219652c84ce3"
      },
      "outputs": [
        {
          "data": {
            "application/vnd.google.colaboratory.intrinsic+json": {
              "type": "string"
            },
            "text/plain": [
              "'attru4pos44'"
            ]
          },
          "execution_count": 19,
          "metadata": {},
          "output_type": "execute_result"
        }
      ],
      "source": [
        "wrapped_tokenizer.decode(13000)"
      ]
    },
    {
      "cell_type": "code",
      "execution_count": null,
      "metadata": {
        "colab": {
          "base_uri": "https://localhost:8080/",
          "height": 157
        },
        "id": "4I9ctCubdLma",
        "outputId": "c65a0467-913f-4300-9857-d0c57985dae2"
      },
      "outputs": [
        {
          "data": {
            "application/vnd.google.colaboratory.intrinsic+json": {
              "type": "string"
            },
            "text/plain": [
              "'<|startoftext|> attru2pos33 attru3pos77 attru4pos66 attru5pos44 attru1pos13 atobj21pos23 atobj23pos77 atobj44pos33 atobj55pos11 atobj12pos23 atobj88pos23 atobj66pos13 atobj13pos13 atobj22pos23 atobj77pos11 atapn8apt3 atapn1apt3 atapn7apt3 atapn4apt8 <|goals|> atobj77pos12 atobj22pos11 <|actions|> drivetrucktru2pos33apt6cit3 drivetrucktru4pos66pos23cit1 drivetrucktru3pos77apt4cit6 loadtruckobj22tru4pos23 drivetrucktru4pos23apt3cit1 unloadtruckobj22tru4apt3 loadairplaneobj22apn1apt3 flyairplaneapn1apt3apt6 unloadairplaneobj22apn1apt6 loadtruckobj22tru2apt6 drivetrucktru2apt6pos11cit3 unloadtruckobj22tru2pos11 loadtruckobj77tru2pos11 drivetrucktru2pos11apt6cit3 unloadtruckobj77tru2apt6 loadairplaneobj77apn1apt6 flyairplaneapn1apt6apt4 unloadairplaneobj77apn1apt4 loadtruckobj77tru3apt4 drivetrucktru3apt4pos12cit6 unloadtruckobj77tru3pos12 <|endoftext|> <|pad|> <|pad|> <|pad|> <|pad|> <|pad|> <|pad|> <|pad|> <|pad|> <|pad|> <|pad|> <|pad|> <|pad|> <|pad|> <|pad|> <|pad|> <|pad|> <|pad|> <|pad|> <|pad|> <|pad|> <|pad|> <|pad|> <|pad|> <|pad|> <|pad|> <|pad|> <|pad|> <|pad|> <|pad|> <|pad|> <|pad|> <|pad|> <|pad|> <|pad|> <|pad|> <|pad|> <|pad|> <|pad|> <|pad|> <|pad|> <|pad|> <|pad|> <|pad|> <|pad|> <|pad|> <|pad|> <|pad|> <|pad|> <|pad|> <|pad|> <|pad|> <|pad|> <|pad|> <|pad|> <|pad|> <|pad|> <|pad|> <|pad|> <|pad|> <|pad|> <|pad|> <|pad|> <|pad|> <|pad|> <|pad|> <|pad|> <|pad|> <|pad|> <|pad|> <|pad|> <|pad|> <|pad|> <|pad|> <|pad|> <|pad|> <|pad|> <|pad|> <|pad|> <|pad|> <|pad|> <|pad|> <|pad|>'"
            ]
          },
          "execution_count": 55,
          "metadata": {},
          "output_type": "execute_result"
        }
      ],
      "source": [
        "wrapped_tokenizer.decode(encoding.input_ids)"
      ]
    },
    {
      "cell_type": "code",
      "execution_count": null,
      "metadata": {
        "colab": {
          "base_uri": "https://localhost:8080/"
        },
        "id": "lmvqC2sdn9Ae",
        "outputId": "dabea6d8-ca95-45ba-9ba2-a4aaffc0c7f9"
      },
      "outputs": [
        {
          "data": {
            "text/plain": [
              "{'input_ids': [2, 11999, 11969, 5, 12001, 12011, 3], 'token_type_ids': [0, 0, 0, 1, 0, 0, 2], 'attention_mask': [1, 1, 1, 1, 1, 1, 1]}"
            ]
          },
          "execution_count": 126,
          "metadata": {},
          "output_type": "execute_result"
        }
      ],
      "source": [
        "text1 = 'attru2pos33 attru3pos77'\n",
        "text2 = 'attru4pos66 attru5pos44'\n",
        "encoding = wrapped_tokenizer(text1, text2)\n",
        "encoding"
      ]
    },
    {
      "cell_type": "code",
      "execution_count": null,
      "metadata": {
        "colab": {
          "base_uri": "https://localhost:8080/",
          "height": 217,
          "referenced_widgets": [
            "9de7aa4fa4f441fbbab04f9d8f3475cd",
            "cc274f72fa1b4c96ae00c35562e8e9bd",
            "0911ac7366564e419e5f5fa96e768fc9",
            "b2abf5d42fc4421f84264d8f46f141cc",
            "a30baa9850ec444fa106fa02e4754cc8",
            "b03083bbd1a54b169d39828f31dc5a51",
            "b95a304bc6174ab7a1c5e07198d22013",
            "decaaf8fb7934f6585e386f56a649c39",
            "e2f6967c715f4beb83d7b85d1b212613",
            "bc169e44e63f41abbc3230a442452cc9",
            "396baf5c25b84765af45e106d605ba5b",
            "ce3649b4233149aeb369c56947e43d87",
            "12fc3571a9514a65abbfc9d8c49b12f2",
            "ee571a6e4e8b44d78674a510d0bf02c4",
            "34994c5aaa2d4d359a1d3843889e3bfd",
            "1bfe142f44164cf5b0c6feb215532676",
            "685ada9f70e34c95a0cfd6c7fa7eca90",
            "68e2c9a590104fbc8ee5a9a7d363e1cd",
            "566095e6fc9f4b9ab060132a004f7f38",
            "ecea3749f8394f15ad7a583f1d4b2436",
            "91607fa6c1804d82b74c4c1ef2802d1e",
            "ab61d6e3b6824437b6a63544bf8a28a2",
            "340a429620524c46a371cb32020c7f27",
            "39a161ad8c624a56b332375f7e4fd804",
            "5362962942ce4c94a8acc6efa6ae76dc",
            "24653a49f98c427982c53b199a33ec71",
            "fe43e1483c0148329d555282a47f9306",
            "5142ef31733741dc969a24186c23d933",
            "c04175d946db4b03b889e53c54e1cfff",
            "505fc961d6cb4aa0a1cc02917303dca3",
            "a921a29e0c0a4fd5aff030add1f353a3",
            "c472accb8bc8478593b8c38152a60664",
            "cfd3fd00d29140ed972d3556bfdb6df4",
            "9bfae462db8c4234a2f61e564ba8d46a",
            "a02af808ebb24f44baf78f85174da4a4",
            "ef77df52bb71413592bcfabb2f833b6b",
            "986b5a6eb2c34502b54307c3e638334e",
            "db5b8b7584a84194b6b668d36c6c7a2c",
            "f1e8cfe01a504750b28feeca533a6af9",
            "593838f918d24bb69e54f24181bf195f",
            "6ec550b07c1c463fa8c6b38d13ff8f43",
            "d9c8d6cf622244ee95c3c585c8545504",
            "e4876fdf9b3047688ceb8138a2fea39d",
            "92c8b427dea94824b1aff04eeb1f4ffa"
          ]
        },
        "id": "hXd0zOMWx5cO",
        "outputId": "cb50debc-e995-4bc8-e5ae-b26e5c929d7a"
      },
      "outputs": [
        {
          "name": "stderr",
          "output_type": "stream",
          "text": [
            "WARNING:datasets.builder:Using custom data configuration default-2b5bf8ff1bf7bc7a\n"
          ]
        },
        {
          "name": "stdout",
          "output_type": "stream",
          "text": [
            "Downloading and preparing dataset json/default to /root/.cache/huggingface/datasets/json/default-2b5bf8ff1bf7bc7a/0.0.0/0f7e3662623656454fcd2b650f34e886a7db4b9104504885bd462096cc7a9f51...\n"
          ]
        },
        {
          "data": {
            "application/vnd.jupyter.widget-view+json": {
              "model_id": "9de7aa4fa4f441fbbab04f9d8f3475cd",
              "version_major": 2,
              "version_minor": 0
            },
            "text/plain": [
              "Downloading data files:   0%|          | 0/1 [00:00<?, ?it/s]"
            ]
          },
          "metadata": {},
          "output_type": "display_data"
        },
        {
          "data": {
            "application/vnd.jupyter.widget-view+json": {
              "model_id": "ce3649b4233149aeb369c56947e43d87",
              "version_major": 2,
              "version_minor": 0
            },
            "text/plain": [
              "Extracting data files:   0%|          | 0/1 [00:00<?, ?it/s]"
            ]
          },
          "metadata": {},
          "output_type": "display_data"
        },
        {
          "data": {
            "application/vnd.jupyter.widget-view+json": {
              "model_id": "340a429620524c46a371cb32020c7f27",
              "version_major": 2,
              "version_minor": 0
            },
            "text/plain": [
              "Generating train split: 0 examples [00:00, ? examples/s]"
            ]
          },
          "metadata": {},
          "output_type": "display_data"
        },
        {
          "name": "stdout",
          "output_type": "stream",
          "text": [
            "Dataset json downloaded and prepared to /root/.cache/huggingface/datasets/json/default-2b5bf8ff1bf7bc7a/0.0.0/0f7e3662623656454fcd2b650f34e886a7db4b9104504885bd462096cc7a9f51. Subsequent calls will reuse this data.\n"
          ]
        },
        {
          "data": {
            "application/vnd.jupyter.widget-view+json": {
              "model_id": "9bfae462db8c4234a2f61e564ba8d46a",
              "version_major": 2,
              "version_minor": 0
            },
            "text/plain": [
              "  0%|          | 0/1 [00:00<?, ?it/s]"
            ]
          },
          "metadata": {},
          "output_type": "display_data"
        }
      ],
      "source": [
        "dataset = datasets.load_dataset(\"json\", data_files=\"/content/20_plans.json\")"
      ]
    },
    {
      "cell_type": "code",
      "execution_count": null,
      "metadata": {
        "colab": {
          "base_uri": "https://localhost:8080/",
          "height": 118,
          "referenced_widgets": [
            "b23c5f754e3048da95ab1dc3ae5f2c43",
            "00301207d1114890b17b35f687a6b88e",
            "b8c0dbd446a94ea1b9bc277b03a5f443",
            "3be59165aa9e4f6db32fe86e5f140161",
            "d08c738f76a64489a35cefefc2f64a44",
            "dc14c6a1741a4a768d177d5b20609ff4",
            "ff8e8527e80d4d5ebeb0026334a2b6fd",
            "666dff0f4e084c1eb06a78f9d47d53a1",
            "1f5d886890434eae8d5cdcd1ebad241c",
            "c6c5fa87fb374735a27455a6402f5746",
            "b5273bc258604ade8802acc7fbfc335f"
          ]
        },
        "id": "nScEM19ivtPz",
        "outputId": "2af08458-3a35-4b4d-9d6f-2016122fea29"
      },
      "outputs": [
        {
          "data": {
            "application/vnd.jupyter.widget-view+json": {
              "model_id": "b23c5f754e3048da95ab1dc3ae5f2c43",
              "version_major": 2,
              "version_minor": 0
            },
            "text/plain": [
              "Running tokenizer on dataset:   0%|          | 0/1 [00:00<?, ?ba/s]"
            ]
          },
          "metadata": {},
          "output_type": "display_data"
        },
        {
          "data": {
            "text/plain": [
              "Dataset({\n",
              "    features: ['actions_idx', 'eop_idx', 'input_ids', 'attention_mask'],\n",
              "    num_rows: 20\n",
              "})"
            ]
          },
          "execution_count": 22,
          "metadata": {},
          "output_type": "execute_result"
        }
      ],
      "source": [
        "tokenized_datasets = dataset.map(\n",
        "            tokenize_function,\n",
        "            batched=True,\n",
        "            remove_columns=['name', 'states', 'actions'],\n",
        "            desc=\"Running tokenizer on dataset\",\n",
        "        )\n",
        "tokenized_datasets['train']"
      ]
    },
    {
      "cell_type": "code",
      "execution_count": null,
      "metadata": {
        "colab": {
          "base_uri": "https://localhost:8080/"
        },
        "id": "MyoqA63tAB9t",
        "outputId": "7dd4ccc3-bdad-4b53-8456-80d04d458a60"
      },
      "outputs": [
        {
          "data": {
            "text/plain": [
              "{'actions_idx': 23,\n",
              " 'eop_idx': 37,\n",
              " 'input_ids': [2,\n",
              "  11998,\n",
              "  11989,\n",
              "  12014,\n",
              "  11980,\n",
              "  12005,\n",
              "  15787,\n",
              "  15817,\n",
              "  15776,\n",
              "  13793,\n",
              "  13760,\n",
              "  13749,\n",
              "  15763,\n",
              "  15806,\n",
              "  13783,\n",
              "  15798,\n",
              "  8798,\n",
              "  8789,\n",
              "  8817,\n",
              "  8804,\n",
              "  4,\n",
              "  15792,\n",
              "  13769],\n",
              " 'attention_mask': [1,\n",
              "  1,\n",
              "  1,\n",
              "  1,\n",
              "  1,\n",
              "  1,\n",
              "  1,\n",
              "  1,\n",
              "  1,\n",
              "  1,\n",
              "  1,\n",
              "  1,\n",
              "  1,\n",
              "  1,\n",
              "  1,\n",
              "  1,\n",
              "  1,\n",
              "  1,\n",
              "  1,\n",
              "  1,\n",
              "  1,\n",
              "  1,\n",
              "  1]}"
            ]
          },
          "execution_count": 23,
          "metadata": {},
          "output_type": "execute_result"
        }
      ],
      "source": [
        "tokenized_datasets['train'][0]"
      ]
    },
    {
      "cell_type": "code",
      "execution_count": null,
      "metadata": {
        "colab": {
          "base_uri": "https://localhost:8080/"
        },
        "id": "5VrS1gbGyJ4-",
        "outputId": "9ce7c586-18df-43d1-8aa2-d2b5414898be"
      },
      "outputs": [
        {
          "data": {
            "text/plain": [
              "{'name': '../datasets/logistics/tasks_simil-pereira/xml//xml-LPG-p057934_4.SOL',\n",
              " 'states': 'attru1pos13 attru2pos11 attru5pos77 attru3pos23 attru4pos21 atobj55pos11 atobj99pos22 atobj66pos11 atobj12pos11 atobj22pos11 atobj21pos77 atobj44pos21 atobj88pos22 atobj13pos22 atobj77pos11 atapn8apt4 atapn5apt4 atapn4apt4 atapn2apt3 <|goals|> atobj77pos66 atobj21pos13',\n",
              " 'actions': 'LOADTRUCKOBJ21TRU5POS77 DRIVETRUCKTRU1POS13APT3CIT1 LOADTRUCKOBJ77TRU2POS11 DRIVETRUCKTRU5POS77APT4CIT2 DRIVETRUCKTRU2POS11POS66CIT5 UNLOADTRUCKOBJ21TRU5APT4 UNLOADTRUCKOBJ77TRU2POS66 LOADAIRPLANEOBJ21APN8APT4 FLYAIRPLANEAPN8APT4APT3 UNLOADAIRPLANEOBJ21APN8APT3 LOADTRUCKOBJ21TRU1APT3 DRIVETRUCKTRU1APT3POS13CIT1 UNLOADTRUCKOBJ21TRU1POS13',\n",
              " 'actions_idx': 23,\n",
              " 'eop_idx': 37}"
            ]
          },
          "execution_count": 24,
          "metadata": {},
          "output_type": "execute_result"
        }
      ],
      "source": [
        "dataset['train'][0]"
      ]
    },
    {
      "cell_type": "code",
      "execution_count": null,
      "metadata": {
        "colab": {
          "base_uri": "https://localhost:8080/"
        },
        "id": "WJf7Y0PCSSZb",
        "outputId": "39de17f7-18d2-4f68-c07d-8a59de1fe389"
      },
      "outputs": [
        {
          "data": {
            "text/plain": [
              "['attru1pos13 attru2pos11 attru5pos77 attru3pos23 attru4pos21 atobj55pos11 atobj99pos22 atobj66pos11 atobj12pos11 atobj22pos11 atobj21pos77 atobj44pos21 atobj88pos22 atobj13pos22 atobj77pos11 atapn8apt4 atapn5apt4 atapn4apt4 atapn2apt3 <|goals|> atobj77pos66 atobj21pos13',\n",
              " 'attru1pos13 attru2pos11 attru5pos77 attru3pos23 attru4pos21 atobj55pos11 atobj99pos22 atobj66pos11 atobj12pos11 atobj22pos11 atobj21pos77 atobj44pos21 atobj88pos22 atobj13pos22 atobj77pos11 atapn8apt4 atapn5apt4 atapn4apt4 atapn2apt3 <|goals|> atobj77pos66 atobj21pos13',\n",
              " 'attru1pos13 attru2pos11 attru5pos77 attru3pos23 attru4pos21 atobj55pos11 atobj99pos22 atobj66pos11 atobj12pos11 atobj22pos11 atobj21pos77 atobj44pos21 atobj88pos22 atobj13pos22 atobj77pos11 atapn8apt4 atapn5apt4 atapn4apt4 atapn2apt3 <|goals|> atobj77pos66 atobj21pos13',\n",
              " 'attru1pos13 attru2pos11 attru5pos77 attru3pos23 attru4pos21 atobj55pos11 atobj99pos22 atobj66pos11 atobj12pos11 atobj22pos11 atobj21pos77 atobj44pos21 atobj88pos22 atobj13pos22 atobj77pos11 atapn8apt4 atapn5apt4 atapn4apt4 atapn2apt3 <|goals|> atobj77pos66 atobj21pos13',\n",
              " 'attru2pos55 attru5pos12 atobj00pos55 atobj11pos23 atobj44pos55 atobj21pos12 atobj99pos77 atobj23pos77 atapn8apt8 atapn3apt4 <|goals|> atobj99pos55 atobj23pos77',\n",
              " 'attru2pos55 attru5pos12 atobj00pos55 atobj11pos23 atobj44pos55 atobj21pos12 atobj99pos77 atobj23pos77 atapn8apt8 atapn3apt4 <|goals|> atobj99pos55 atobj23pos77',\n",
              " 'attru2pos55 attru5pos12 atobj00pos55 atobj11pos23 atobj44pos55 atobj21pos12 atobj99pos77 atobj23pos77 atapn8apt8 atapn3apt4 <|goals|> atobj99pos55 atobj23pos77',\n",
              " 'attru2pos55 attru5pos12 atobj00pos55 atobj11pos23 atobj44pos55 atobj21pos12 atobj99pos77 atobj23pos77 atapn8apt8 atapn3apt4 <|goals|> atobj99pos55 atobj23pos77',\n",
              " 'attru5pos33 attru3pos55 atobj99pos11 atobj55pos11 atobj33pos33 atobj23pos33 atobj21pos33 atobj77pos23 atapn6apt5 atapn8apt5 <|goals|> atobj55pos33 atobj33pos33',\n",
              " 'attru5pos33 attru3pos55 atobj99pos11 atobj55pos11 atobj33pos33 atobj23pos33 atobj21pos33 atobj77pos23 atapn6apt5 atapn8apt5 <|goals|> atobj55pos33 atobj33pos33',\n",
              " 'attru5pos33 attru3pos55 atobj99pos11 atobj55pos11 atobj33pos33 atobj23pos33 atobj21pos33 atobj77pos23 atapn6apt5 atapn8apt5 <|goals|> atobj55pos33 atobj33pos33',\n",
              " 'attru5pos33 attru3pos55 atobj99pos11 atobj55pos11 atobj33pos33 atobj23pos33 atobj21pos33 atobj77pos23 atapn6apt5 atapn8apt5 <|goals|> atobj55pos33 atobj33pos33',\n",
              " 'attru3pos55 attru5pos23 atobj77pos11 atobj22pos55 atobj66pos23 atobj13pos21 atobj55pos21 atobj21pos23 atapn6apt8 <|goals|> atobj66pos66 atobj77pos44',\n",
              " 'attru3pos55 attru5pos23 atobj77pos11 atobj22pos55 atobj66pos23 atobj13pos21 atobj55pos21 atobj21pos23 atapn6apt8 <|goals|> atobj66pos66 atobj77pos44',\n",
              " 'attru4pos11 attru5pos23 atobj66pos13 atobj99pos23 atobj11pos55 atobj33pos11 atobj12pos22 atobj00pos21 atapn3apt5 atapn2apt6 <|goals|> atobj11pos21 atobj12pos22',\n",
              " 'attru4pos11 attru5pos23 atobj66pos13 atobj99pos23 atobj11pos55 atobj33pos11 atobj12pos22 atobj00pos21 atapn3apt5 atapn2apt6 <|goals|> atobj11pos21 atobj12pos22',\n",
              " 'attru4pos11 attru5pos23 atobj66pos13 atobj99pos23 atobj11pos55 atobj33pos11 atobj12pos22 atobj00pos21 atapn3apt5 atapn2apt6 <|goals|> atobj11pos21 atobj12pos22',\n",
              " 'attru2pos55 attru1pos22 attru4pos12 attru3pos66 attru5pos23 atobj77pos55 atobj55pos55 atobj88pos13 atobj23pos23 atobj33pos33 atobj21pos55 atobj11pos55 atobj00pos66 atobj66pos11 atobj12pos33 atapn8apt1 atapn3apt7 atapn4apt3 atapn2apt1 <|goals|> atobj11pos44 atobj33pos33',\n",
              " 'attru2pos55 attru1pos22 attru4pos12 attru3pos66 attru5pos23 atobj77pos55 atobj55pos55 atobj88pos13 atobj23pos23 atobj33pos33 atobj21pos55 atobj11pos55 atobj00pos66 atobj66pos11 atobj12pos33 atapn8apt1 atapn3apt7 atapn4apt3 atapn2apt1 <|goals|> atobj11pos44 atobj33pos33',\n",
              " 'attru5pos44 attru3pos33 attru2pos55 attru1pos44 attru4pos77 atobj66pos12 atobj23pos33 atobj33pos21 atobj99pos21 atobj88pos11 atobj00pos66 atobj11pos23 atobj44pos44 atobj77pos44 atobj55pos11 atapn5apt8 atapn6apt1 atapn3apt5 atapn4apt1 <|goals|> atobj33pos12 atobj11pos77']"
            ]
          },
          "execution_count": 23,
          "metadata": {},
          "output_type": "execute_result"
        }
      ],
      "source": [
        "dataset['train']['states']"
      ]
    },
    {
      "cell_type": "code",
      "execution_count": null,
      "metadata": {
        "colab": {
          "base_uri": "https://localhost:8080/",
          "height": 53
        },
        "id": "6aJT2a37Zklz",
        "outputId": "46abcbec-175a-4876-8780-e95532ed536b"
      },
      "outputs": [
        {
          "data": {
            "application/vnd.google.colaboratory.intrinsic+json": {
              "type": "string"
            },
            "text/plain": [
              "'<|startofplan|> attru4pos55 attru5pos11 atobj66pos77 atobj33pos11 atobj11pos12 atobj77pos12 atobj55pos77 atobj00pos77 atapn5apt2 <|goals|>'"
            ]
          },
          "execution_count": 27,
          "metadata": {},
          "output_type": "execute_result"
        }
      ],
      "source": [
        "wrapped_tokenizer.decode(tokenized_datasets['train'][0]['input_ids'][:11])"
      ]
    },
    {
      "cell_type": "code",
      "execution_count": null,
      "metadata": {
        "id": "WEopma4jyMKX"
      },
      "outputs": [],
      "source": [
        "encodings = tokenize_function(dataset['train'][0])\n",
        "encodings"
      ]
    },
    {
      "cell_type": "code",
      "execution_count": 1,
      "metadata": {
        "id": "xNtTFfV49XUy"
      },
      "outputs": [],
      "source": [
        "from torch.utils.data import DataLoader\n",
        "from transformers import default_data_collator, DataCollatorForLanguageModeling\n",
        "from collections.abc import Mapping"
      ]
    },
    {
      "cell_type": "code",
      "execution_count": null,
      "metadata": {
        "id": "00W9cXvV-CM0"
      },
      "outputs": [],
      "source": [
        "data_collator = DataCollatorForLanguageModeling(wrapped_tokenizer, mlm=False)"
      ]
    },
    {
      "cell_type": "code",
      "execution_count": null,
      "metadata": {
        "id": "l40HFXg-9RuF"
      },
      "outputs": [],
      "source": [
        "eval_dataloader = DataLoader(tokenized_datasets['train'], collate_fn=data_collator, batch_size=4)"
      ]
    },
    {
      "cell_type": "code",
      "execution_count": null,
      "metadata": {
        "colab": {
          "base_uri": "https://localhost:8080/"
        },
        "id": "6AzWEyOv-6f3",
        "outputId": "3881dc86-d738-4dfa-fa98-cb89ed022565"
      },
      "outputs": [
        {
          "data": {
            "text/plain": [
              "True"
            ]
          },
          "execution_count": 34,
          "metadata": {},
          "output_type": "execute_result"
        }
      ],
      "source": [
        "isinstance(tokenized_datasets['train'][0], Mapping)"
      ]
    },
    {
      "cell_type": "code",
      "execution_count": null,
      "metadata": {
        "colab": {
          "base_uri": "https://localhost:8080/"
        },
        "id": "f9-ME-JfGR_O",
        "outputId": "4a81fbd7-9408-4117-916d-d84f54f7df96"
      },
      "outputs": [
        {
          "name": "stdout",
          "output_type": "stream",
          "text": [
            "[2, 11998, 11989, 12014, 11980, 12005, 15787, 15817, 15776, 13793, 13760, 13749, 15763, 15806, 13783, 15798, 8798, 8789, 8817, 8804, 4, 15792, 13769]\n",
            "[2, 11998, 11989, 12014, 11980, 12005, 15787, 15817, 15776, 13793, 13760, 13749, 15763, 15806, 13783, 15798, 8798, 8789, 8817, 8804, 4, 15792, 13769]\n",
            "[2, 11998, 11989, 12014, 11980, 12005, 15787, 15817, 15776, 13793, 13760, 13749, 15763, 15806, 13783, 15798, 8798, 8789, 8817, 8804, 4, 15792, 13769]\n",
            "[2, 11998, 11989, 12014, 11980, 12005, 15787, 15817, 15776, 13793, 13760, 13749, 15763, 15806, 13783, 15798, 8798, 8789, 8817, 8804, 4, 15792, 13769]\n",
            "[2, 11973, 12017, 15826, 13801, 15760, 13766, 15816, 13741, 8830, 8771, 4, 15815, 13741]\n",
            "[2, 11973, 12017, 15826, 13801, 15760, 13766, 15816, 13741, 8830, 8771, 4, 15815, 13741]\n",
            "[2, 11973, 12017, 15826, 13801, 15760, 13766, 15816, 13741, 8830, 8771, 4, 15815, 13741]\n",
            "[2, 11973, 12017, 15826, 13801, 15760, 13766, 15816, 13741, 8830, 8771, 4, 15815, 13741]\n",
            "[2, 12021, 11969, 15820, 15787, 15757, 13756, 13770, 15799, 8795, 8801, 4, 15790, 15757]\n",
            "[2, 12021, 11969, 15820, 15787, 15757, 13756, 13770, 15799, 8795, 8801, 4, 15790, 15757]\n",
            "[2, 12021, 11969, 15820, 15787, 15757, 13756, 13770, 15799, 8795, 8801, 4, 15790, 15757]\n",
            "[2, 12021, 11969, 15820, 15787, 15757, 13756, 13770, 15799, 8795, 8801, 4, 15790, 15757]\n",
            "[2, 11969, 12019, 15798, 13744, 15777, 13785, 15785, 13768, 8796, 4, 15770, 15791]\n",
            "[2, 11969, 12019, 15798, 13744, 15777, 13785, 15785, 13768, 8796, 4, 15770, 15791]\n",
            "[2, 12007, 12019, 15778, 15821, 13781, 15756, 13790, 15829, 8768, 8773, 4, 13798, 13790]\n",
            "[2, 12007, 12019, 15778, 15821, 13781, 15756, 13790, 15829, 8768, 8773, 4, 13798, 13790]\n",
            "[2, 12007, 12019, 15778, 15821, 13781, 15756, 13790, 15829, 8768, 8773, 4, 13798, 13790]\n",
            "[2, 11973, 11993, 12006, 11968, 12019, 15793, 15782, 15811, 13751, 15757, 13748, 13781, 15825, 15776, 13796, 8827, 8770, 8809, 8805, 4, 13779, 15757]\n",
            "[2, 11973, 11993, 12006, 11968, 12019, 15793, 15782, 15811, 13751, 15757, 13748, 13781, 15825, 15776, 13796, 8827, 8770, 8809, 8805, 4, 13779, 15757]\n",
            "[2, 12011, 11985, 11973, 11975, 12003, 15775, 13756, 15753, 15818, 15809, 15825, 13801, 15758, 15791, 15787, 8787, 8824, 8768, 8810, 4, 15754, 13782]\n"
          ]
        }
      ],
      "source": [
        "for i in tokenized_datasets['train']['input_ids']:\n",
        "    print(i)"
      ]
    },
    {
      "cell_type": "code",
      "execution_count": null,
      "metadata": {
        "colab": {
          "base_uri": "https://localhost:8080/",
          "height": 36
        },
        "id": "055lxgxdye3Y",
        "outputId": "f29a68ba-b7fb-4926-ac1f-6105a7fbff02"
      },
      "outputs": [
        {
          "data": {
            "application/vnd.google.colaboratory.intrinsic+json": {
              "type": "string"
            },
            "text/plain": [
              "'<|pad|>'"
            ]
          },
          "execution_count": 31,
          "metadata": {},
          "output_type": "execute_result"
        }
      ],
      "source": [
        "wrapped_tokenizer.decode(1)"
      ]
    },
    {
      "cell_type": "code",
      "execution_count": null,
      "metadata": {
        "colab": {
          "base_uri": "https://localhost:8080/"
        },
        "id": "i1v2x6la9pD2",
        "outputId": "dc2aae96-f89c-4e08-b8f4-2183075f307a"
      },
      "outputs": [
        {
          "name": "stdout",
          "output_type": "stream",
          "text": [
            "0\n",
            "1\n",
            "2\n",
            "3\n",
            "4\n"
          ]
        }
      ],
      "source": [
        "for step, batch in enumerate(eval_dataloader):\n",
        "    print(step)"
      ]
    },
    {
      "cell_type": "code",
      "execution_count": null,
      "metadata": {
        "id": "6KSSK2_tS9Vv"
      },
      "outputs": [],
      "source": [
        "actions_seen = 2"
      ]
    },
    {
      "cell_type": "code",
      "execution_count": null,
      "metadata": {
        "colab": {
          "base_uri": "https://localhost:8080/",
          "height": 36
        },
        "id": "NjpA9TMrU-Xy",
        "outputId": "c9c1997f-077d-4409-e090-9687ed876498"
      },
      "outputs": [
        {
          "data": {
            "application/vnd.google.colaboratory.intrinsic+json": {
              "type": "string"
            },
            "text/plain": [
              "'a'"
            ]
          },
          "execution_count": 34,
          "metadata": {},
          "output_type": "execute_result"
        }
      ],
      "source": [
        "actions = \"a b c d\"\n",
        "action_list = actions.split(\" \")\n",
        "\" \".join(action_list[:actions_seen])"
      ]
    },
    {
      "cell_type": "code",
      "execution_count": null,
      "metadata": {
        "id": "c7HKL0M_ToNU"
      },
      "outputs": [],
      "source": [
        "def get_inputs_for_generation(examples):\n",
        "    output = []\n",
        "    for state, actions in zip(examples[\"states\"], examples[\"actions\"]):\n",
        "        example = state + \" <|actions|>\"\n",
        "        action_list = actions.split(\" \")\n",
        "        action_string = \" \".join(action_list[:actions_seen])\n",
        "        if action_string != \"\":\n",
        "            example = example + \" \" + action_string\n",
        "        output.append(example)\n",
        "            \n",
        "    return {\"input\": output}"
      ]
    },
    {
      "cell_type": "code",
      "execution_count": null,
      "metadata": {
        "colab": {
          "base_uri": "https://localhost:8080/",
          "height": 118,
          "referenced_widgets": [
            "8d527d540cea4fc79dde6b019e299b6c",
            "a8846a111b324f65b647123580b4bfe1",
            "e9bf3f281f3b4f22896e86fbb1a1a4c6",
            "0e5d9db6fe6f40a9abb9516370633e18",
            "96a01af99ec44844adc6e68f2a5edc61",
            "97edf1c377fa4734b68a18fe0c8d3893",
            "a4eed68e2a804ddba18f453124cb63d4",
            "be4cbbf8b5c140cdaf2707634cad1285",
            "4f7bc26cd6e04ae9b46316e2674c7196",
            "c960648312a14d56826de08412e3c76e",
            "f430c6460bbc466a9aa23336c6aa2224"
          ]
        },
        "id": "Ow8lW_hgVnJ4",
        "outputId": "058fb008-e712-4a05-f645-8b43a1602df8"
      },
      "outputs": [
        {
          "data": {
            "application/vnd.jupyter.widget-view+json": {
              "model_id": "8d527d540cea4fc79dde6b019e299b6c",
              "version_major": 2,
              "version_minor": 0
            },
            "text/plain": [
              "Running input pre-processing on dataset:   0%|          | 0/1 [00:00<?, ?ba/s]"
            ]
          },
          "metadata": {},
          "output_type": "display_data"
        },
        {
          "data": {
            "text/plain": [
              "Dataset({\n",
              "    features: ['actions_idx', 'eop_idx', 'input'],\n",
              "    num_rows: 20\n",
              "})"
            ]
          },
          "execution_count": 50,
          "metadata": {},
          "output_type": "execute_result"
        }
      ],
      "source": [
        "pre_processed_dataset = dataset.map(\n",
        "            get_inputs_for_generation,\n",
        "            batched=True,\n",
        "            remove_columns=['name', 'states', 'actions'],\n",
        "            desc=\"Running input pre-processing on dataset\",\n",
        "        )\n",
        "pre_processed_dataset['train']"
      ]
    },
    {
      "cell_type": "code",
      "execution_count": null,
      "metadata": {
        "colab": {
          "base_uri": "https://localhost:8080/",
          "height": 118,
          "referenced_widgets": [
            "be3eeb27ba834ebe8cb58346c8c8f743",
            "1337289c51e44d06ac81b1b4b097e281",
            "6ea3bc10ff41446abb9ba26b755b31ac",
            "8897cc75344f4a2cbc309447ded4b3ca",
            "7c82cbb5e8a748f293e35dd7b73375c2",
            "eecb242bccfb4c78a3953b323b049663",
            "aa4619f7adbb4073a83f7b74509ffae5",
            "b44a2a324f0c4bf2a8ad3c6bf3400b1f",
            "b945185d83a84c51b16f8bd9b2abdd4a",
            "e9367d9d6cfe420aa837ddb5c9cd7f08",
            "a94f94c85dd245b2b0c470931c993111"
          ]
        },
        "id": "0n7qNA6WWNjW",
        "outputId": "53aa7ad2-f596-4cc3-c9c4-2f5ea60daeaf"
      },
      "outputs": [
        {
          "data": {
            "application/vnd.jupyter.widget-view+json": {
              "model_id": "be3eeb27ba834ebe8cb58346c8c8f743",
              "version_major": 2,
              "version_minor": 0
            },
            "text/plain": [
              "Running tokenizer on dataset:   0%|          | 0/1 [00:00<?, ?ba/s]"
            ]
          },
          "metadata": {},
          "output_type": "display_data"
        },
        {
          "data": {
            "text/plain": [
              "Dataset({\n",
              "    features: ['actions_idx', 'eop_idx', 'input_ids', 'attention_mask'],\n",
              "    num_rows: 20\n",
              "})"
            ]
          },
          "execution_count": 55,
          "metadata": {},
          "output_type": "execute_result"
        }
      ],
      "source": [
        "tokenized_datasets = pre_processed_dataset.map(\n",
        "            tokenize_function,\n",
        "            batched=True,\n",
        "            remove_columns=['input'],\n",
        "            desc=\"Running tokenizer on dataset\",\n",
        "        )\n",
        "tokenized_datasets['train']"
      ]
    },
    {
      "cell_type": "code",
      "execution_count": null,
      "metadata": {
        "colab": {
          "base_uri": "https://localhost:8080/"
        },
        "id": "4uXHYr9jW4kk",
        "outputId": "a2a3050f-f494-4045-9fb5-888e5224ab7e"
      },
      "outputs": [
        {
          "data": {
            "text/plain": [
              "[[2,\n",
              "  11990,\n",
              "  11993,\n",
              "  12002,\n",
              "  11982,\n",
              "  12017,\n",
              "  15762,\n",
              "  15809,\n",
              "  15795,\n",
              "  13764,\n",
              "  13797,\n",
              "  13777,\n",
              "  15775,\n",
              "  15831,\n",
              "  13755,\n",
              "  15784,\n",
              "  8798,\n",
              "  8789,\n",
              "  8817,\n",
              "  8804,\n",
              "  4,\n",
              "  15783,\n",
              "  13794,\n",
              "  5,\n",
              "  5408,\n",
              "  15091],\n",
              " [2,\n",
              "  11990,\n",
              "  11993,\n",
              "  12002,\n",
              "  11982,\n",
              "  12017,\n",
              "  15762,\n",
              "  15809,\n",
              "  15795,\n",
              "  13764,\n",
              "  13797,\n",
              "  13777,\n",
              "  15775,\n",
              "  15831,\n",
              "  13755,\n",
              "  15784,\n",
              "  8798,\n",
              "  8789,\n",
              "  8817,\n",
              "  8804,\n",
              "  4,\n",
              "  15783,\n",
              "  13794,\n",
              "  5,\n",
              "  15091,\n",
              "  5408],\n",
              " [2,\n",
              "  11990,\n",
              "  11993,\n",
              "  12002,\n",
              "  11982,\n",
              "  12017,\n",
              "  15762,\n",
              "  15809,\n",
              "  15795,\n",
              "  13764,\n",
              "  13797,\n",
              "  13777,\n",
              "  15775,\n",
              "  15831,\n",
              "  13755,\n",
              "  15784,\n",
              "  8798,\n",
              "  8789,\n",
              "  8817,\n",
              "  8804,\n",
              "  4,\n",
              "  15783,\n",
              "  13794,\n",
              "  5,\n",
              "  3784,\n",
              "  2659],\n",
              " [2,\n",
              "  11990,\n",
              "  11993,\n",
              "  12002,\n",
              "  11982,\n",
              "  12017,\n",
              "  15762,\n",
              "  15809,\n",
              "  15795,\n",
              "  13764,\n",
              "  13797,\n",
              "  13777,\n",
              "  15775,\n",
              "  15831,\n",
              "  13755,\n",
              "  15784,\n",
              "  8798,\n",
              "  8789,\n",
              "  8817,\n",
              "  8804,\n",
              "  4,\n",
              "  15783,\n",
              "  13794,\n",
              "  5,\n",
              "  15091,\n",
              "  5408],\n",
              " [2,\n",
              "  11975,\n",
              "  12005,\n",
              "  15813,\n",
              "  13762,\n",
              "  15769,\n",
              "  13791,\n",
              "  15804,\n",
              "  13773,\n",
              "  8830,\n",
              "  8771,\n",
              "  4,\n",
              "  15802,\n",
              "  13773,\n",
              "  5,\n",
              "  12817,\n",
              "  9952],\n",
              " [2,\n",
              "  11975,\n",
              "  12005,\n",
              "  15813,\n",
              "  13762,\n",
              "  15769,\n",
              "  13791,\n",
              "  15804,\n",
              "  13773,\n",
              "  8830,\n",
              "  8771,\n",
              "  4,\n",
              "  15802,\n",
              "  13773,\n",
              "  5,\n",
              "  9952,\n",
              "  12817],\n",
              " [2,\n",
              "  11975,\n",
              "  12005,\n",
              "  15813,\n",
              "  13762,\n",
              "  15769,\n",
              "  13791,\n",
              "  15804,\n",
              "  13773,\n",
              "  8830,\n",
              "  8771,\n",
              "  4,\n",
              "  15802,\n",
              "  13773,\n",
              "  5,\n",
              "  12817,\n",
              "  11537],\n",
              " [2,\n",
              "  11975,\n",
              "  12005,\n",
              "  15813,\n",
              "  13762,\n",
              "  15769,\n",
              "  13791,\n",
              "  15804,\n",
              "  13773,\n",
              "  8830,\n",
              "  8771,\n",
              "  4,\n",
              "  15802,\n",
              "  13773,\n",
              "  5,\n",
              "  12817,\n",
              "  9952],\n",
              " [2,\n",
              "  12010,\n",
              "  11967,\n",
              "  15806,\n",
              "  15762,\n",
              "  15757,\n",
              "  13789,\n",
              "  13796,\n",
              "  15789,\n",
              "  8794,\n",
              "  8801,\n",
              "  4,\n",
              "  15768,\n",
              "  15757,\n",
              "  5,\n",
              "  12040,\n",
              "  11955],\n",
              " [2,\n",
              "  12010,\n",
              "  11967,\n",
              "  15806,\n",
              "  15762,\n",
              "  15757,\n",
              "  13789,\n",
              "  13796,\n",
              "  15789,\n",
              "  8794,\n",
              "  8801,\n",
              "  4,\n",
              "  15768,\n",
              "  15757,\n",
              "  5,\n",
              "  12040,\n",
              "  11955],\n",
              " [2,\n",
              "  12010,\n",
              "  11967,\n",
              "  15806,\n",
              "  15762,\n",
              "  15757,\n",
              "  13789,\n",
              "  13796,\n",
              "  15789,\n",
              "  8794,\n",
              "  8801,\n",
              "  4,\n",
              "  15768,\n",
              "  15757,\n",
              "  5,\n",
              "  12040,\n",
              "  11955],\n",
              " [2,\n",
              "  12010,\n",
              "  11967,\n",
              "  15806,\n",
              "  15762,\n",
              "  15757,\n",
              "  13789,\n",
              "  13796,\n",
              "  15789,\n",
              "  8794,\n",
              "  8801,\n",
              "  4,\n",
              "  15768,\n",
              "  15757,\n",
              "  5,\n",
              "  12040,\n",
              "  11955],\n",
              " [2,\n",
              "  11967,\n",
              "  12009,\n",
              "  15784,\n",
              "  13779,\n",
              "  15800,\n",
              "  13754,\n",
              "  15764,\n",
              "  13795,\n",
              "  8797,\n",
              "  4,\n",
              "  15794,\n",
              "  15781,\n",
              "  5,\n",
              "  3895,\n",
              "  2321],\n",
              " [2,\n",
              "  11967,\n",
              "  12009,\n",
              "  15784,\n",
              "  13779,\n",
              "  15800,\n",
              "  13754,\n",
              "  15764,\n",
              "  13795,\n",
              "  8797,\n",
              "  4,\n",
              "  15794,\n",
              "  15781,\n",
              "  5,\n",
              "  3895,\n",
              "  14941],\n",
              " [2,\n",
              "  12015,\n",
              "  12009,\n",
              "  15799,\n",
              "  15811,\n",
              "  13742,\n",
              "  15752,\n",
              "  13767,\n",
              "  15819,\n",
              "  8767,\n",
              "  8775,\n",
              "  4,\n",
              "  13759,\n",
              "  13767,\n",
              "  5,\n",
              "  2338,\n",
              "  10360],\n",
              " [2,\n",
              "  12015,\n",
              "  12009,\n",
              "  15799,\n",
              "  15811,\n",
              "  13742,\n",
              "  15752,\n",
              "  13767,\n",
              "  15819,\n",
              "  8767,\n",
              "  8775,\n",
              "  4,\n",
              "  13759,\n",
              "  13767,\n",
              "  5,\n",
              "  2338,\n",
              "  10360],\n",
              " [2,\n",
              "  12015,\n",
              "  12009,\n",
              "  15799,\n",
              "  15811,\n",
              "  13742,\n",
              "  15752,\n",
              "  13767,\n",
              "  15819,\n",
              "  8767,\n",
              "  8775,\n",
              "  4,\n",
              "  13759,\n",
              "  13767,\n",
              "  5,\n",
              "  2338,\n",
              "  10360],\n",
              " [2,\n",
              "  11975,\n",
              "  11989,\n",
              "  12016,\n",
              "  11970,\n",
              "  12009,\n",
              "  15780,\n",
              "  15758,\n",
              "  15832,\n",
              "  13786,\n",
              "  15757,\n",
              "  13775,\n",
              "  13742,\n",
              "  15816,\n",
              "  15795,\n",
              "  13770,\n",
              "  8826,\n",
              "  8768,\n",
              "  8808,\n",
              "  8805,\n",
              "  4,\n",
              "  13743,\n",
              "  15757,\n",
              "  5,\n",
              "  13143,\n",
              "  11587],\n",
              " [2,\n",
              "  11975,\n",
              "  11989,\n",
              "  12016,\n",
              "  11970,\n",
              "  12009,\n",
              "  15780,\n",
              "  15758,\n",
              "  15832,\n",
              "  13786,\n",
              "  15757,\n",
              "  13775,\n",
              "  13742,\n",
              "  15816,\n",
              "  15795,\n",
              "  13770,\n",
              "  8826,\n",
              "  8768,\n",
              "  8808,\n",
              "  8805,\n",
              "  4,\n",
              "  13743,\n",
              "  15757,\n",
              "  5,\n",
              "  13143,\n",
              "  11544],\n",
              " [2,\n",
              "  12001,\n",
              "  11985,\n",
              "  11975,\n",
              "  11972,\n",
              "  12013,\n",
              "  15796,\n",
              "  13789,\n",
              "  15755,\n",
              "  15808,\n",
              "  15828,\n",
              "  15816,\n",
              "  13762,\n",
              "  15770,\n",
              "  15781,\n",
              "  15762,\n",
              "  8788,\n",
              "  8823,\n",
              "  8767,\n",
              "  8809,\n",
              "  4,\n",
              "  15753,\n",
              "  13744,\n",
              "  5,\n",
              "  10206,\n",
              "  10657]]"
            ]
          },
          "execution_count": 56,
          "metadata": {},
          "output_type": "execute_result"
        }
      ],
      "source": [
        "tokenized_datasets['train']['input_ids']"
      ]
    },
    {
      "cell_type": "code",
      "execution_count": null,
      "metadata": {
        "id": "BMfbrdYlxnAE"
      },
      "outputs": [],
      "source": [
        "def tokenize_function(examples):\n",
        "    output = wrapped_tokenizer(examples['input'],\n",
        "                               # max_length=context_length,\n",
        "                               # padding='max_length',\n",
        "                               return_token_type_ids=False,\n",
        "                               # return_tensors='pt',\n",
        "                               # max_length=512,\n",
        "                               )\n",
        "    return output"
      ]
    },
    {
      "cell_type": "code",
      "execution_count": null,
      "metadata": {
        "colab": {
          "base_uri": "https://localhost:8080/"
        },
        "id": "gAcmdhP6S0q6",
        "outputId": "7c39cc0d-5f8f-42af-9c52-edb3c38a0cb1"
      },
      "outputs": [
        {
          "data": {
            "text/plain": [
              "['attru1pos13 attru2pos11 attru5pos77 attru3pos23 attru4pos21 atobj55pos11 atobj99pos22 atobj66pos11 atobj12pos11 atobj22pos11 atobj21pos77 atobj44pos21 atobj88pos22 atobj13pos22 atobj77pos11 atapn8apt4 atapn5apt4 atapn4apt4 atapn2apt3 <|goals|> atobj77pos66 atobj21pos13',\n",
              " 'attru1pos13 attru2pos11 attru5pos77 attru3pos23 attru4pos21 atobj55pos11 atobj99pos22 atobj66pos11 atobj12pos11 atobj22pos11 atobj21pos77 atobj44pos21 atobj88pos22 atobj13pos22 atobj77pos11 atapn8apt4 atapn5apt4 atapn4apt4 atapn2apt3 <|goals|> atobj77pos66 atobj21pos13',\n",
              " 'attru1pos13 attru2pos11 attru5pos77 attru3pos23 attru4pos21 atobj55pos11 atobj99pos22 atobj66pos11 atobj12pos11 atobj22pos11 atobj21pos77 atobj44pos21 atobj88pos22 atobj13pos22 atobj77pos11 atapn8apt4 atapn5apt4 atapn4apt4 atapn2apt3 <|goals|> atobj77pos66 atobj21pos13',\n",
              " 'attru1pos13 attru2pos11 attru5pos77 attru3pos23 attru4pos21 atobj55pos11 atobj99pos22 atobj66pos11 atobj12pos11 atobj22pos11 atobj21pos77 atobj44pos21 atobj88pos22 atobj13pos22 atobj77pos11 atapn8apt4 atapn5apt4 atapn4apt4 atapn2apt3 <|goals|> atobj77pos66 atobj21pos13',\n",
              " 'attru2pos55 attru5pos12 atobj00pos55 atobj11pos23 atobj44pos55 atobj21pos12 atobj99pos77 atobj23pos77 atapn8apt8 atapn3apt4 <|goals|> atobj99pos55 atobj23pos77',\n",
              " 'attru2pos55 attru5pos12 atobj00pos55 atobj11pos23 atobj44pos55 atobj21pos12 atobj99pos77 atobj23pos77 atapn8apt8 atapn3apt4 <|goals|> atobj99pos55 atobj23pos77',\n",
              " 'attru2pos55 attru5pos12 atobj00pos55 atobj11pos23 atobj44pos55 atobj21pos12 atobj99pos77 atobj23pos77 atapn8apt8 atapn3apt4 <|goals|> atobj99pos55 atobj23pos77',\n",
              " 'attru2pos55 attru5pos12 atobj00pos55 atobj11pos23 atobj44pos55 atobj21pos12 atobj99pos77 atobj23pos77 atapn8apt8 atapn3apt4 <|goals|> atobj99pos55 atobj23pos77',\n",
              " 'attru5pos33 attru3pos55 atobj99pos11 atobj55pos11 atobj33pos33 atobj23pos33 atobj21pos33 atobj77pos23 atapn6apt5 atapn8apt5 <|goals|> atobj55pos33 atobj33pos33',\n",
              " 'attru5pos33 attru3pos55 atobj99pos11 atobj55pos11 atobj33pos33 atobj23pos33 atobj21pos33 atobj77pos23 atapn6apt5 atapn8apt5 <|goals|> atobj55pos33 atobj33pos33',\n",
              " 'attru5pos33 attru3pos55 atobj99pos11 atobj55pos11 atobj33pos33 atobj23pos33 atobj21pos33 atobj77pos23 atapn6apt5 atapn8apt5 <|goals|> atobj55pos33 atobj33pos33',\n",
              " 'attru5pos33 attru3pos55 atobj99pos11 atobj55pos11 atobj33pos33 atobj23pos33 atobj21pos33 atobj77pos23 atapn6apt5 atapn8apt5 <|goals|> atobj55pos33 atobj33pos33',\n",
              " 'attru3pos55 attru5pos23 atobj77pos11 atobj22pos55 atobj66pos23 atobj13pos21 atobj55pos21 atobj21pos23 atapn6apt8 <|goals|> atobj66pos66 atobj77pos44',\n",
              " 'attru3pos55 attru5pos23 atobj77pos11 atobj22pos55 atobj66pos23 atobj13pos21 atobj55pos21 atobj21pos23 atapn6apt8 <|goals|> atobj66pos66 atobj77pos44',\n",
              " 'attru4pos11 attru5pos23 atobj66pos13 atobj99pos23 atobj11pos55 atobj33pos11 atobj12pos22 atobj00pos21 atapn3apt5 atapn2apt6 <|goals|> atobj11pos21 atobj12pos22',\n",
              " 'attru4pos11 attru5pos23 atobj66pos13 atobj99pos23 atobj11pos55 atobj33pos11 atobj12pos22 atobj00pos21 atapn3apt5 atapn2apt6 <|goals|> atobj11pos21 atobj12pos22',\n",
              " 'attru4pos11 attru5pos23 atobj66pos13 atobj99pos23 atobj11pos55 atobj33pos11 atobj12pos22 atobj00pos21 atapn3apt5 atapn2apt6 <|goals|> atobj11pos21 atobj12pos22',\n",
              " 'attru2pos55 attru1pos22 attru4pos12 attru3pos66 attru5pos23 atobj77pos55 atobj55pos55 atobj88pos13 atobj23pos23 atobj33pos33 atobj21pos55 atobj11pos55 atobj00pos66 atobj66pos11 atobj12pos33 atapn8apt1 atapn3apt7 atapn4apt3 atapn2apt1 <|goals|> atobj11pos44 atobj33pos33',\n",
              " 'attru2pos55 attru1pos22 attru4pos12 attru3pos66 attru5pos23 atobj77pos55 atobj55pos55 atobj88pos13 atobj23pos23 atobj33pos33 atobj21pos55 atobj11pos55 atobj00pos66 atobj66pos11 atobj12pos33 atapn8apt1 atapn3apt7 atapn4apt3 atapn2apt1 <|goals|> atobj11pos44 atobj33pos33',\n",
              " 'attru5pos44 attru3pos33 attru2pos55 attru1pos44 attru4pos77 atobj66pos12 atobj23pos33 atobj33pos21 atobj99pos21 atobj88pos11 atobj00pos66 atobj11pos23 atobj44pos44 atobj77pos44 atobj55pos11 atapn5apt8 atapn6apt1 atapn3apt5 atapn4apt1 <|goals|> atobj33pos12 atobj11pos77']"
            ]
          },
          "execution_count": 26,
          "metadata": {},
          "output_type": "execute_result"
        }
      ],
      "source": [
        "dataset['train']['states']"
      ]
    },
    {
      "cell_type": "code",
      "execution_count": 6,
      "metadata": {},
      "outputs": [
        {
          "data": {
            "application/vnd.jupyter.widget-view+json": {
              "model_id": "75a38fed15ce483a9d289e159c16aa64",
              "version_major": 2,
              "version_minor": 0
            },
            "text/plain": [
              "Resolving data files:   0%|          | 0/24 [00:00<?, ?it/s]"
            ]
          },
          "metadata": {},
          "output_type": "display_data"
        },
        {
          "name": "stderr",
          "output_type": "stream",
          "text": [
            "Using custom data configuration default-0dcd2dfd92889ae4\n"
          ]
        },
        {
          "name": "stdout",
          "output_type": "stream",
          "text": [
            "Downloading and preparing dataset json/default to C:/Users/drunp/.cache/huggingface/datasets/json/default-0dcd2dfd92889ae4/0.0.0/e6070c77f18f01a5ad4551a8b7edfba20b8438b7cad4d94e6ad9378022ce4aab...\n"
          ]
        },
        {
          "data": {
            "application/vnd.jupyter.widget-view+json": {
              "model_id": "0bc4f7641426489b9cf5b37748c883e7",
              "version_major": 2,
              "version_minor": 0
            },
            "text/plain": [
              "Downloading data files:   0%|          | 0/3 [00:00<?, ?it/s]"
            ]
          },
          "metadata": {},
          "output_type": "display_data"
        },
        {
          "data": {
            "application/vnd.jupyter.widget-view+json": {
              "model_id": "d116edb7dd85458db44e398bfdc8c184",
              "version_major": 2,
              "version_minor": 0
            },
            "text/plain": [
              "Extracting data files:   0%|          | 0/3 [00:00<?, ?it/s]"
            ]
          },
          "metadata": {},
          "output_type": "display_data"
        },
        {
          "data": {
            "application/vnd.jupyter.widget-view+json": {
              "model_id": "ec2d0a5c991348278253096fccf43292",
              "version_major": 2,
              "version_minor": 0
            },
            "text/plain": [
              "0 tables [00:00, ? tables/s]"
            ]
          },
          "metadata": {},
          "output_type": "display_data"
        },
        {
          "data": {
            "application/vnd.jupyter.widget-view+json": {
              "model_id": "907c92fc26bb4a41918f06372cbd5e30",
              "version_major": 2,
              "version_minor": 0
            },
            "text/plain": [
              "0 tables [00:00, ? tables/s]"
            ]
          },
          "metadata": {},
          "output_type": "display_data"
        },
        {
          "data": {
            "application/vnd.jupyter.widget-view+json": {
              "model_id": "458489be271f4229bc8a711260d275c2",
              "version_major": 2,
              "version_minor": 0
            },
            "text/plain": [
              "0 tables [00:00, ? tables/s]"
            ]
          },
          "metadata": {},
          "output_type": "display_data"
        },
        {
          "name": "stdout",
          "output_type": "stream",
          "text": [
            "Dataset json downloaded and prepared to C:/Users/drunp/.cache/huggingface/datasets/json/default-0dcd2dfd92889ae4/0.0.0/e6070c77f18f01a5ad4551a8b7edfba20b8438b7cad4d94e6ad9378022ce4aab. Subsequent calls will reuse this data.\n"
          ]
        },
        {
          "data": {
            "application/vnd.jupyter.widget-view+json": {
              "model_id": "9169b3b9f5a3487ba89c6cbd3306b2cd",
              "version_major": 2,
              "version_minor": 0
            },
            "text/plain": [
              "  0%|          | 0/3 [00:00<?, ?it/s]"
            ]
          },
          "metadata": {},
          "output_type": "display_data"
        }
      ],
      "source": [
        "raw_datasets = datasets.load_dataset(\"json\", data_dir=\"..\\plans\\json\\plans_with_invariants\")"
      ]
    },
    {
      "cell_type": "code",
      "execution_count": 16,
      "metadata": {},
      "outputs": [
        {
          "data": {
            "text/plain": [
              "['atobj12pos13',\n",
              " 'atobj21pos33',\n",
              " 'attru5pos12',\n",
              " 'attru3pos13',\n",
              " '<|goals|>',\n",
              " 'atobj14pos33']"
            ]
          },
          "execution_count": 16,
          "metadata": {},
          "output_type": "execute_result"
        }
      ],
      "source": [
        "pippo = \"atobj12pos13 atobj21pos33 attru5pos12 attru3pos13 <|goals|> atobj14pos33\"\n",
        "pippo.split(\" \")"
      ]
    },
    {
      "cell_type": "code",
      "execution_count": 17,
      "metadata": {},
      "outputs": [],
      "source": [
        "a, b = pippo.split(\" <|goals|> \")"
      ]
    },
    {
      "cell_type": "code",
      "execution_count": 18,
      "metadata": {},
      "outputs": [
        {
          "data": {
            "text/plain": [
              "('atobj12pos13 atobj21pos33 attru5pos12 attru3pos13', 'atobj14pos33')"
            ]
          },
          "execution_count": 18,
          "metadata": {},
          "output_type": "execute_result"
        }
      ],
      "source": [
        "a, b"
      ]
    },
    {
      "cell_type": "code",
      "execution_count": null,
      "metadata": {},
      "outputs": [],
      "source": [
        "import random"
      ]
    },
    {
      "cell_type": "code",
      "execution_count": 47,
      "metadata": {},
      "outputs": [
        {
          "name": "stdout",
          "output_type": "stream",
          "text": [
            "['atobj12pos13', 'atobj21pos33', 'attru5pos12', 'attru3pos13']\n",
            "['atobj12pos13', 'attru5pos12', 'attru3pos13', 'atobj21pos33']\n"
          ]
        }
      ],
      "source": [
        "random.seed(8)\n",
        "c = a.split(\" \")\n",
        "print(c)\n",
        "random.shuffle(c)\n",
        "print(c)"
      ]
    },
    {
      "cell_type": "code",
      "execution_count": 51,
      "metadata": {},
      "outputs": [],
      "source": [
        "def shuffle_initial_state(examples):\n",
        "    output = []\n",
        "    for state in examples[\"states\"]:\n",
        "        initial_state_fluents, goals = state.split(\" <|goals|> \")\n",
        "        initial_state_fluents = initial_state_fluents.split(\" \")\n",
        "        random.shuffle(initial_state_fluents)\n",
        "        \n",
        "        new_state = \" \".join(initial_state_fluents) + \" <|goals|> \" + goals\n",
        "        output.append(new_state)\n",
        "    return {\"states_shuffled\": output}"
      ]
    },
    {
      "cell_type": "code",
      "execution_count": 52,
      "metadata": {},
      "outputs": [
        {
          "data": {
            "application/vnd.jupyter.widget-view+json": {
              "model_id": "12daa9ca407c49a59d49815be15c835a",
              "version_major": 2,
              "version_minor": 0
            },
            "text/plain": [
              "Running input pre-processing on dataset:   0%|          | 0/430 [00:00<?, ?ba/s]"
            ]
          },
          "metadata": {},
          "output_type": "display_data"
        },
        {
          "data": {
            "application/vnd.jupyter.widget-view+json": {
              "model_id": "47ef9c1c2a1f46a99f81ead9185e71e0",
              "version_major": 2,
              "version_minor": 0
            },
            "text/plain": [
              "Running input pre-processing on dataset:   0%|          | 0/226 [00:00<?, ?ba/s]"
            ]
          },
          "metadata": {},
          "output_type": "display_data"
        },
        {
          "data": {
            "application/vnd.jupyter.widget-view+json": {
              "model_id": "f914f21c03a345bf8fcae6bbbc0b2f7c",
              "version_major": 2,
              "version_minor": 0
            },
            "text/plain": [
              "Running input pre-processing on dataset:   0%|          | 0/237 [00:00<?, ?ba/s]"
            ]
          },
          "metadata": {},
          "output_type": "display_data"
        }
      ],
      "source": [
        "pre_processed_dataset = raw_datasets.map(\n",
        "    shuffle_initial_state,\n",
        "    batched=True,\n",
        "    remove_columns=[\"name\", \"actions\"],\n",
        "    desc=\"Running input pre-processing on dataset\",\n",
        ")"
      ]
    },
    {
      "cell_type": "code",
      "execution_count": 1,
      "metadata": {},
      "outputs": [
        {
          "ename": "NameError",
          "evalue": "name 'pre_processed_dataset' is not defined",
          "output_type": "error",
          "traceback": [
            "\u001b[1;31m---------------------------------------------------------------------------\u001b[0m",
            "\u001b[1;31mNameError\u001b[0m                                 Traceback (most recent call last)",
            "Cell \u001b[1;32mIn [1], line 1\u001b[0m\n\u001b[1;32m----> 1\u001b[0m pre_processed_dataset[\u001b[39m'\u001b[39m\u001b[39mtrain\u001b[39m\u001b[39m'\u001b[39m][\u001b[39m0\u001b[39m]\n",
            "\u001b[1;31mNameError\u001b[0m: name 'pre_processed_dataset' is not defined"
          ]
        }
      ],
      "source": [
        "pre_processed_dataset['train'][0]"
      ]
    },
    {
      "cell_type": "code",
      "execution_count": 5,
      "metadata": {},
      "outputs": [
        {
          "data": {
            "text/plain": [
              "tensor(0)"
            ]
          },
          "execution_count": 5,
          "metadata": {},
          "output_type": "execute_result"
        }
      ],
      "source": [
        "t = torch.tensor([1, 2, 1, 3, 4, 5])\n",
        "pad_idx = (t == 1).nonzero(as_tuple=True)[0]\n",
        "pad_idx[0]"
      ]
    }
  ],
  "metadata": {
    "colab": {
      "provenance": []
    },
    "kernelspec": {
      "display_name": "tesi",
      "language": "python",
      "name": "python3"
    },
    "language_info": {
      "codemirror_mode": {
        "name": "ipython",
        "version": 3
      },
      "file_extension": ".py",
      "mimetype": "text/x-python",
      "name": "python",
      "nbconvert_exporter": "python",
      "pygments_lexer": "ipython3",
      "version": "3.9.13"
    },
    "vscode": {
      "interpreter": {
        "hash": "d1876366694974f7abab3ee85f4982a53be516a492161455cd603b1b397c8307"
      }
    },
    "widgets": {
      "application/vnd.jupyter.widget-state+json": {
        "00301207d1114890b17b35f687a6b88e": {
          "model_module": "@jupyter-widgets/controls",
          "model_module_version": "1.5.0",
          "model_name": "HTMLModel",
          "state": {
            "_dom_classes": [],
            "_model_module": "@jupyter-widgets/controls",
            "_model_module_version": "1.5.0",
            "_model_name": "HTMLModel",
            "_view_count": null,
            "_view_module": "@jupyter-widgets/controls",
            "_view_module_version": "1.5.0",
            "_view_name": "HTMLView",
            "description": "",
            "description_tooltip": null,
            "layout": "IPY_MODEL_dc14c6a1741a4a768d177d5b20609ff4",
            "placeholder": "​",
            "style": "IPY_MODEL_ff8e8527e80d4d5ebeb0026334a2b6fd",
            "value": "Running tokenizer on dataset: 100%"
          }
        },
        "0911ac7366564e419e5f5fa96e768fc9": {
          "model_module": "@jupyter-widgets/controls",
          "model_module_version": "1.5.0",
          "model_name": "FloatProgressModel",
          "state": {
            "_dom_classes": [],
            "_model_module": "@jupyter-widgets/controls",
            "_model_module_version": "1.5.0",
            "_model_name": "FloatProgressModel",
            "_view_count": null,
            "_view_module": "@jupyter-widgets/controls",
            "_view_module_version": "1.5.0",
            "_view_name": "ProgressView",
            "bar_style": "success",
            "description": "",
            "description_tooltip": null,
            "layout": "IPY_MODEL_decaaf8fb7934f6585e386f56a649c39",
            "max": 1,
            "min": 0,
            "orientation": "horizontal",
            "style": "IPY_MODEL_e2f6967c715f4beb83d7b85d1b212613",
            "value": 1
          }
        },
        "0e5d9db6fe6f40a9abb9516370633e18": {
          "model_module": "@jupyter-widgets/controls",
          "model_module_version": "1.5.0",
          "model_name": "HTMLModel",
          "state": {
            "_dom_classes": [],
            "_model_module": "@jupyter-widgets/controls",
            "_model_module_version": "1.5.0",
            "_model_name": "HTMLModel",
            "_view_count": null,
            "_view_module": "@jupyter-widgets/controls",
            "_view_module_version": "1.5.0",
            "_view_name": "HTMLView",
            "description": "",
            "description_tooltip": null,
            "layout": "IPY_MODEL_c960648312a14d56826de08412e3c76e",
            "placeholder": "​",
            "style": "IPY_MODEL_f430c6460bbc466a9aa23336c6aa2224",
            "value": " 1/1 [00:00&lt;00:00, 19.85ba/s]"
          }
        },
        "12fc3571a9514a65abbfc9d8c49b12f2": {
          "model_module": "@jupyter-widgets/controls",
          "model_module_version": "1.5.0",
          "model_name": "HTMLModel",
          "state": {
            "_dom_classes": [],
            "_model_module": "@jupyter-widgets/controls",
            "_model_module_version": "1.5.0",
            "_model_name": "HTMLModel",
            "_view_count": null,
            "_view_module": "@jupyter-widgets/controls",
            "_view_module_version": "1.5.0",
            "_view_name": "HTMLView",
            "description": "",
            "description_tooltip": null,
            "layout": "IPY_MODEL_685ada9f70e34c95a0cfd6c7fa7eca90",
            "placeholder": "​",
            "style": "IPY_MODEL_68e2c9a590104fbc8ee5a9a7d363e1cd",
            "value": "Extracting data files: 100%"
          }
        },
        "1337289c51e44d06ac81b1b4b097e281": {
          "model_module": "@jupyter-widgets/controls",
          "model_module_version": "1.5.0",
          "model_name": "HTMLModel",
          "state": {
            "_dom_classes": [],
            "_model_module": "@jupyter-widgets/controls",
            "_model_module_version": "1.5.0",
            "_model_name": "HTMLModel",
            "_view_count": null,
            "_view_module": "@jupyter-widgets/controls",
            "_view_module_version": "1.5.0",
            "_view_name": "HTMLView",
            "description": "",
            "description_tooltip": null,
            "layout": "IPY_MODEL_eecb242bccfb4c78a3953b323b049663",
            "placeholder": "​",
            "style": "IPY_MODEL_aa4619f7adbb4073a83f7b74509ffae5",
            "value": "Running tokenizer on dataset: 100%"
          }
        },
        "1bfe142f44164cf5b0c6feb215532676": {
          "model_module": "@jupyter-widgets/base",
          "model_module_version": "1.2.0",
          "model_name": "LayoutModel",
          "state": {
            "_model_module": "@jupyter-widgets/base",
            "_model_module_version": "1.2.0",
            "_model_name": "LayoutModel",
            "_view_count": null,
            "_view_module": "@jupyter-widgets/base",
            "_view_module_version": "1.2.0",
            "_view_name": "LayoutView",
            "align_content": null,
            "align_items": null,
            "align_self": null,
            "border": null,
            "bottom": null,
            "display": null,
            "flex": null,
            "flex_flow": null,
            "grid_area": null,
            "grid_auto_columns": null,
            "grid_auto_flow": null,
            "grid_auto_rows": null,
            "grid_column": null,
            "grid_gap": null,
            "grid_row": null,
            "grid_template_areas": null,
            "grid_template_columns": null,
            "grid_template_rows": null,
            "height": null,
            "justify_content": null,
            "justify_items": null,
            "left": null,
            "margin": null,
            "max_height": null,
            "max_width": null,
            "min_height": null,
            "min_width": null,
            "object_fit": null,
            "object_position": null,
            "order": null,
            "overflow": null,
            "overflow_x": null,
            "overflow_y": null,
            "padding": null,
            "right": null,
            "top": null,
            "visibility": null,
            "width": null
          }
        },
        "1f5d886890434eae8d5cdcd1ebad241c": {
          "model_module": "@jupyter-widgets/controls",
          "model_module_version": "1.5.0",
          "model_name": "ProgressStyleModel",
          "state": {
            "_model_module": "@jupyter-widgets/controls",
            "_model_module_version": "1.5.0",
            "_model_name": "ProgressStyleModel",
            "_view_count": null,
            "_view_module": "@jupyter-widgets/base",
            "_view_module_version": "1.2.0",
            "_view_name": "StyleView",
            "bar_color": null,
            "description_width": ""
          }
        },
        "24653a49f98c427982c53b199a33ec71": {
          "model_module": "@jupyter-widgets/controls",
          "model_module_version": "1.5.0",
          "model_name": "HTMLModel",
          "state": {
            "_dom_classes": [],
            "_model_module": "@jupyter-widgets/controls",
            "_model_module_version": "1.5.0",
            "_model_name": "HTMLModel",
            "_view_count": null,
            "_view_module": "@jupyter-widgets/controls",
            "_view_module_version": "1.5.0",
            "_view_name": "HTMLView",
            "description": "",
            "description_tooltip": null,
            "layout": "IPY_MODEL_c472accb8bc8478593b8c38152a60664",
            "placeholder": "​",
            "style": "IPY_MODEL_cfd3fd00d29140ed972d3556bfdb6df4",
            "value": " 0/0 [00:00&lt;?, ? examples/s]"
          }
        },
        "340a429620524c46a371cb32020c7f27": {
          "model_module": "@jupyter-widgets/controls",
          "model_module_version": "1.5.0",
          "model_name": "HBoxModel",
          "state": {
            "_dom_classes": [],
            "_model_module": "@jupyter-widgets/controls",
            "_model_module_version": "1.5.0",
            "_model_name": "HBoxModel",
            "_view_count": null,
            "_view_module": "@jupyter-widgets/controls",
            "_view_module_version": "1.5.0",
            "_view_name": "HBoxView",
            "box_style": "",
            "children": [
              "IPY_MODEL_39a161ad8c624a56b332375f7e4fd804",
              "IPY_MODEL_5362962942ce4c94a8acc6efa6ae76dc",
              "IPY_MODEL_24653a49f98c427982c53b199a33ec71"
            ],
            "layout": "IPY_MODEL_fe43e1483c0148329d555282a47f9306"
          }
        },
        "34994c5aaa2d4d359a1d3843889e3bfd": {
          "model_module": "@jupyter-widgets/controls",
          "model_module_version": "1.5.0",
          "model_name": "HTMLModel",
          "state": {
            "_dom_classes": [],
            "_model_module": "@jupyter-widgets/controls",
            "_model_module_version": "1.5.0",
            "_model_name": "HTMLModel",
            "_view_count": null,
            "_view_module": "@jupyter-widgets/controls",
            "_view_module_version": "1.5.0",
            "_view_name": "HTMLView",
            "description": "",
            "description_tooltip": null,
            "layout": "IPY_MODEL_91607fa6c1804d82b74c4c1ef2802d1e",
            "placeholder": "​",
            "style": "IPY_MODEL_ab61d6e3b6824437b6a63544bf8a28a2",
            "value": " 1/1 [00:00&lt;00:00, 26.46it/s]"
          }
        },
        "396baf5c25b84765af45e106d605ba5b": {
          "model_module": "@jupyter-widgets/controls",
          "model_module_version": "1.5.0",
          "model_name": "DescriptionStyleModel",
          "state": {
            "_model_module": "@jupyter-widgets/controls",
            "_model_module_version": "1.5.0",
            "_model_name": "DescriptionStyleModel",
            "_view_count": null,
            "_view_module": "@jupyter-widgets/base",
            "_view_module_version": "1.2.0",
            "_view_name": "StyleView",
            "description_width": ""
          }
        },
        "39a161ad8c624a56b332375f7e4fd804": {
          "model_module": "@jupyter-widgets/controls",
          "model_module_version": "1.5.0",
          "model_name": "HTMLModel",
          "state": {
            "_dom_classes": [],
            "_model_module": "@jupyter-widgets/controls",
            "_model_module_version": "1.5.0",
            "_model_name": "HTMLModel",
            "_view_count": null,
            "_view_module": "@jupyter-widgets/controls",
            "_view_module_version": "1.5.0",
            "_view_name": "HTMLView",
            "description": "",
            "description_tooltip": null,
            "layout": "IPY_MODEL_5142ef31733741dc969a24186c23d933",
            "placeholder": "​",
            "style": "IPY_MODEL_c04175d946db4b03b889e53c54e1cfff",
            "value": "Generating train split: "
          }
        },
        "3be59165aa9e4f6db32fe86e5f140161": {
          "model_module": "@jupyter-widgets/controls",
          "model_module_version": "1.5.0",
          "model_name": "HTMLModel",
          "state": {
            "_dom_classes": [],
            "_model_module": "@jupyter-widgets/controls",
            "_model_module_version": "1.5.0",
            "_model_name": "HTMLModel",
            "_view_count": null,
            "_view_module": "@jupyter-widgets/controls",
            "_view_module_version": "1.5.0",
            "_view_name": "HTMLView",
            "description": "",
            "description_tooltip": null,
            "layout": "IPY_MODEL_c6c5fa87fb374735a27455a6402f5746",
            "placeholder": "​",
            "style": "IPY_MODEL_b5273bc258604ade8802acc7fbfc335f",
            "value": " 1/1 [00:00&lt;00:00,  6.47ba/s]"
          }
        },
        "4f7bc26cd6e04ae9b46316e2674c7196": {
          "model_module": "@jupyter-widgets/controls",
          "model_module_version": "1.5.0",
          "model_name": "ProgressStyleModel",
          "state": {
            "_model_module": "@jupyter-widgets/controls",
            "_model_module_version": "1.5.0",
            "_model_name": "ProgressStyleModel",
            "_view_count": null,
            "_view_module": "@jupyter-widgets/base",
            "_view_module_version": "1.2.0",
            "_view_name": "StyleView",
            "bar_color": null,
            "description_width": ""
          }
        },
        "505fc961d6cb4aa0a1cc02917303dca3": {
          "model_module": "@jupyter-widgets/base",
          "model_module_version": "1.2.0",
          "model_name": "LayoutModel",
          "state": {
            "_model_module": "@jupyter-widgets/base",
            "_model_module_version": "1.2.0",
            "_model_name": "LayoutModel",
            "_view_count": null,
            "_view_module": "@jupyter-widgets/base",
            "_view_module_version": "1.2.0",
            "_view_name": "LayoutView",
            "align_content": null,
            "align_items": null,
            "align_self": null,
            "border": null,
            "bottom": null,
            "display": null,
            "flex": null,
            "flex_flow": null,
            "grid_area": null,
            "grid_auto_columns": null,
            "grid_auto_flow": null,
            "grid_auto_rows": null,
            "grid_column": null,
            "grid_gap": null,
            "grid_row": null,
            "grid_template_areas": null,
            "grid_template_columns": null,
            "grid_template_rows": null,
            "height": null,
            "justify_content": null,
            "justify_items": null,
            "left": null,
            "margin": null,
            "max_height": null,
            "max_width": null,
            "min_height": null,
            "min_width": null,
            "object_fit": null,
            "object_position": null,
            "order": null,
            "overflow": null,
            "overflow_x": null,
            "overflow_y": null,
            "padding": null,
            "right": null,
            "top": null,
            "visibility": null,
            "width": "20px"
          }
        },
        "5142ef31733741dc969a24186c23d933": {
          "model_module": "@jupyter-widgets/base",
          "model_module_version": "1.2.0",
          "model_name": "LayoutModel",
          "state": {
            "_model_module": "@jupyter-widgets/base",
            "_model_module_version": "1.2.0",
            "_model_name": "LayoutModel",
            "_view_count": null,
            "_view_module": "@jupyter-widgets/base",
            "_view_module_version": "1.2.0",
            "_view_name": "LayoutView",
            "align_content": null,
            "align_items": null,
            "align_self": null,
            "border": null,
            "bottom": null,
            "display": null,
            "flex": null,
            "flex_flow": null,
            "grid_area": null,
            "grid_auto_columns": null,
            "grid_auto_flow": null,
            "grid_auto_rows": null,
            "grid_column": null,
            "grid_gap": null,
            "grid_row": null,
            "grid_template_areas": null,
            "grid_template_columns": null,
            "grid_template_rows": null,
            "height": null,
            "justify_content": null,
            "justify_items": null,
            "left": null,
            "margin": null,
            "max_height": null,
            "max_width": null,
            "min_height": null,
            "min_width": null,
            "object_fit": null,
            "object_position": null,
            "order": null,
            "overflow": null,
            "overflow_x": null,
            "overflow_y": null,
            "padding": null,
            "right": null,
            "top": null,
            "visibility": null,
            "width": null
          }
        },
        "5362962942ce4c94a8acc6efa6ae76dc": {
          "model_module": "@jupyter-widgets/controls",
          "model_module_version": "1.5.0",
          "model_name": "FloatProgressModel",
          "state": {
            "_dom_classes": [],
            "_model_module": "@jupyter-widgets/controls",
            "_model_module_version": "1.5.0",
            "_model_name": "FloatProgressModel",
            "_view_count": null,
            "_view_module": "@jupyter-widgets/controls",
            "_view_module_version": "1.5.0",
            "_view_name": "ProgressView",
            "bar_style": "info",
            "description": "",
            "description_tooltip": null,
            "layout": "IPY_MODEL_505fc961d6cb4aa0a1cc02917303dca3",
            "max": 1,
            "min": 0,
            "orientation": "horizontal",
            "style": "IPY_MODEL_a921a29e0c0a4fd5aff030add1f353a3",
            "value": 1
          }
        },
        "566095e6fc9f4b9ab060132a004f7f38": {
          "model_module": "@jupyter-widgets/base",
          "model_module_version": "1.2.0",
          "model_name": "LayoutModel",
          "state": {
            "_model_module": "@jupyter-widgets/base",
            "_model_module_version": "1.2.0",
            "_model_name": "LayoutModel",
            "_view_count": null,
            "_view_module": "@jupyter-widgets/base",
            "_view_module_version": "1.2.0",
            "_view_name": "LayoutView",
            "align_content": null,
            "align_items": null,
            "align_self": null,
            "border": null,
            "bottom": null,
            "display": null,
            "flex": null,
            "flex_flow": null,
            "grid_area": null,
            "grid_auto_columns": null,
            "grid_auto_flow": null,
            "grid_auto_rows": null,
            "grid_column": null,
            "grid_gap": null,
            "grid_row": null,
            "grid_template_areas": null,
            "grid_template_columns": null,
            "grid_template_rows": null,
            "height": null,
            "justify_content": null,
            "justify_items": null,
            "left": null,
            "margin": null,
            "max_height": null,
            "max_width": null,
            "min_height": null,
            "min_width": null,
            "object_fit": null,
            "object_position": null,
            "order": null,
            "overflow": null,
            "overflow_x": null,
            "overflow_y": null,
            "padding": null,
            "right": null,
            "top": null,
            "visibility": null,
            "width": null
          }
        },
        "593838f918d24bb69e54f24181bf195f": {
          "model_module": "@jupyter-widgets/controls",
          "model_module_version": "1.5.0",
          "model_name": "DescriptionStyleModel",
          "state": {
            "_model_module": "@jupyter-widgets/controls",
            "_model_module_version": "1.5.0",
            "_model_name": "DescriptionStyleModel",
            "_view_count": null,
            "_view_module": "@jupyter-widgets/base",
            "_view_module_version": "1.2.0",
            "_view_name": "StyleView",
            "description_width": ""
          }
        },
        "666dff0f4e084c1eb06a78f9d47d53a1": {
          "model_module": "@jupyter-widgets/base",
          "model_module_version": "1.2.0",
          "model_name": "LayoutModel",
          "state": {
            "_model_module": "@jupyter-widgets/base",
            "_model_module_version": "1.2.0",
            "_model_name": "LayoutModel",
            "_view_count": null,
            "_view_module": "@jupyter-widgets/base",
            "_view_module_version": "1.2.0",
            "_view_name": "LayoutView",
            "align_content": null,
            "align_items": null,
            "align_self": null,
            "border": null,
            "bottom": null,
            "display": null,
            "flex": null,
            "flex_flow": null,
            "grid_area": null,
            "grid_auto_columns": null,
            "grid_auto_flow": null,
            "grid_auto_rows": null,
            "grid_column": null,
            "grid_gap": null,
            "grid_row": null,
            "grid_template_areas": null,
            "grid_template_columns": null,
            "grid_template_rows": null,
            "height": null,
            "justify_content": null,
            "justify_items": null,
            "left": null,
            "margin": null,
            "max_height": null,
            "max_width": null,
            "min_height": null,
            "min_width": null,
            "object_fit": null,
            "object_position": null,
            "order": null,
            "overflow": null,
            "overflow_x": null,
            "overflow_y": null,
            "padding": null,
            "right": null,
            "top": null,
            "visibility": null,
            "width": null
          }
        },
        "685ada9f70e34c95a0cfd6c7fa7eca90": {
          "model_module": "@jupyter-widgets/base",
          "model_module_version": "1.2.0",
          "model_name": "LayoutModel",
          "state": {
            "_model_module": "@jupyter-widgets/base",
            "_model_module_version": "1.2.0",
            "_model_name": "LayoutModel",
            "_view_count": null,
            "_view_module": "@jupyter-widgets/base",
            "_view_module_version": "1.2.0",
            "_view_name": "LayoutView",
            "align_content": null,
            "align_items": null,
            "align_self": null,
            "border": null,
            "bottom": null,
            "display": null,
            "flex": null,
            "flex_flow": null,
            "grid_area": null,
            "grid_auto_columns": null,
            "grid_auto_flow": null,
            "grid_auto_rows": null,
            "grid_column": null,
            "grid_gap": null,
            "grid_row": null,
            "grid_template_areas": null,
            "grid_template_columns": null,
            "grid_template_rows": null,
            "height": null,
            "justify_content": null,
            "justify_items": null,
            "left": null,
            "margin": null,
            "max_height": null,
            "max_width": null,
            "min_height": null,
            "min_width": null,
            "object_fit": null,
            "object_position": null,
            "order": null,
            "overflow": null,
            "overflow_x": null,
            "overflow_y": null,
            "padding": null,
            "right": null,
            "top": null,
            "visibility": null,
            "width": null
          }
        },
        "68e2c9a590104fbc8ee5a9a7d363e1cd": {
          "model_module": "@jupyter-widgets/controls",
          "model_module_version": "1.5.0",
          "model_name": "DescriptionStyleModel",
          "state": {
            "_model_module": "@jupyter-widgets/controls",
            "_model_module_version": "1.5.0",
            "_model_name": "DescriptionStyleModel",
            "_view_count": null,
            "_view_module": "@jupyter-widgets/base",
            "_view_module_version": "1.2.0",
            "_view_name": "StyleView",
            "description_width": ""
          }
        },
        "6ea3bc10ff41446abb9ba26b755b31ac": {
          "model_module": "@jupyter-widgets/controls",
          "model_module_version": "1.5.0",
          "model_name": "FloatProgressModel",
          "state": {
            "_dom_classes": [],
            "_model_module": "@jupyter-widgets/controls",
            "_model_module_version": "1.5.0",
            "_model_name": "FloatProgressModel",
            "_view_count": null,
            "_view_module": "@jupyter-widgets/controls",
            "_view_module_version": "1.5.0",
            "_view_name": "ProgressView",
            "bar_style": "success",
            "description": "",
            "description_tooltip": null,
            "layout": "IPY_MODEL_b44a2a324f0c4bf2a8ad3c6bf3400b1f",
            "max": 1,
            "min": 0,
            "orientation": "horizontal",
            "style": "IPY_MODEL_b945185d83a84c51b16f8bd9b2abdd4a",
            "value": 1
          }
        },
        "6ec550b07c1c463fa8c6b38d13ff8f43": {
          "model_module": "@jupyter-widgets/base",
          "model_module_version": "1.2.0",
          "model_name": "LayoutModel",
          "state": {
            "_model_module": "@jupyter-widgets/base",
            "_model_module_version": "1.2.0",
            "_model_name": "LayoutModel",
            "_view_count": null,
            "_view_module": "@jupyter-widgets/base",
            "_view_module_version": "1.2.0",
            "_view_name": "LayoutView",
            "align_content": null,
            "align_items": null,
            "align_self": null,
            "border": null,
            "bottom": null,
            "display": null,
            "flex": null,
            "flex_flow": null,
            "grid_area": null,
            "grid_auto_columns": null,
            "grid_auto_flow": null,
            "grid_auto_rows": null,
            "grid_column": null,
            "grid_gap": null,
            "grid_row": null,
            "grid_template_areas": null,
            "grid_template_columns": null,
            "grid_template_rows": null,
            "height": null,
            "justify_content": null,
            "justify_items": null,
            "left": null,
            "margin": null,
            "max_height": null,
            "max_width": null,
            "min_height": null,
            "min_width": null,
            "object_fit": null,
            "object_position": null,
            "order": null,
            "overflow": null,
            "overflow_x": null,
            "overflow_y": null,
            "padding": null,
            "right": null,
            "top": null,
            "visibility": null,
            "width": null
          }
        },
        "7c82cbb5e8a748f293e35dd7b73375c2": {
          "model_module": "@jupyter-widgets/base",
          "model_module_version": "1.2.0",
          "model_name": "LayoutModel",
          "state": {
            "_model_module": "@jupyter-widgets/base",
            "_model_module_version": "1.2.0",
            "_model_name": "LayoutModel",
            "_view_count": null,
            "_view_module": "@jupyter-widgets/base",
            "_view_module_version": "1.2.0",
            "_view_name": "LayoutView",
            "align_content": null,
            "align_items": null,
            "align_self": null,
            "border": null,
            "bottom": null,
            "display": null,
            "flex": null,
            "flex_flow": null,
            "grid_area": null,
            "grid_auto_columns": null,
            "grid_auto_flow": null,
            "grid_auto_rows": null,
            "grid_column": null,
            "grid_gap": null,
            "grid_row": null,
            "grid_template_areas": null,
            "grid_template_columns": null,
            "grid_template_rows": null,
            "height": null,
            "justify_content": null,
            "justify_items": null,
            "left": null,
            "margin": null,
            "max_height": null,
            "max_width": null,
            "min_height": null,
            "min_width": null,
            "object_fit": null,
            "object_position": null,
            "order": null,
            "overflow": null,
            "overflow_x": null,
            "overflow_y": null,
            "padding": null,
            "right": null,
            "top": null,
            "visibility": null,
            "width": null
          }
        },
        "8897cc75344f4a2cbc309447ded4b3ca": {
          "model_module": "@jupyter-widgets/controls",
          "model_module_version": "1.5.0",
          "model_name": "HTMLModel",
          "state": {
            "_dom_classes": [],
            "_model_module": "@jupyter-widgets/controls",
            "_model_module_version": "1.5.0",
            "_model_name": "HTMLModel",
            "_view_count": null,
            "_view_module": "@jupyter-widgets/controls",
            "_view_module_version": "1.5.0",
            "_view_name": "HTMLView",
            "description": "",
            "description_tooltip": null,
            "layout": "IPY_MODEL_e9367d9d6cfe420aa837ddb5c9cd7f08",
            "placeholder": "​",
            "style": "IPY_MODEL_a94f94c85dd245b2b0c470931c993111",
            "value": " 1/1 [00:00&lt;00:00, 19.42ba/s]"
          }
        },
        "8d527d540cea4fc79dde6b019e299b6c": {
          "model_module": "@jupyter-widgets/controls",
          "model_module_version": "1.5.0",
          "model_name": "HBoxModel",
          "state": {
            "_dom_classes": [],
            "_model_module": "@jupyter-widgets/controls",
            "_model_module_version": "1.5.0",
            "_model_name": "HBoxModel",
            "_view_count": null,
            "_view_module": "@jupyter-widgets/controls",
            "_view_module_version": "1.5.0",
            "_view_name": "HBoxView",
            "box_style": "",
            "children": [
              "IPY_MODEL_a8846a111b324f65b647123580b4bfe1",
              "IPY_MODEL_e9bf3f281f3b4f22896e86fbb1a1a4c6",
              "IPY_MODEL_0e5d9db6fe6f40a9abb9516370633e18"
            ],
            "layout": "IPY_MODEL_96a01af99ec44844adc6e68f2a5edc61"
          }
        },
        "91607fa6c1804d82b74c4c1ef2802d1e": {
          "model_module": "@jupyter-widgets/base",
          "model_module_version": "1.2.0",
          "model_name": "LayoutModel",
          "state": {
            "_model_module": "@jupyter-widgets/base",
            "_model_module_version": "1.2.0",
            "_model_name": "LayoutModel",
            "_view_count": null,
            "_view_module": "@jupyter-widgets/base",
            "_view_module_version": "1.2.0",
            "_view_name": "LayoutView",
            "align_content": null,
            "align_items": null,
            "align_self": null,
            "border": null,
            "bottom": null,
            "display": null,
            "flex": null,
            "flex_flow": null,
            "grid_area": null,
            "grid_auto_columns": null,
            "grid_auto_flow": null,
            "grid_auto_rows": null,
            "grid_column": null,
            "grid_gap": null,
            "grid_row": null,
            "grid_template_areas": null,
            "grid_template_columns": null,
            "grid_template_rows": null,
            "height": null,
            "justify_content": null,
            "justify_items": null,
            "left": null,
            "margin": null,
            "max_height": null,
            "max_width": null,
            "min_height": null,
            "min_width": null,
            "object_fit": null,
            "object_position": null,
            "order": null,
            "overflow": null,
            "overflow_x": null,
            "overflow_y": null,
            "padding": null,
            "right": null,
            "top": null,
            "visibility": null,
            "width": null
          }
        },
        "92c8b427dea94824b1aff04eeb1f4ffa": {
          "model_module": "@jupyter-widgets/controls",
          "model_module_version": "1.5.0",
          "model_name": "DescriptionStyleModel",
          "state": {
            "_model_module": "@jupyter-widgets/controls",
            "_model_module_version": "1.5.0",
            "_model_name": "DescriptionStyleModel",
            "_view_count": null,
            "_view_module": "@jupyter-widgets/base",
            "_view_module_version": "1.2.0",
            "_view_name": "StyleView",
            "description_width": ""
          }
        },
        "96a01af99ec44844adc6e68f2a5edc61": {
          "model_module": "@jupyter-widgets/base",
          "model_module_version": "1.2.0",
          "model_name": "LayoutModel",
          "state": {
            "_model_module": "@jupyter-widgets/base",
            "_model_module_version": "1.2.0",
            "_model_name": "LayoutModel",
            "_view_count": null,
            "_view_module": "@jupyter-widgets/base",
            "_view_module_version": "1.2.0",
            "_view_name": "LayoutView",
            "align_content": null,
            "align_items": null,
            "align_self": null,
            "border": null,
            "bottom": null,
            "display": null,
            "flex": null,
            "flex_flow": null,
            "grid_area": null,
            "grid_auto_columns": null,
            "grid_auto_flow": null,
            "grid_auto_rows": null,
            "grid_column": null,
            "grid_gap": null,
            "grid_row": null,
            "grid_template_areas": null,
            "grid_template_columns": null,
            "grid_template_rows": null,
            "height": null,
            "justify_content": null,
            "justify_items": null,
            "left": null,
            "margin": null,
            "max_height": null,
            "max_width": null,
            "min_height": null,
            "min_width": null,
            "object_fit": null,
            "object_position": null,
            "order": null,
            "overflow": null,
            "overflow_x": null,
            "overflow_y": null,
            "padding": null,
            "right": null,
            "top": null,
            "visibility": null,
            "width": null
          }
        },
        "97edf1c377fa4734b68a18fe0c8d3893": {
          "model_module": "@jupyter-widgets/base",
          "model_module_version": "1.2.0",
          "model_name": "LayoutModel",
          "state": {
            "_model_module": "@jupyter-widgets/base",
            "_model_module_version": "1.2.0",
            "_model_name": "LayoutModel",
            "_view_count": null,
            "_view_module": "@jupyter-widgets/base",
            "_view_module_version": "1.2.0",
            "_view_name": "LayoutView",
            "align_content": null,
            "align_items": null,
            "align_self": null,
            "border": null,
            "bottom": null,
            "display": null,
            "flex": null,
            "flex_flow": null,
            "grid_area": null,
            "grid_auto_columns": null,
            "grid_auto_flow": null,
            "grid_auto_rows": null,
            "grid_column": null,
            "grid_gap": null,
            "grid_row": null,
            "grid_template_areas": null,
            "grid_template_columns": null,
            "grid_template_rows": null,
            "height": null,
            "justify_content": null,
            "justify_items": null,
            "left": null,
            "margin": null,
            "max_height": null,
            "max_width": null,
            "min_height": null,
            "min_width": null,
            "object_fit": null,
            "object_position": null,
            "order": null,
            "overflow": null,
            "overflow_x": null,
            "overflow_y": null,
            "padding": null,
            "right": null,
            "top": null,
            "visibility": null,
            "width": null
          }
        },
        "986b5a6eb2c34502b54307c3e638334e": {
          "model_module": "@jupyter-widgets/controls",
          "model_module_version": "1.5.0",
          "model_name": "HTMLModel",
          "state": {
            "_dom_classes": [],
            "_model_module": "@jupyter-widgets/controls",
            "_model_module_version": "1.5.0",
            "_model_name": "HTMLModel",
            "_view_count": null,
            "_view_module": "@jupyter-widgets/controls",
            "_view_module_version": "1.5.0",
            "_view_name": "HTMLView",
            "description": "",
            "description_tooltip": null,
            "layout": "IPY_MODEL_e4876fdf9b3047688ceb8138a2fea39d",
            "placeholder": "​",
            "style": "IPY_MODEL_92c8b427dea94824b1aff04eeb1f4ffa",
            "value": " 1/1 [00:00&lt;00:00, 29.70it/s]"
          }
        },
        "9bfae462db8c4234a2f61e564ba8d46a": {
          "model_module": "@jupyter-widgets/controls",
          "model_module_version": "1.5.0",
          "model_name": "HBoxModel",
          "state": {
            "_dom_classes": [],
            "_model_module": "@jupyter-widgets/controls",
            "_model_module_version": "1.5.0",
            "_model_name": "HBoxModel",
            "_view_count": null,
            "_view_module": "@jupyter-widgets/controls",
            "_view_module_version": "1.5.0",
            "_view_name": "HBoxView",
            "box_style": "",
            "children": [
              "IPY_MODEL_a02af808ebb24f44baf78f85174da4a4",
              "IPY_MODEL_ef77df52bb71413592bcfabb2f833b6b",
              "IPY_MODEL_986b5a6eb2c34502b54307c3e638334e"
            ],
            "layout": "IPY_MODEL_db5b8b7584a84194b6b668d36c6c7a2c"
          }
        },
        "9de7aa4fa4f441fbbab04f9d8f3475cd": {
          "model_module": "@jupyter-widgets/controls",
          "model_module_version": "1.5.0",
          "model_name": "HBoxModel",
          "state": {
            "_dom_classes": [],
            "_model_module": "@jupyter-widgets/controls",
            "_model_module_version": "1.5.0",
            "_model_name": "HBoxModel",
            "_view_count": null,
            "_view_module": "@jupyter-widgets/controls",
            "_view_module_version": "1.5.0",
            "_view_name": "HBoxView",
            "box_style": "",
            "children": [
              "IPY_MODEL_cc274f72fa1b4c96ae00c35562e8e9bd",
              "IPY_MODEL_0911ac7366564e419e5f5fa96e768fc9",
              "IPY_MODEL_b2abf5d42fc4421f84264d8f46f141cc"
            ],
            "layout": "IPY_MODEL_a30baa9850ec444fa106fa02e4754cc8"
          }
        },
        "a02af808ebb24f44baf78f85174da4a4": {
          "model_module": "@jupyter-widgets/controls",
          "model_module_version": "1.5.0",
          "model_name": "HTMLModel",
          "state": {
            "_dom_classes": [],
            "_model_module": "@jupyter-widgets/controls",
            "_model_module_version": "1.5.0",
            "_model_name": "HTMLModel",
            "_view_count": null,
            "_view_module": "@jupyter-widgets/controls",
            "_view_module_version": "1.5.0",
            "_view_name": "HTMLView",
            "description": "",
            "description_tooltip": null,
            "layout": "IPY_MODEL_f1e8cfe01a504750b28feeca533a6af9",
            "placeholder": "​",
            "style": "IPY_MODEL_593838f918d24bb69e54f24181bf195f",
            "value": "100%"
          }
        },
        "a30baa9850ec444fa106fa02e4754cc8": {
          "model_module": "@jupyter-widgets/base",
          "model_module_version": "1.2.0",
          "model_name": "LayoutModel",
          "state": {
            "_model_module": "@jupyter-widgets/base",
            "_model_module_version": "1.2.0",
            "_model_name": "LayoutModel",
            "_view_count": null,
            "_view_module": "@jupyter-widgets/base",
            "_view_module_version": "1.2.0",
            "_view_name": "LayoutView",
            "align_content": null,
            "align_items": null,
            "align_self": null,
            "border": null,
            "bottom": null,
            "display": null,
            "flex": null,
            "flex_flow": null,
            "grid_area": null,
            "grid_auto_columns": null,
            "grid_auto_flow": null,
            "grid_auto_rows": null,
            "grid_column": null,
            "grid_gap": null,
            "grid_row": null,
            "grid_template_areas": null,
            "grid_template_columns": null,
            "grid_template_rows": null,
            "height": null,
            "justify_content": null,
            "justify_items": null,
            "left": null,
            "margin": null,
            "max_height": null,
            "max_width": null,
            "min_height": null,
            "min_width": null,
            "object_fit": null,
            "object_position": null,
            "order": null,
            "overflow": null,
            "overflow_x": null,
            "overflow_y": null,
            "padding": null,
            "right": null,
            "top": null,
            "visibility": null,
            "width": null
          }
        },
        "a4eed68e2a804ddba18f453124cb63d4": {
          "model_module": "@jupyter-widgets/controls",
          "model_module_version": "1.5.0",
          "model_name": "DescriptionStyleModel",
          "state": {
            "_model_module": "@jupyter-widgets/controls",
            "_model_module_version": "1.5.0",
            "_model_name": "DescriptionStyleModel",
            "_view_count": null,
            "_view_module": "@jupyter-widgets/base",
            "_view_module_version": "1.2.0",
            "_view_name": "StyleView",
            "description_width": ""
          }
        },
        "a8846a111b324f65b647123580b4bfe1": {
          "model_module": "@jupyter-widgets/controls",
          "model_module_version": "1.5.0",
          "model_name": "HTMLModel",
          "state": {
            "_dom_classes": [],
            "_model_module": "@jupyter-widgets/controls",
            "_model_module_version": "1.5.0",
            "_model_name": "HTMLModel",
            "_view_count": null,
            "_view_module": "@jupyter-widgets/controls",
            "_view_module_version": "1.5.0",
            "_view_name": "HTMLView",
            "description": "",
            "description_tooltip": null,
            "layout": "IPY_MODEL_97edf1c377fa4734b68a18fe0c8d3893",
            "placeholder": "​",
            "style": "IPY_MODEL_a4eed68e2a804ddba18f453124cb63d4",
            "value": "Running input pre-processing on dataset: 100%"
          }
        },
        "a921a29e0c0a4fd5aff030add1f353a3": {
          "model_module": "@jupyter-widgets/controls",
          "model_module_version": "1.5.0",
          "model_name": "ProgressStyleModel",
          "state": {
            "_model_module": "@jupyter-widgets/controls",
            "_model_module_version": "1.5.0",
            "_model_name": "ProgressStyleModel",
            "_view_count": null,
            "_view_module": "@jupyter-widgets/base",
            "_view_module_version": "1.2.0",
            "_view_name": "StyleView",
            "bar_color": null,
            "description_width": ""
          }
        },
        "a94f94c85dd245b2b0c470931c993111": {
          "model_module": "@jupyter-widgets/controls",
          "model_module_version": "1.5.0",
          "model_name": "DescriptionStyleModel",
          "state": {
            "_model_module": "@jupyter-widgets/controls",
            "_model_module_version": "1.5.0",
            "_model_name": "DescriptionStyleModel",
            "_view_count": null,
            "_view_module": "@jupyter-widgets/base",
            "_view_module_version": "1.2.0",
            "_view_name": "StyleView",
            "description_width": ""
          }
        },
        "aa4619f7adbb4073a83f7b74509ffae5": {
          "model_module": "@jupyter-widgets/controls",
          "model_module_version": "1.5.0",
          "model_name": "DescriptionStyleModel",
          "state": {
            "_model_module": "@jupyter-widgets/controls",
            "_model_module_version": "1.5.0",
            "_model_name": "DescriptionStyleModel",
            "_view_count": null,
            "_view_module": "@jupyter-widgets/base",
            "_view_module_version": "1.2.0",
            "_view_name": "StyleView",
            "description_width": ""
          }
        },
        "ab61d6e3b6824437b6a63544bf8a28a2": {
          "model_module": "@jupyter-widgets/controls",
          "model_module_version": "1.5.0",
          "model_name": "DescriptionStyleModel",
          "state": {
            "_model_module": "@jupyter-widgets/controls",
            "_model_module_version": "1.5.0",
            "_model_name": "DescriptionStyleModel",
            "_view_count": null,
            "_view_module": "@jupyter-widgets/base",
            "_view_module_version": "1.2.0",
            "_view_name": "StyleView",
            "description_width": ""
          }
        },
        "b03083bbd1a54b169d39828f31dc5a51": {
          "model_module": "@jupyter-widgets/base",
          "model_module_version": "1.2.0",
          "model_name": "LayoutModel",
          "state": {
            "_model_module": "@jupyter-widgets/base",
            "_model_module_version": "1.2.0",
            "_model_name": "LayoutModel",
            "_view_count": null,
            "_view_module": "@jupyter-widgets/base",
            "_view_module_version": "1.2.0",
            "_view_name": "LayoutView",
            "align_content": null,
            "align_items": null,
            "align_self": null,
            "border": null,
            "bottom": null,
            "display": null,
            "flex": null,
            "flex_flow": null,
            "grid_area": null,
            "grid_auto_columns": null,
            "grid_auto_flow": null,
            "grid_auto_rows": null,
            "grid_column": null,
            "grid_gap": null,
            "grid_row": null,
            "grid_template_areas": null,
            "grid_template_columns": null,
            "grid_template_rows": null,
            "height": null,
            "justify_content": null,
            "justify_items": null,
            "left": null,
            "margin": null,
            "max_height": null,
            "max_width": null,
            "min_height": null,
            "min_width": null,
            "object_fit": null,
            "object_position": null,
            "order": null,
            "overflow": null,
            "overflow_x": null,
            "overflow_y": null,
            "padding": null,
            "right": null,
            "top": null,
            "visibility": null,
            "width": null
          }
        },
        "b23c5f754e3048da95ab1dc3ae5f2c43": {
          "model_module": "@jupyter-widgets/controls",
          "model_module_version": "1.5.0",
          "model_name": "HBoxModel",
          "state": {
            "_dom_classes": [],
            "_model_module": "@jupyter-widgets/controls",
            "_model_module_version": "1.5.0",
            "_model_name": "HBoxModel",
            "_view_count": null,
            "_view_module": "@jupyter-widgets/controls",
            "_view_module_version": "1.5.0",
            "_view_name": "HBoxView",
            "box_style": "",
            "children": [
              "IPY_MODEL_00301207d1114890b17b35f687a6b88e",
              "IPY_MODEL_b8c0dbd446a94ea1b9bc277b03a5f443",
              "IPY_MODEL_3be59165aa9e4f6db32fe86e5f140161"
            ],
            "layout": "IPY_MODEL_d08c738f76a64489a35cefefc2f64a44"
          }
        },
        "b2abf5d42fc4421f84264d8f46f141cc": {
          "model_module": "@jupyter-widgets/controls",
          "model_module_version": "1.5.0",
          "model_name": "HTMLModel",
          "state": {
            "_dom_classes": [],
            "_model_module": "@jupyter-widgets/controls",
            "_model_module_version": "1.5.0",
            "_model_name": "HTMLModel",
            "_view_count": null,
            "_view_module": "@jupyter-widgets/controls",
            "_view_module_version": "1.5.0",
            "_view_name": "HTMLView",
            "description": "",
            "description_tooltip": null,
            "layout": "IPY_MODEL_bc169e44e63f41abbc3230a442452cc9",
            "placeholder": "​",
            "style": "IPY_MODEL_396baf5c25b84765af45e106d605ba5b",
            "value": " 1/1 [00:00&lt;00:00, 30.76it/s]"
          }
        },
        "b44a2a324f0c4bf2a8ad3c6bf3400b1f": {
          "model_module": "@jupyter-widgets/base",
          "model_module_version": "1.2.0",
          "model_name": "LayoutModel",
          "state": {
            "_model_module": "@jupyter-widgets/base",
            "_model_module_version": "1.2.0",
            "_model_name": "LayoutModel",
            "_view_count": null,
            "_view_module": "@jupyter-widgets/base",
            "_view_module_version": "1.2.0",
            "_view_name": "LayoutView",
            "align_content": null,
            "align_items": null,
            "align_self": null,
            "border": null,
            "bottom": null,
            "display": null,
            "flex": null,
            "flex_flow": null,
            "grid_area": null,
            "grid_auto_columns": null,
            "grid_auto_flow": null,
            "grid_auto_rows": null,
            "grid_column": null,
            "grid_gap": null,
            "grid_row": null,
            "grid_template_areas": null,
            "grid_template_columns": null,
            "grid_template_rows": null,
            "height": null,
            "justify_content": null,
            "justify_items": null,
            "left": null,
            "margin": null,
            "max_height": null,
            "max_width": null,
            "min_height": null,
            "min_width": null,
            "object_fit": null,
            "object_position": null,
            "order": null,
            "overflow": null,
            "overflow_x": null,
            "overflow_y": null,
            "padding": null,
            "right": null,
            "top": null,
            "visibility": null,
            "width": null
          }
        },
        "b5273bc258604ade8802acc7fbfc335f": {
          "model_module": "@jupyter-widgets/controls",
          "model_module_version": "1.5.0",
          "model_name": "DescriptionStyleModel",
          "state": {
            "_model_module": "@jupyter-widgets/controls",
            "_model_module_version": "1.5.0",
            "_model_name": "DescriptionStyleModel",
            "_view_count": null,
            "_view_module": "@jupyter-widgets/base",
            "_view_module_version": "1.2.0",
            "_view_name": "StyleView",
            "description_width": ""
          }
        },
        "b8c0dbd446a94ea1b9bc277b03a5f443": {
          "model_module": "@jupyter-widgets/controls",
          "model_module_version": "1.5.0",
          "model_name": "FloatProgressModel",
          "state": {
            "_dom_classes": [],
            "_model_module": "@jupyter-widgets/controls",
            "_model_module_version": "1.5.0",
            "_model_name": "FloatProgressModel",
            "_view_count": null,
            "_view_module": "@jupyter-widgets/controls",
            "_view_module_version": "1.5.0",
            "_view_name": "ProgressView",
            "bar_style": "success",
            "description": "",
            "description_tooltip": null,
            "layout": "IPY_MODEL_666dff0f4e084c1eb06a78f9d47d53a1",
            "max": 1,
            "min": 0,
            "orientation": "horizontal",
            "style": "IPY_MODEL_1f5d886890434eae8d5cdcd1ebad241c",
            "value": 1
          }
        },
        "b945185d83a84c51b16f8bd9b2abdd4a": {
          "model_module": "@jupyter-widgets/controls",
          "model_module_version": "1.5.0",
          "model_name": "ProgressStyleModel",
          "state": {
            "_model_module": "@jupyter-widgets/controls",
            "_model_module_version": "1.5.0",
            "_model_name": "ProgressStyleModel",
            "_view_count": null,
            "_view_module": "@jupyter-widgets/base",
            "_view_module_version": "1.2.0",
            "_view_name": "StyleView",
            "bar_color": null,
            "description_width": ""
          }
        },
        "b95a304bc6174ab7a1c5e07198d22013": {
          "model_module": "@jupyter-widgets/controls",
          "model_module_version": "1.5.0",
          "model_name": "DescriptionStyleModel",
          "state": {
            "_model_module": "@jupyter-widgets/controls",
            "_model_module_version": "1.5.0",
            "_model_name": "DescriptionStyleModel",
            "_view_count": null,
            "_view_module": "@jupyter-widgets/base",
            "_view_module_version": "1.2.0",
            "_view_name": "StyleView",
            "description_width": ""
          }
        },
        "bc169e44e63f41abbc3230a442452cc9": {
          "model_module": "@jupyter-widgets/base",
          "model_module_version": "1.2.0",
          "model_name": "LayoutModel",
          "state": {
            "_model_module": "@jupyter-widgets/base",
            "_model_module_version": "1.2.0",
            "_model_name": "LayoutModel",
            "_view_count": null,
            "_view_module": "@jupyter-widgets/base",
            "_view_module_version": "1.2.0",
            "_view_name": "LayoutView",
            "align_content": null,
            "align_items": null,
            "align_self": null,
            "border": null,
            "bottom": null,
            "display": null,
            "flex": null,
            "flex_flow": null,
            "grid_area": null,
            "grid_auto_columns": null,
            "grid_auto_flow": null,
            "grid_auto_rows": null,
            "grid_column": null,
            "grid_gap": null,
            "grid_row": null,
            "grid_template_areas": null,
            "grid_template_columns": null,
            "grid_template_rows": null,
            "height": null,
            "justify_content": null,
            "justify_items": null,
            "left": null,
            "margin": null,
            "max_height": null,
            "max_width": null,
            "min_height": null,
            "min_width": null,
            "object_fit": null,
            "object_position": null,
            "order": null,
            "overflow": null,
            "overflow_x": null,
            "overflow_y": null,
            "padding": null,
            "right": null,
            "top": null,
            "visibility": null,
            "width": null
          }
        },
        "be3eeb27ba834ebe8cb58346c8c8f743": {
          "model_module": "@jupyter-widgets/controls",
          "model_module_version": "1.5.0",
          "model_name": "HBoxModel",
          "state": {
            "_dom_classes": [],
            "_model_module": "@jupyter-widgets/controls",
            "_model_module_version": "1.5.0",
            "_model_name": "HBoxModel",
            "_view_count": null,
            "_view_module": "@jupyter-widgets/controls",
            "_view_module_version": "1.5.0",
            "_view_name": "HBoxView",
            "box_style": "",
            "children": [
              "IPY_MODEL_1337289c51e44d06ac81b1b4b097e281",
              "IPY_MODEL_6ea3bc10ff41446abb9ba26b755b31ac",
              "IPY_MODEL_8897cc75344f4a2cbc309447ded4b3ca"
            ],
            "layout": "IPY_MODEL_7c82cbb5e8a748f293e35dd7b73375c2"
          }
        },
        "be4cbbf8b5c140cdaf2707634cad1285": {
          "model_module": "@jupyter-widgets/base",
          "model_module_version": "1.2.0",
          "model_name": "LayoutModel",
          "state": {
            "_model_module": "@jupyter-widgets/base",
            "_model_module_version": "1.2.0",
            "_model_name": "LayoutModel",
            "_view_count": null,
            "_view_module": "@jupyter-widgets/base",
            "_view_module_version": "1.2.0",
            "_view_name": "LayoutView",
            "align_content": null,
            "align_items": null,
            "align_self": null,
            "border": null,
            "bottom": null,
            "display": null,
            "flex": null,
            "flex_flow": null,
            "grid_area": null,
            "grid_auto_columns": null,
            "grid_auto_flow": null,
            "grid_auto_rows": null,
            "grid_column": null,
            "grid_gap": null,
            "grid_row": null,
            "grid_template_areas": null,
            "grid_template_columns": null,
            "grid_template_rows": null,
            "height": null,
            "justify_content": null,
            "justify_items": null,
            "left": null,
            "margin": null,
            "max_height": null,
            "max_width": null,
            "min_height": null,
            "min_width": null,
            "object_fit": null,
            "object_position": null,
            "order": null,
            "overflow": null,
            "overflow_x": null,
            "overflow_y": null,
            "padding": null,
            "right": null,
            "top": null,
            "visibility": null,
            "width": null
          }
        },
        "c04175d946db4b03b889e53c54e1cfff": {
          "model_module": "@jupyter-widgets/controls",
          "model_module_version": "1.5.0",
          "model_name": "DescriptionStyleModel",
          "state": {
            "_model_module": "@jupyter-widgets/controls",
            "_model_module_version": "1.5.0",
            "_model_name": "DescriptionStyleModel",
            "_view_count": null,
            "_view_module": "@jupyter-widgets/base",
            "_view_module_version": "1.2.0",
            "_view_name": "StyleView",
            "description_width": ""
          }
        },
        "c472accb8bc8478593b8c38152a60664": {
          "model_module": "@jupyter-widgets/base",
          "model_module_version": "1.2.0",
          "model_name": "LayoutModel",
          "state": {
            "_model_module": "@jupyter-widgets/base",
            "_model_module_version": "1.2.0",
            "_model_name": "LayoutModel",
            "_view_count": null,
            "_view_module": "@jupyter-widgets/base",
            "_view_module_version": "1.2.0",
            "_view_name": "LayoutView",
            "align_content": null,
            "align_items": null,
            "align_self": null,
            "border": null,
            "bottom": null,
            "display": null,
            "flex": null,
            "flex_flow": null,
            "grid_area": null,
            "grid_auto_columns": null,
            "grid_auto_flow": null,
            "grid_auto_rows": null,
            "grid_column": null,
            "grid_gap": null,
            "grid_row": null,
            "grid_template_areas": null,
            "grid_template_columns": null,
            "grid_template_rows": null,
            "height": null,
            "justify_content": null,
            "justify_items": null,
            "left": null,
            "margin": null,
            "max_height": null,
            "max_width": null,
            "min_height": null,
            "min_width": null,
            "object_fit": null,
            "object_position": null,
            "order": null,
            "overflow": null,
            "overflow_x": null,
            "overflow_y": null,
            "padding": null,
            "right": null,
            "top": null,
            "visibility": null,
            "width": null
          }
        },
        "c6c5fa87fb374735a27455a6402f5746": {
          "model_module": "@jupyter-widgets/base",
          "model_module_version": "1.2.0",
          "model_name": "LayoutModel",
          "state": {
            "_model_module": "@jupyter-widgets/base",
            "_model_module_version": "1.2.0",
            "_model_name": "LayoutModel",
            "_view_count": null,
            "_view_module": "@jupyter-widgets/base",
            "_view_module_version": "1.2.0",
            "_view_name": "LayoutView",
            "align_content": null,
            "align_items": null,
            "align_self": null,
            "border": null,
            "bottom": null,
            "display": null,
            "flex": null,
            "flex_flow": null,
            "grid_area": null,
            "grid_auto_columns": null,
            "grid_auto_flow": null,
            "grid_auto_rows": null,
            "grid_column": null,
            "grid_gap": null,
            "grid_row": null,
            "grid_template_areas": null,
            "grid_template_columns": null,
            "grid_template_rows": null,
            "height": null,
            "justify_content": null,
            "justify_items": null,
            "left": null,
            "margin": null,
            "max_height": null,
            "max_width": null,
            "min_height": null,
            "min_width": null,
            "object_fit": null,
            "object_position": null,
            "order": null,
            "overflow": null,
            "overflow_x": null,
            "overflow_y": null,
            "padding": null,
            "right": null,
            "top": null,
            "visibility": null,
            "width": null
          }
        },
        "c960648312a14d56826de08412e3c76e": {
          "model_module": "@jupyter-widgets/base",
          "model_module_version": "1.2.0",
          "model_name": "LayoutModel",
          "state": {
            "_model_module": "@jupyter-widgets/base",
            "_model_module_version": "1.2.0",
            "_model_name": "LayoutModel",
            "_view_count": null,
            "_view_module": "@jupyter-widgets/base",
            "_view_module_version": "1.2.0",
            "_view_name": "LayoutView",
            "align_content": null,
            "align_items": null,
            "align_self": null,
            "border": null,
            "bottom": null,
            "display": null,
            "flex": null,
            "flex_flow": null,
            "grid_area": null,
            "grid_auto_columns": null,
            "grid_auto_flow": null,
            "grid_auto_rows": null,
            "grid_column": null,
            "grid_gap": null,
            "grid_row": null,
            "grid_template_areas": null,
            "grid_template_columns": null,
            "grid_template_rows": null,
            "height": null,
            "justify_content": null,
            "justify_items": null,
            "left": null,
            "margin": null,
            "max_height": null,
            "max_width": null,
            "min_height": null,
            "min_width": null,
            "object_fit": null,
            "object_position": null,
            "order": null,
            "overflow": null,
            "overflow_x": null,
            "overflow_y": null,
            "padding": null,
            "right": null,
            "top": null,
            "visibility": null,
            "width": null
          }
        },
        "cc274f72fa1b4c96ae00c35562e8e9bd": {
          "model_module": "@jupyter-widgets/controls",
          "model_module_version": "1.5.0",
          "model_name": "HTMLModel",
          "state": {
            "_dom_classes": [],
            "_model_module": "@jupyter-widgets/controls",
            "_model_module_version": "1.5.0",
            "_model_name": "HTMLModel",
            "_view_count": null,
            "_view_module": "@jupyter-widgets/controls",
            "_view_module_version": "1.5.0",
            "_view_name": "HTMLView",
            "description": "",
            "description_tooltip": null,
            "layout": "IPY_MODEL_b03083bbd1a54b169d39828f31dc5a51",
            "placeholder": "​",
            "style": "IPY_MODEL_b95a304bc6174ab7a1c5e07198d22013",
            "value": "Downloading data files: 100%"
          }
        },
        "ce3649b4233149aeb369c56947e43d87": {
          "model_module": "@jupyter-widgets/controls",
          "model_module_version": "1.5.0",
          "model_name": "HBoxModel",
          "state": {
            "_dom_classes": [],
            "_model_module": "@jupyter-widgets/controls",
            "_model_module_version": "1.5.0",
            "_model_name": "HBoxModel",
            "_view_count": null,
            "_view_module": "@jupyter-widgets/controls",
            "_view_module_version": "1.5.0",
            "_view_name": "HBoxView",
            "box_style": "",
            "children": [
              "IPY_MODEL_12fc3571a9514a65abbfc9d8c49b12f2",
              "IPY_MODEL_ee571a6e4e8b44d78674a510d0bf02c4",
              "IPY_MODEL_34994c5aaa2d4d359a1d3843889e3bfd"
            ],
            "layout": "IPY_MODEL_1bfe142f44164cf5b0c6feb215532676"
          }
        },
        "cfd3fd00d29140ed972d3556bfdb6df4": {
          "model_module": "@jupyter-widgets/controls",
          "model_module_version": "1.5.0",
          "model_name": "DescriptionStyleModel",
          "state": {
            "_model_module": "@jupyter-widgets/controls",
            "_model_module_version": "1.5.0",
            "_model_name": "DescriptionStyleModel",
            "_view_count": null,
            "_view_module": "@jupyter-widgets/base",
            "_view_module_version": "1.2.0",
            "_view_name": "StyleView",
            "description_width": ""
          }
        },
        "d08c738f76a64489a35cefefc2f64a44": {
          "model_module": "@jupyter-widgets/base",
          "model_module_version": "1.2.0",
          "model_name": "LayoutModel",
          "state": {
            "_model_module": "@jupyter-widgets/base",
            "_model_module_version": "1.2.0",
            "_model_name": "LayoutModel",
            "_view_count": null,
            "_view_module": "@jupyter-widgets/base",
            "_view_module_version": "1.2.0",
            "_view_name": "LayoutView",
            "align_content": null,
            "align_items": null,
            "align_self": null,
            "border": null,
            "bottom": null,
            "display": null,
            "flex": null,
            "flex_flow": null,
            "grid_area": null,
            "grid_auto_columns": null,
            "grid_auto_flow": null,
            "grid_auto_rows": null,
            "grid_column": null,
            "grid_gap": null,
            "grid_row": null,
            "grid_template_areas": null,
            "grid_template_columns": null,
            "grid_template_rows": null,
            "height": null,
            "justify_content": null,
            "justify_items": null,
            "left": null,
            "margin": null,
            "max_height": null,
            "max_width": null,
            "min_height": null,
            "min_width": null,
            "object_fit": null,
            "object_position": null,
            "order": null,
            "overflow": null,
            "overflow_x": null,
            "overflow_y": null,
            "padding": null,
            "right": null,
            "top": null,
            "visibility": null,
            "width": null
          }
        },
        "d9c8d6cf622244ee95c3c585c8545504": {
          "model_module": "@jupyter-widgets/controls",
          "model_module_version": "1.5.0",
          "model_name": "ProgressStyleModel",
          "state": {
            "_model_module": "@jupyter-widgets/controls",
            "_model_module_version": "1.5.0",
            "_model_name": "ProgressStyleModel",
            "_view_count": null,
            "_view_module": "@jupyter-widgets/base",
            "_view_module_version": "1.2.0",
            "_view_name": "StyleView",
            "bar_color": null,
            "description_width": ""
          }
        },
        "db5b8b7584a84194b6b668d36c6c7a2c": {
          "model_module": "@jupyter-widgets/base",
          "model_module_version": "1.2.0",
          "model_name": "LayoutModel",
          "state": {
            "_model_module": "@jupyter-widgets/base",
            "_model_module_version": "1.2.0",
            "_model_name": "LayoutModel",
            "_view_count": null,
            "_view_module": "@jupyter-widgets/base",
            "_view_module_version": "1.2.0",
            "_view_name": "LayoutView",
            "align_content": null,
            "align_items": null,
            "align_self": null,
            "border": null,
            "bottom": null,
            "display": null,
            "flex": null,
            "flex_flow": null,
            "grid_area": null,
            "grid_auto_columns": null,
            "grid_auto_flow": null,
            "grid_auto_rows": null,
            "grid_column": null,
            "grid_gap": null,
            "grid_row": null,
            "grid_template_areas": null,
            "grid_template_columns": null,
            "grid_template_rows": null,
            "height": null,
            "justify_content": null,
            "justify_items": null,
            "left": null,
            "margin": null,
            "max_height": null,
            "max_width": null,
            "min_height": null,
            "min_width": null,
            "object_fit": null,
            "object_position": null,
            "order": null,
            "overflow": null,
            "overflow_x": null,
            "overflow_y": null,
            "padding": null,
            "right": null,
            "top": null,
            "visibility": null,
            "width": null
          }
        },
        "dc14c6a1741a4a768d177d5b20609ff4": {
          "model_module": "@jupyter-widgets/base",
          "model_module_version": "1.2.0",
          "model_name": "LayoutModel",
          "state": {
            "_model_module": "@jupyter-widgets/base",
            "_model_module_version": "1.2.0",
            "_model_name": "LayoutModel",
            "_view_count": null,
            "_view_module": "@jupyter-widgets/base",
            "_view_module_version": "1.2.0",
            "_view_name": "LayoutView",
            "align_content": null,
            "align_items": null,
            "align_self": null,
            "border": null,
            "bottom": null,
            "display": null,
            "flex": null,
            "flex_flow": null,
            "grid_area": null,
            "grid_auto_columns": null,
            "grid_auto_flow": null,
            "grid_auto_rows": null,
            "grid_column": null,
            "grid_gap": null,
            "grid_row": null,
            "grid_template_areas": null,
            "grid_template_columns": null,
            "grid_template_rows": null,
            "height": null,
            "justify_content": null,
            "justify_items": null,
            "left": null,
            "margin": null,
            "max_height": null,
            "max_width": null,
            "min_height": null,
            "min_width": null,
            "object_fit": null,
            "object_position": null,
            "order": null,
            "overflow": null,
            "overflow_x": null,
            "overflow_y": null,
            "padding": null,
            "right": null,
            "top": null,
            "visibility": null,
            "width": null
          }
        },
        "decaaf8fb7934f6585e386f56a649c39": {
          "model_module": "@jupyter-widgets/base",
          "model_module_version": "1.2.0",
          "model_name": "LayoutModel",
          "state": {
            "_model_module": "@jupyter-widgets/base",
            "_model_module_version": "1.2.0",
            "_model_name": "LayoutModel",
            "_view_count": null,
            "_view_module": "@jupyter-widgets/base",
            "_view_module_version": "1.2.0",
            "_view_name": "LayoutView",
            "align_content": null,
            "align_items": null,
            "align_self": null,
            "border": null,
            "bottom": null,
            "display": null,
            "flex": null,
            "flex_flow": null,
            "grid_area": null,
            "grid_auto_columns": null,
            "grid_auto_flow": null,
            "grid_auto_rows": null,
            "grid_column": null,
            "grid_gap": null,
            "grid_row": null,
            "grid_template_areas": null,
            "grid_template_columns": null,
            "grid_template_rows": null,
            "height": null,
            "justify_content": null,
            "justify_items": null,
            "left": null,
            "margin": null,
            "max_height": null,
            "max_width": null,
            "min_height": null,
            "min_width": null,
            "object_fit": null,
            "object_position": null,
            "order": null,
            "overflow": null,
            "overflow_x": null,
            "overflow_y": null,
            "padding": null,
            "right": null,
            "top": null,
            "visibility": null,
            "width": null
          }
        },
        "e2f6967c715f4beb83d7b85d1b212613": {
          "model_module": "@jupyter-widgets/controls",
          "model_module_version": "1.5.0",
          "model_name": "ProgressStyleModel",
          "state": {
            "_model_module": "@jupyter-widgets/controls",
            "_model_module_version": "1.5.0",
            "_model_name": "ProgressStyleModel",
            "_view_count": null,
            "_view_module": "@jupyter-widgets/base",
            "_view_module_version": "1.2.0",
            "_view_name": "StyleView",
            "bar_color": null,
            "description_width": ""
          }
        },
        "e4876fdf9b3047688ceb8138a2fea39d": {
          "model_module": "@jupyter-widgets/base",
          "model_module_version": "1.2.0",
          "model_name": "LayoutModel",
          "state": {
            "_model_module": "@jupyter-widgets/base",
            "_model_module_version": "1.2.0",
            "_model_name": "LayoutModel",
            "_view_count": null,
            "_view_module": "@jupyter-widgets/base",
            "_view_module_version": "1.2.0",
            "_view_name": "LayoutView",
            "align_content": null,
            "align_items": null,
            "align_self": null,
            "border": null,
            "bottom": null,
            "display": null,
            "flex": null,
            "flex_flow": null,
            "grid_area": null,
            "grid_auto_columns": null,
            "grid_auto_flow": null,
            "grid_auto_rows": null,
            "grid_column": null,
            "grid_gap": null,
            "grid_row": null,
            "grid_template_areas": null,
            "grid_template_columns": null,
            "grid_template_rows": null,
            "height": null,
            "justify_content": null,
            "justify_items": null,
            "left": null,
            "margin": null,
            "max_height": null,
            "max_width": null,
            "min_height": null,
            "min_width": null,
            "object_fit": null,
            "object_position": null,
            "order": null,
            "overflow": null,
            "overflow_x": null,
            "overflow_y": null,
            "padding": null,
            "right": null,
            "top": null,
            "visibility": null,
            "width": null
          }
        },
        "e9367d9d6cfe420aa837ddb5c9cd7f08": {
          "model_module": "@jupyter-widgets/base",
          "model_module_version": "1.2.0",
          "model_name": "LayoutModel",
          "state": {
            "_model_module": "@jupyter-widgets/base",
            "_model_module_version": "1.2.0",
            "_model_name": "LayoutModel",
            "_view_count": null,
            "_view_module": "@jupyter-widgets/base",
            "_view_module_version": "1.2.0",
            "_view_name": "LayoutView",
            "align_content": null,
            "align_items": null,
            "align_self": null,
            "border": null,
            "bottom": null,
            "display": null,
            "flex": null,
            "flex_flow": null,
            "grid_area": null,
            "grid_auto_columns": null,
            "grid_auto_flow": null,
            "grid_auto_rows": null,
            "grid_column": null,
            "grid_gap": null,
            "grid_row": null,
            "grid_template_areas": null,
            "grid_template_columns": null,
            "grid_template_rows": null,
            "height": null,
            "justify_content": null,
            "justify_items": null,
            "left": null,
            "margin": null,
            "max_height": null,
            "max_width": null,
            "min_height": null,
            "min_width": null,
            "object_fit": null,
            "object_position": null,
            "order": null,
            "overflow": null,
            "overflow_x": null,
            "overflow_y": null,
            "padding": null,
            "right": null,
            "top": null,
            "visibility": null,
            "width": null
          }
        },
        "e9bf3f281f3b4f22896e86fbb1a1a4c6": {
          "model_module": "@jupyter-widgets/controls",
          "model_module_version": "1.5.0",
          "model_name": "FloatProgressModel",
          "state": {
            "_dom_classes": [],
            "_model_module": "@jupyter-widgets/controls",
            "_model_module_version": "1.5.0",
            "_model_name": "FloatProgressModel",
            "_view_count": null,
            "_view_module": "@jupyter-widgets/controls",
            "_view_module_version": "1.5.0",
            "_view_name": "ProgressView",
            "bar_style": "success",
            "description": "",
            "description_tooltip": null,
            "layout": "IPY_MODEL_be4cbbf8b5c140cdaf2707634cad1285",
            "max": 1,
            "min": 0,
            "orientation": "horizontal",
            "style": "IPY_MODEL_4f7bc26cd6e04ae9b46316e2674c7196",
            "value": 1
          }
        },
        "ecea3749f8394f15ad7a583f1d4b2436": {
          "model_module": "@jupyter-widgets/controls",
          "model_module_version": "1.5.0",
          "model_name": "ProgressStyleModel",
          "state": {
            "_model_module": "@jupyter-widgets/controls",
            "_model_module_version": "1.5.0",
            "_model_name": "ProgressStyleModel",
            "_view_count": null,
            "_view_module": "@jupyter-widgets/base",
            "_view_module_version": "1.2.0",
            "_view_name": "StyleView",
            "bar_color": null,
            "description_width": ""
          }
        },
        "ee571a6e4e8b44d78674a510d0bf02c4": {
          "model_module": "@jupyter-widgets/controls",
          "model_module_version": "1.5.0",
          "model_name": "FloatProgressModel",
          "state": {
            "_dom_classes": [],
            "_model_module": "@jupyter-widgets/controls",
            "_model_module_version": "1.5.0",
            "_model_name": "FloatProgressModel",
            "_view_count": null,
            "_view_module": "@jupyter-widgets/controls",
            "_view_module_version": "1.5.0",
            "_view_name": "ProgressView",
            "bar_style": "success",
            "description": "",
            "description_tooltip": null,
            "layout": "IPY_MODEL_566095e6fc9f4b9ab060132a004f7f38",
            "max": 1,
            "min": 0,
            "orientation": "horizontal",
            "style": "IPY_MODEL_ecea3749f8394f15ad7a583f1d4b2436",
            "value": 1
          }
        },
        "eecb242bccfb4c78a3953b323b049663": {
          "model_module": "@jupyter-widgets/base",
          "model_module_version": "1.2.0",
          "model_name": "LayoutModel",
          "state": {
            "_model_module": "@jupyter-widgets/base",
            "_model_module_version": "1.2.0",
            "_model_name": "LayoutModel",
            "_view_count": null,
            "_view_module": "@jupyter-widgets/base",
            "_view_module_version": "1.2.0",
            "_view_name": "LayoutView",
            "align_content": null,
            "align_items": null,
            "align_self": null,
            "border": null,
            "bottom": null,
            "display": null,
            "flex": null,
            "flex_flow": null,
            "grid_area": null,
            "grid_auto_columns": null,
            "grid_auto_flow": null,
            "grid_auto_rows": null,
            "grid_column": null,
            "grid_gap": null,
            "grid_row": null,
            "grid_template_areas": null,
            "grid_template_columns": null,
            "grid_template_rows": null,
            "height": null,
            "justify_content": null,
            "justify_items": null,
            "left": null,
            "margin": null,
            "max_height": null,
            "max_width": null,
            "min_height": null,
            "min_width": null,
            "object_fit": null,
            "object_position": null,
            "order": null,
            "overflow": null,
            "overflow_x": null,
            "overflow_y": null,
            "padding": null,
            "right": null,
            "top": null,
            "visibility": null,
            "width": null
          }
        },
        "ef77df52bb71413592bcfabb2f833b6b": {
          "model_module": "@jupyter-widgets/controls",
          "model_module_version": "1.5.0",
          "model_name": "FloatProgressModel",
          "state": {
            "_dom_classes": [],
            "_model_module": "@jupyter-widgets/controls",
            "_model_module_version": "1.5.0",
            "_model_name": "FloatProgressModel",
            "_view_count": null,
            "_view_module": "@jupyter-widgets/controls",
            "_view_module_version": "1.5.0",
            "_view_name": "ProgressView",
            "bar_style": "success",
            "description": "",
            "description_tooltip": null,
            "layout": "IPY_MODEL_6ec550b07c1c463fa8c6b38d13ff8f43",
            "max": 1,
            "min": 0,
            "orientation": "horizontal",
            "style": "IPY_MODEL_d9c8d6cf622244ee95c3c585c8545504",
            "value": 1
          }
        },
        "f1e8cfe01a504750b28feeca533a6af9": {
          "model_module": "@jupyter-widgets/base",
          "model_module_version": "1.2.0",
          "model_name": "LayoutModel",
          "state": {
            "_model_module": "@jupyter-widgets/base",
            "_model_module_version": "1.2.0",
            "_model_name": "LayoutModel",
            "_view_count": null,
            "_view_module": "@jupyter-widgets/base",
            "_view_module_version": "1.2.0",
            "_view_name": "LayoutView",
            "align_content": null,
            "align_items": null,
            "align_self": null,
            "border": null,
            "bottom": null,
            "display": null,
            "flex": null,
            "flex_flow": null,
            "grid_area": null,
            "grid_auto_columns": null,
            "grid_auto_flow": null,
            "grid_auto_rows": null,
            "grid_column": null,
            "grid_gap": null,
            "grid_row": null,
            "grid_template_areas": null,
            "grid_template_columns": null,
            "grid_template_rows": null,
            "height": null,
            "justify_content": null,
            "justify_items": null,
            "left": null,
            "margin": null,
            "max_height": null,
            "max_width": null,
            "min_height": null,
            "min_width": null,
            "object_fit": null,
            "object_position": null,
            "order": null,
            "overflow": null,
            "overflow_x": null,
            "overflow_y": null,
            "padding": null,
            "right": null,
            "top": null,
            "visibility": null,
            "width": null
          }
        },
        "f430c6460bbc466a9aa23336c6aa2224": {
          "model_module": "@jupyter-widgets/controls",
          "model_module_version": "1.5.0",
          "model_name": "DescriptionStyleModel",
          "state": {
            "_model_module": "@jupyter-widgets/controls",
            "_model_module_version": "1.5.0",
            "_model_name": "DescriptionStyleModel",
            "_view_count": null,
            "_view_module": "@jupyter-widgets/base",
            "_view_module_version": "1.2.0",
            "_view_name": "StyleView",
            "description_width": ""
          }
        },
        "fe43e1483c0148329d555282a47f9306": {
          "model_module": "@jupyter-widgets/base",
          "model_module_version": "1.2.0",
          "model_name": "LayoutModel",
          "state": {
            "_model_module": "@jupyter-widgets/base",
            "_model_module_version": "1.2.0",
            "_model_name": "LayoutModel",
            "_view_count": null,
            "_view_module": "@jupyter-widgets/base",
            "_view_module_version": "1.2.0",
            "_view_name": "LayoutView",
            "align_content": null,
            "align_items": null,
            "align_self": null,
            "border": null,
            "bottom": null,
            "display": null,
            "flex": null,
            "flex_flow": null,
            "grid_area": null,
            "grid_auto_columns": null,
            "grid_auto_flow": null,
            "grid_auto_rows": null,
            "grid_column": null,
            "grid_gap": null,
            "grid_row": null,
            "grid_template_areas": null,
            "grid_template_columns": null,
            "grid_template_rows": null,
            "height": null,
            "justify_content": null,
            "justify_items": null,
            "left": null,
            "margin": null,
            "max_height": null,
            "max_width": null,
            "min_height": null,
            "min_width": null,
            "object_fit": null,
            "object_position": null,
            "order": null,
            "overflow": null,
            "overflow_x": null,
            "overflow_y": null,
            "padding": null,
            "right": null,
            "top": null,
            "visibility": "hidden",
            "width": null
          }
        },
        "ff8e8527e80d4d5ebeb0026334a2b6fd": {
          "model_module": "@jupyter-widgets/controls",
          "model_module_version": "1.5.0",
          "model_name": "DescriptionStyleModel",
          "state": {
            "_model_module": "@jupyter-widgets/controls",
            "_model_module_version": "1.5.0",
            "_model_name": "DescriptionStyleModel",
            "_view_count": null,
            "_view_module": "@jupyter-widgets/base",
            "_view_module_version": "1.2.0",
            "_view_name": "StyleView",
            "description_width": ""
          }
        }
      }
    }
  },
  "nbformat": 4,
  "nbformat_minor": 0
}
