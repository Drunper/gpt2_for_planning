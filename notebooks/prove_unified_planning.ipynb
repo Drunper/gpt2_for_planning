{
  "cells": [
    {
      "cell_type": "code",
      "execution_count": 1,
      "metadata": {
        "id": "18T8CItVgNQ5"
      },
      "outputs": [],
      "source": [
        "problem_txt = \"\"\"\n",
        "(define (problem logistics-test)\n",
        "(:domain logistics)\n",
        "(:objects\n",
        "\tapn4 apn5 apn2 apn8 apn3 apn6 apn7 apn1 - airplane\n",
        "\tcit5 cit6 cit3 cit1 cit2 cit4 - city\n",
        "\tapt4 apt5 apt6 apt8 apt7 apt3 apt2 apt1 - airport\n",
        "\ttru2 tru4 tru1 tru5 tru3 - truck\n",
        "\tobj23 obj44 obj13 obj12 obj22 obj11 obj88 obj99 obj33 obj77 obj21 obj66 obj55 obj00 - package\n",
        "\tpos33 pos55 pos21 pos23 pos11 pos22 pos66 pos44 pos77 pos13 pos12 - location\n",
        ")\n",
        "(:init\n",
        "\t(at apn4 apt4)\n",
        "\t(at apn5 apt4)\n",
        "\t(at apn2 apt2)\n",
        "\t(at apn8 apt1)\n",
        "\t(at apn3 apt6)\n",
        "\t(at apn6 apt2)\n",
        "\t(at apn7 apt8)\n",
        "\t(at apn1 apt3)\n",
        "\t(at obj23 pos12)\n",
        "\t(at obj44 pos23)\n",
        "\t(at obj13 pos21)\n",
        "\t(at obj12 pos22)\n",
        "\t(at obj22 pos23)\n",
        "\t(at obj11 pos21)\n",
        "\t(at obj88 pos22)\n",
        "\t(at obj99 pos33)\n",
        "\t(at obj33 pos21)\n",
        "\t(at obj77 pos66)\n",
        "\t(at obj21 pos55)\n",
        "\t(at obj66 pos22)\n",
        "\t(at obj55 pos23)\n",
        "\t(at obj00 pos11)\n",
        "\t(in-city apt4 cit1)\n",
        "\t(in-city apt5 cit4)\n",
        "\t(in-city apt6 cit2)\n",
        "\t(in-city apt8 cit6)\n",
        "\t(in-city apt7 cit3)\n",
        "\t(in-city apt3 cit5)\n",
        "\t(in-city apt2 cit1)\n",
        "\t(in-city apt1 cit4)\n",
        "\t(in-city pos33 cit3)\n",
        "\t(in-city pos55 cit2)\n",
        "\t(in-city pos21 cit6)\n",
        "\t(in-city pos23 cit4)\n",
        "\t(in-city pos11 cit2)\n",
        "\t(in-city pos22 cit6)\n",
        "\t(in-city pos66 cit5)\n",
        "\t(in-city pos44 cit1)\n",
        "\t(in-city pos77 cit3)\n",
        "\t(in-city pos13 cit1)\n",
        "\t(in-city pos12 cit6)\n",
        "\t(at tru3 pos33)\n",
        "\t(at tru5 pos55)\n",
        "\t(at tru1 pos22)\n",
        "\t(at tru4 pos23)\n",
        "\t(at tru2 pos66)\n",
        ")\n",
        "(:goal\n",
        "\t(and\n",
        "\t\t(at obj99 pos66)\n",
        "\t\t(at obj00 pos21)\n",
        "\t\t(at obj12 pos77)\n",
        "\t\t(at obj77 pos66)\n",
        "))\n",
        ")\n",
        "\"\"\"\n",
        "\n",
        "domain_txt = \"\"\"\n",
        ";; logistics domain Typed version.\n",
        ";;\n",
        "\n",
        "(define (domain logistics)\n",
        "  (:requirements :strips :typing) \n",
        "  (:types truck\n",
        "          airplane - vehicle\n",
        "          package\n",
        "          vehicle - physobj\n",
        "          airport\n",
        "          location - place\n",
        "          city\n",
        "          place \n",
        "          physobj - object)\n",
        "  \n",
        "  (:predicates \t(in-city ?loc - place ?city - city)\n",
        "\t\t(at ?obj - physobj ?loc - place)\n",
        "\t\t(in ?pkg - package ?veh - vehicle))\n",
        "  \n",
        "(:action LOAD-TRUCK\n",
        "   :parameters    (?pkg - package ?truck - truck ?loc - place)\n",
        "   :precondition  (and (at ?truck ?loc) (at ?pkg ?loc))\n",
        "   :effect        (and (not (at ?pkg ?loc)) (in ?pkg ?truck)))\n",
        "\n",
        "(:action LOAD-AIRPLANE\n",
        "  :parameters   (?pkg - package ?airplane - airplane ?loc - place)\n",
        "  :precondition (and (at ?pkg ?loc) (at ?airplane ?loc))\n",
        "  :effect       (and (not (at ?pkg ?loc)) (in ?pkg ?airplane)))\n",
        "\n",
        "(:action UNLOAD-TRUCK\n",
        "  :parameters   (?pkg - package ?truck - truck ?loc - place)\n",
        "  :precondition (and (at ?truck ?loc) (in ?pkg ?truck))\n",
        "  :effect       (and (not (in ?pkg ?truck)) (at ?pkg ?loc)))\n",
        "\n",
        "(:action UNLOAD-AIRPLANE\n",
        "  :parameters    (?pkg - package ?airplane - airplane ?loc - place)\n",
        "  :precondition  (and (in ?pkg ?airplane) (at ?airplane ?loc))\n",
        "  :effect        (and (not (in ?pkg ?airplane)) (at ?pkg ?loc)))\n",
        "\n",
        "(:action DRIVE-TRUCK\n",
        "  :parameters (?truck - truck ?loc-from - place ?loc-to - place ?city - city)\n",
        "  :precondition\n",
        "   (and (at ?truck ?loc-from) (in-city ?loc-from ?city) (in-city ?loc-to ?city))\n",
        "  :effect\n",
        "   (and (not (at ?truck ?loc-from)) (at ?truck ?loc-to)))\n",
        "\n",
        "(:action FLY-AIRPLANE\n",
        "  :parameters (?airplane - airplane ?loc-from - airport ?loc-to - airport)\n",
        "  :precondition\n",
        "   (at ?airplane ?loc-from)\n",
        "  :effect\n",
        "   (and (not (at ?airplane ?loc-from)) (at ?airplane ?loc-to)))\n",
        ")\n",
        "\"\"\"\n",
        "\n",
        "blocks_problem = open(\"blocks_problem.pddl\", \"w\")\n",
        "blocks_problem.write(problem_txt)\n",
        "blocks_problem.close()\n",
        "\n",
        "blocks_domain = open(\"blocks_domain.pddl\", \"w\")\n",
        "blocks_domain.write(domain_txt)\n",
        "blocks_domain.close()"
      ]
    },
    {
      "cell_type": "code",
      "execution_count": 2,
      "metadata": {
        "id": "D1cuNXiNj93G"
      },
      "outputs": [],
      "source": [
        "from unified_planning.engines.compilers.grounder import Grounder\n",
        "from unified_planning.io.pddl_reader import PDDLReader\n",
        "from unified_planning.engines import SequentialSimulator\n",
        "from unified_planning.model import UPCOWState\n",
        "from unified_planning.shortcuts import *\n",
        "from typing import cast"
      ]
    },
    {
      "cell_type": "markdown",
      "metadata": {
        "id": "e36J_Seek6V4"
      },
      "source": [
        "Parsing e grounding del problema"
      ]
    },
    {
      "cell_type": "code",
      "execution_count": 3,
      "metadata": {
        "id": "mfJZbM3hhDoW"
      },
      "outputs": [],
      "source": [
        "reader = PDDLReader()\n",
        "problem = reader.parse_problem('blocks_domain.pddl', 'blocks_problem.pddl')\n",
        "problem = Grounder().compile(problem).problem\n",
        "# Viene definito lo stato iniziale come un UPCOWState\n",
        "init_state = UPCOWState(problem.initial_values)\n",
        "# Viene inizializzato il simulatore integrato nel pddl\n",
        "simulator = SequentialSimulator(problem)"
      ]
    },
    {
      "cell_type": "code",
      "execution_count": 5,
      "metadata": {},
      "outputs": [],
      "source": [
        "from unified_planning.model.walkers import StateEvaluator"
      ]
    },
    {
      "cell_type": "code",
      "execution_count": 6,
      "metadata": {},
      "outputs": [],
      "source": [
        "state_evaluator = StateEvaluator(problem)"
      ]
    },
    {
      "cell_type": "code",
      "execution_count": 7,
      "metadata": {},
      "outputs": [
        {
          "data": {
            "text/plain": [
              "161437515090"
            ]
          },
          "execution_count": 7,
          "metadata": {},
          "output_type": "execute_result"
        }
      ],
      "source": [
        "hash(init_state) "
      ]
    },
    {
      "cell_type": "code",
      "execution_count": 8,
      "metadata": {},
      "outputs": [
        {
          "data": {
            "text/plain": [
              "unified_planning.model.fnode.FNode"
            ]
          },
          "execution_count": 8,
          "metadata": {},
          "output_type": "execute_result"
        }
      ],
      "source": [
        "type(problem.goals[0])"
      ]
    },
    {
      "cell_type": "code",
      "execution_count": 9,
      "metadata": {},
      "outputs": [
        {
          "data": {
            "text/plain": [
              "false"
            ]
          },
          "execution_count": 9,
          "metadata": {},
          "output_type": "execute_result"
        }
      ],
      "source": [
        "state_evaluator.evaluate(problem.goals[0], init_state)"
      ]
    },
    {
      "cell_type": "markdown",
      "metadata": {
        "id": "Te_xEtDclfdg"
      },
      "source": [
        "Il simulatore restituisce una lista di eventi che rappresentano le possibili azioni che sono agibili da un determinato stato"
      ]
    },
    {
      "cell_type": "code",
      "execution_count": 10,
      "metadata": {
        "colab": {
          "base_uri": "https://localhost:8080/"
        },
        "id": "F4iMpFuekm5P",
        "outputId": "74190fa0-46fb-4ed4-9843-2956f97894c0"
      },
      "outputs": [
        {
          "name": "stdout",
          "output_type": "stream",
          "text": [
            "{'_conditions': [at(tru4, pos23), at(obj44, pos23)], '_effects': [at(obj44, pos23) := false, in(obj44, tru4) := true], '_simulated_effect': None}\n",
            "{'_conditions': [at(tru1, pos22), at(obj12, pos22)], '_effects': [at(obj12, pos22) := false, in(obj12, tru1) := true], '_simulated_effect': None}\n",
            "{'_conditions': [at(tru4, pos23), at(obj22, pos23)], '_effects': [at(obj22, pos23) := false, in(obj22, tru4) := true], '_simulated_effect': None}\n",
            "{'_conditions': [at(tru1, pos22), at(obj88, pos22)], '_effects': [at(obj88, pos22) := false, in(obj88, tru1) := true], '_simulated_effect': None}\n",
            "{'_conditions': [at(tru3, pos33), at(obj99, pos33)], '_effects': [at(obj99, pos33) := false, in(obj99, tru3) := true], '_simulated_effect': None}\n",
            "{'_conditions': [at(tru2, pos66), at(obj77, pos66)], '_effects': [at(obj77, pos66) := false, in(obj77, tru2) := true], '_simulated_effect': None}\n",
            "{'_conditions': [at(tru5, pos55), at(obj21, pos55)], '_effects': [at(obj21, pos55) := false, in(obj21, tru5) := true], '_simulated_effect': None}\n",
            "{'_conditions': [at(tru1, pos22), at(obj66, pos22)], '_effects': [at(obj66, pos22) := false, in(obj66, tru1) := true], '_simulated_effect': None}\n",
            "{'_conditions': [at(tru4, pos23), at(obj55, pos23)], '_effects': [at(obj55, pos23) := false, in(obj55, tru4) := true], '_simulated_effect': None}\n",
            "{'_conditions': [at(tru2, pos66)], '_effects': [at(tru2, pos66) := false, at(tru2, apt3) := true], '_simulated_effect': None}\n",
            "{'_conditions': [at(tru4, pos23)], '_effects': [at(tru4, pos23) := false, at(tru4, apt5) := true], '_simulated_effect': None}\n",
            "{'_conditions': [at(tru4, pos23)], '_effects': [at(tru4, pos23) := false, at(tru4, apt1) := true], '_simulated_effect': None}\n",
            "{'_conditions': [at(tru1, pos22)], '_effects': [at(tru1, pos22) := false, at(tru1, apt8) := true], '_simulated_effect': None}\n",
            "{'_conditions': [at(tru1, pos22)], '_effects': [at(tru1, pos22) := false, at(tru1, pos21) := true], '_simulated_effect': None}\n",
            "{'_conditions': [at(tru1, pos22)], '_effects': [at(tru1, pos22) := false, at(tru1, pos12) := true], '_simulated_effect': None}\n",
            "{'_conditions': [at(tru5, pos55)], '_effects': [at(tru5, pos55) := false, at(tru5, apt6) := true], '_simulated_effect': None}\n",
            "{'_conditions': [at(tru5, pos55)], '_effects': [at(tru5, pos55) := false, at(tru5, pos11) := true], '_simulated_effect': None}\n",
            "{'_conditions': [at(tru3, pos33)], '_effects': [at(tru3, pos33) := false, at(tru3, apt7) := true], '_simulated_effect': None}\n",
            "{'_conditions': [at(tru3, pos33)], '_effects': [at(tru3, pos33) := false, at(tru3, pos77) := true], '_simulated_effect': None}\n",
            "{'_conditions': [at(apn4, apt4)], '_effects': [at(apn4, apt4) := false, at(apn4, apt5) := true], '_simulated_effect': None}\n",
            "{'_conditions': [at(apn4, apt4)], '_effects': [at(apn4, apt4) := false, at(apn4, apt6) := true], '_simulated_effect': None}\n",
            "{'_conditions': [at(apn4, apt4)], '_effects': [at(apn4, apt4) := false, at(apn4, apt8) := true], '_simulated_effect': None}\n",
            "{'_conditions': [at(apn4, apt4)], '_effects': [at(apn4, apt4) := false, at(apn4, apt7) := true], '_simulated_effect': None}\n",
            "{'_conditions': [at(apn4, apt4)], '_effects': [at(apn4, apt4) := false, at(apn4, apt3) := true], '_simulated_effect': None}\n",
            "{'_conditions': [at(apn4, apt4)], '_effects': [at(apn4, apt4) := false, at(apn4, apt2) := true], '_simulated_effect': None}\n",
            "{'_conditions': [at(apn4, apt4)], '_effects': [at(apn4, apt4) := false, at(apn4, apt1) := true], '_simulated_effect': None}\n",
            "{'_conditions': [at(apn5, apt4)], '_effects': [at(apn5, apt4) := false, at(apn5, apt5) := true], '_simulated_effect': None}\n",
            "{'_conditions': [at(apn5, apt4)], '_effects': [at(apn5, apt4) := false, at(apn5, apt6) := true], '_simulated_effect': None}\n",
            "{'_conditions': [at(apn5, apt4)], '_effects': [at(apn5, apt4) := false, at(apn5, apt8) := true], '_simulated_effect': None}\n",
            "{'_conditions': [at(apn5, apt4)], '_effects': [at(apn5, apt4) := false, at(apn5, apt7) := true], '_simulated_effect': None}\n",
            "{'_conditions': [at(apn5, apt4)], '_effects': [at(apn5, apt4) := false, at(apn5, apt3) := true], '_simulated_effect': None}\n",
            "{'_conditions': [at(apn5, apt4)], '_effects': [at(apn5, apt4) := false, at(apn5, apt2) := true], '_simulated_effect': None}\n",
            "{'_conditions': [at(apn5, apt4)], '_effects': [at(apn5, apt4) := false, at(apn5, apt1) := true], '_simulated_effect': None}\n",
            "{'_conditions': [at(apn2, apt2)], '_effects': [at(apn2, apt2) := false, at(apn2, apt4) := true], '_simulated_effect': None}\n",
            "{'_conditions': [at(apn2, apt2)], '_effects': [at(apn2, apt2) := false, at(apn2, apt5) := true], '_simulated_effect': None}\n",
            "{'_conditions': [at(apn2, apt2)], '_effects': [at(apn2, apt2) := false, at(apn2, apt6) := true], '_simulated_effect': None}\n",
            "{'_conditions': [at(apn2, apt2)], '_effects': [at(apn2, apt2) := false, at(apn2, apt8) := true], '_simulated_effect': None}\n",
            "{'_conditions': [at(apn2, apt2)], '_effects': [at(apn2, apt2) := false, at(apn2, apt7) := true], '_simulated_effect': None}\n",
            "{'_conditions': [at(apn2, apt2)], '_effects': [at(apn2, apt2) := false, at(apn2, apt3) := true], '_simulated_effect': None}\n",
            "{'_conditions': [at(apn2, apt2)], '_effects': [at(apn2, apt2) := false, at(apn2, apt1) := true], '_simulated_effect': None}\n",
            "{'_conditions': [at(apn8, apt1)], '_effects': [at(apn8, apt1) := false, at(apn8, apt4) := true], '_simulated_effect': None}\n",
            "{'_conditions': [at(apn8, apt1)], '_effects': [at(apn8, apt1) := false, at(apn8, apt5) := true], '_simulated_effect': None}\n",
            "{'_conditions': [at(apn8, apt1)], '_effects': [at(apn8, apt1) := false, at(apn8, apt6) := true], '_simulated_effect': None}\n",
            "{'_conditions': [at(apn8, apt1)], '_effects': [at(apn8, apt1) := false, at(apn8, apt8) := true], '_simulated_effect': None}\n",
            "{'_conditions': [at(apn8, apt1)], '_effects': [at(apn8, apt1) := false, at(apn8, apt7) := true], '_simulated_effect': None}\n",
            "{'_conditions': [at(apn8, apt1)], '_effects': [at(apn8, apt1) := false, at(apn8, apt3) := true], '_simulated_effect': None}\n",
            "{'_conditions': [at(apn8, apt1)], '_effects': [at(apn8, apt1) := false, at(apn8, apt2) := true], '_simulated_effect': None}\n",
            "{'_conditions': [at(apn3, apt6)], '_effects': [at(apn3, apt6) := false, at(apn3, apt4) := true], '_simulated_effect': None}\n",
            "{'_conditions': [at(apn3, apt6)], '_effects': [at(apn3, apt6) := false, at(apn3, apt5) := true], '_simulated_effect': None}\n",
            "{'_conditions': [at(apn3, apt6)], '_effects': [at(apn3, apt6) := false, at(apn3, apt8) := true], '_simulated_effect': None}\n",
            "{'_conditions': [at(apn3, apt6)], '_effects': [at(apn3, apt6) := false, at(apn3, apt7) := true], '_simulated_effect': None}\n",
            "{'_conditions': [at(apn3, apt6)], '_effects': [at(apn3, apt6) := false, at(apn3, apt3) := true], '_simulated_effect': None}\n",
            "{'_conditions': [at(apn3, apt6)], '_effects': [at(apn3, apt6) := false, at(apn3, apt2) := true], '_simulated_effect': None}\n",
            "{'_conditions': [at(apn3, apt6)], '_effects': [at(apn3, apt6) := false, at(apn3, apt1) := true], '_simulated_effect': None}\n",
            "{'_conditions': [at(apn6, apt2)], '_effects': [at(apn6, apt2) := false, at(apn6, apt4) := true], '_simulated_effect': None}\n",
            "{'_conditions': [at(apn6, apt2)], '_effects': [at(apn6, apt2) := false, at(apn6, apt5) := true], '_simulated_effect': None}\n",
            "{'_conditions': [at(apn6, apt2)], '_effects': [at(apn6, apt2) := false, at(apn6, apt6) := true], '_simulated_effect': None}\n",
            "{'_conditions': [at(apn6, apt2)], '_effects': [at(apn6, apt2) := false, at(apn6, apt8) := true], '_simulated_effect': None}\n",
            "{'_conditions': [at(apn6, apt2)], '_effects': [at(apn6, apt2) := false, at(apn6, apt7) := true], '_simulated_effect': None}\n",
            "{'_conditions': [at(apn6, apt2)], '_effects': [at(apn6, apt2) := false, at(apn6, apt3) := true], '_simulated_effect': None}\n",
            "{'_conditions': [at(apn6, apt2)], '_effects': [at(apn6, apt2) := false, at(apn6, apt1) := true], '_simulated_effect': None}\n",
            "{'_conditions': [at(apn7, apt8)], '_effects': [at(apn7, apt8) := false, at(apn7, apt4) := true], '_simulated_effect': None}\n",
            "{'_conditions': [at(apn7, apt8)], '_effects': [at(apn7, apt8) := false, at(apn7, apt5) := true], '_simulated_effect': None}\n",
            "{'_conditions': [at(apn7, apt8)], '_effects': [at(apn7, apt8) := false, at(apn7, apt6) := true], '_simulated_effect': None}\n",
            "{'_conditions': [at(apn7, apt8)], '_effects': [at(apn7, apt8) := false, at(apn7, apt7) := true], '_simulated_effect': None}\n",
            "{'_conditions': [at(apn7, apt8)], '_effects': [at(apn7, apt8) := false, at(apn7, apt3) := true], '_simulated_effect': None}\n",
            "{'_conditions': [at(apn7, apt8)], '_effects': [at(apn7, apt8) := false, at(apn7, apt2) := true], '_simulated_effect': None}\n",
            "{'_conditions': [at(apn7, apt8)], '_effects': [at(apn7, apt8) := false, at(apn7, apt1) := true], '_simulated_effect': None}\n",
            "{'_conditions': [at(apn1, apt3)], '_effects': [at(apn1, apt3) := false, at(apn1, apt4) := true], '_simulated_effect': None}\n",
            "{'_conditions': [at(apn1, apt3)], '_effects': [at(apn1, apt3) := false, at(apn1, apt5) := true], '_simulated_effect': None}\n",
            "{'_conditions': [at(apn1, apt3)], '_effects': [at(apn1, apt3) := false, at(apn1, apt6) := true], '_simulated_effect': None}\n",
            "{'_conditions': [at(apn1, apt3)], '_effects': [at(apn1, apt3) := false, at(apn1, apt8) := true], '_simulated_effect': None}\n",
            "{'_conditions': [at(apn1, apt3)], '_effects': [at(apn1, apt3) := false, at(apn1, apt7) := true], '_simulated_effect': None}\n",
            "{'_conditions': [at(apn1, apt3)], '_effects': [at(apn1, apt3) := false, at(apn1, apt2) := true], '_simulated_effect': None}\n",
            "{'_conditions': [at(apn1, apt3)], '_effects': [at(apn1, apt3) := false, at(apn1, apt1) := true], '_simulated_effect': None}\n"
          ]
        }
      ],
      "source": [
        "events = simulator.get_applicable_events(init_state)\n",
        "events = list(events)\n",
        "for event in events:\n",
        "  print(event.__dict__)"
      ]
    },
    {
      "cell_type": "markdown",
      "metadata": {
        "id": "Nz5I0OQ6mz2S"
      },
      "source": [
        "Per poter sapere quali azioni del problema originale siano eseguibili:"
      ]
    },
    {
      "cell_type": "code",
      "execution_count": 21,
      "metadata": {
        "colab": {
          "base_uri": "https://localhost:8080/"
        },
        "id": "-dNWtaBnlbXA",
        "outputId": "ea820dc5-413c-4a6a-8aae-aa33420e299c"
      },
      "outputs": [
        {
          "data": {
            "text/plain": [
              "action LOAD-TRUCK_obj44_tru4_pos23 {\n",
              "    preconditions = [\n",
              "      at(tru4, pos23)\n",
              "      at(obj44, pos23)\n",
              "    ]\n",
              "    effects = [\n",
              "      at(obj44, pos23) := false\n",
              "      in(obj44, tru4) := true\n",
              "    ]\n",
              "    simulated effect = None\n",
              "  }"
            ]
          },
          "execution_count": 21,
          "metadata": {},
          "output_type": "execute_result"
        }
      ],
      "source": [
        "possible_actions = []\n",
        "for ev in events:\n",
        "    for ac in problem.actions:\n",
        "        if ac.preconditions == ev.conditions and ac.effects == ev.effects:\n",
        "            possible_actions.append(ac)\n",
        "possible_actions[0]"
      ]
    },
    {
      "cell_type": "markdown",
      "metadata": {
        "id": "cvYhfbzPoHWW"
      },
      "source": [
        "Per valutare lo stato generato da una azione, utilizzare l'evento associato all'azione di interesse. Per esempio pick_up_d  "
      ]
    },
    {
      "cell_type": "code",
      "execution_count": 18,
      "metadata": {
        "colab": {
          "base_uri": "https://localhost:8080/"
        },
        "id": "hmTfJhE-nwhe",
        "outputId": "57b17ff3-2387-4130-9942-4f0cca0f16b6"
      },
      "outputs": [
        {
          "data": {
            "text/plain": [
              "{at(obj44, pos23): false, in(obj44, tru4): true}\n",
              "{at(apn4, apt4): true, at(apn5, apt4): true, at(apn2, apt2): true, at(apn8, apt1): true, at(apn3, apt6): true, at(apn6, apt2): true, at(apn7, apt8): true, at(apn1, apt3): true, at(obj23, pos12): true, at(obj44, pos23): true, at(obj13, pos21): true, at(obj12, pos22): true, at(obj22, pos23): true, at(obj11, pos21): true, at(obj88, pos22): true, at(obj99, pos33): true, at(obj33, pos21): true, at(obj77, pos66): true, at(obj21, pos55): true, at(obj66, pos22): true, at(obj55, pos23): true, at(obj00, pos11): true, in-city(apt4, cit1): true, in-city(apt5, cit4): true, in-city(apt6, cit2): true, in-city(apt8, cit6): true, in-city(apt7, cit3): true, in-city(apt3, cit5): true, in-city(apt2, cit1): true, in-city(apt1, cit4): true, in-city(pos33, cit3): true, in-city(pos55, cit2): true, in-city(pos21, cit6): true, in-city(pos23, cit4): true, in-city(pos11, cit2): true, in-city(pos22, cit6): true, in-city(pos66, cit5): true, in-city(pos44, cit1): true, in-city(pos77, cit3): true, in-city(pos13, cit1): true, in-city(pos12, cit6): true, at(tru3, pos33): true, at(tru5, pos55): true, at(tru1, pos22): true, at(tru4, pos23): true, at(tru2, pos66): true, in-city(apt4, cit5): false, in-city(apt5, cit5): false, in-city(apt6, cit5): false, in-city(apt8, cit5): false, in-city(apt7, cit5): false, in-city(apt2, cit5): false, in-city(apt1, cit5): false, in-city(pos33, cit5): false, in-city(pos55, cit5): false, in-city(pos21, cit5): false, in-city(pos23, cit5): false, in-city(pos11, cit5): false, in-city(pos22, cit5): false, in-city(pos44, cit5): false, in-city(pos77, cit5): false, in-city(pos13, cit5): false, in-city(pos12, cit5): false, in-city(apt4, cit6): false, in-city(apt5, cit6): false, in-city(apt6, cit6): false, in-city(apt7, cit6): false, in-city(apt3, cit6): false, in-city(apt2, cit6): false, in-city(apt1, cit6): false, in-city(pos33, cit6): false, in-city(pos55, cit6): false, in-city(pos23, cit6): false, in-city(pos11, cit6): false, in-city(pos66, cit6): false, in-city(pos44, cit6): false, in-city(pos77, cit6): false, in-city(pos13, cit6): false, in-city(apt4, cit3): false, in-city(apt5, cit3): false, in-city(apt6, cit3): false, in-city(apt8, cit3): false, in-city(apt3, cit3): false, in-city(apt2, cit3): false, in-city(apt1, cit3): false, in-city(pos55, cit3): false, in-city(pos21, cit3): false, in-city(pos23, cit3): false, in-city(pos11, cit3): false, in-city(pos22, cit3): false, in-city(pos66, cit3): false, in-city(pos44, cit3): false, in-city(pos13, cit3): false, in-city(pos12, cit3): false, in-city(apt5, cit1): false, in-city(apt6, cit1): false, in-city(apt8, cit1): false, in-city(apt7, cit1): false, in-city(apt3, cit1): false, in-city(apt1, cit1): false, in-city(pos33, cit1): false, in-city(pos55, cit1): false, in-city(pos21, cit1): false, in-city(pos23, cit1): false, in-city(pos11, cit1): false, in-city(pos22, cit1): false, in-city(pos66, cit1): false, in-city(pos77, cit1): false, in-city(pos12, cit1): false, in-city(apt4, cit2): false, in-city(apt5, cit2): false, in-city(apt8, cit2): false, in-city(apt7, cit2): false, in-city(apt3, cit2): false, in-city(apt2, cit2): false, in-city(apt1, cit2): false, in-city(pos33, cit2): false, in-city(pos21, cit2): false, in-city(pos23, cit2): false, in-city(pos22, cit2): false, in-city(pos66, cit2): false, in-city(pos44, cit2): false, in-city(pos77, cit2): false, in-city(pos13, cit2): false, in-city(pos12, cit2): false, in-city(apt4, cit4): false, in-city(apt6, cit4): false, in-city(apt8, cit4): false, in-city(apt7, cit4): false, in-city(apt3, cit4): false, in-city(apt2, cit4): false, in-city(pos33, cit4): false, in-city(pos55, cit4): false, in-city(pos21, cit4): false, in-city(pos11, cit4): false, in-city(pos22, cit4): false, in-city(pos66, cit4): false, in-city(pos44, cit4): false, in-city(pos77, cit4): false, in-city(pos13, cit4): false, in-city(pos12, cit4): false, at(apn2, apt4): false, at(apn8, apt4): false, at(apn3, apt4): false, at(apn6, apt4): false, at(apn7, apt4): false, at(apn1, apt4): false, at(tru2, apt4): false, at(tru4, apt4): false, at(tru1, apt4): false, at(tru5, apt4): false, at(tru3, apt4): false, at(obj23, apt4): false, at(obj44, apt4): false, at(obj13, apt4): false, at(obj12, apt4): false, at(obj22, apt4): false, at(obj11, apt4): false, at(obj88, apt4): false, at(obj99, apt4): false, at(obj33, apt4): false, at(obj77, apt4): false, at(obj21, apt4): false, at(obj66, apt4): false, at(obj55, apt4): false, at(obj00, apt4): false, at(apn4, apt5): false, at(apn5, apt5): false, at(apn2, apt5): false, at(apn8, apt5): false, at(apn3, apt5): false, at(apn6, apt5): false, at(apn7, apt5): false, at(apn1, apt5): false, at(tru2, apt5): false, at(tru4, apt5): false, at(tru1, apt5): false, at(tru5, apt5): false, at(tru3, apt5): false, at(obj23, apt5): false, at(obj44, apt5): false, at(obj13, apt5): false, at(obj12, apt5): false, at(obj22, apt5): false, at(obj11, apt5): false, at(obj88, apt5): false, at(obj99, apt5): false, at(obj33, apt5): false, at(obj77, apt5): false, at(obj21, apt5): false, at(obj66, apt5): false, at(obj55, apt5): false, at(obj00, apt5): false, at(apn4, apt6): false, at(apn5, apt6): false, at(apn2, apt6): false, at(apn8, apt6): false, at(apn6, apt6): false, at(apn7, apt6): false, at(apn1, apt6): false, at(tru2, apt6): false, at(tru4, apt6): false, at(tru1, apt6): false, at(tru5, apt6): false, at(tru3, apt6): false, at(obj23, apt6): false, at(obj44, apt6): false, at(obj13, apt6): false, at(obj12, apt6): false, at(obj22, apt6): false, at(obj11, apt6): false, at(obj88, apt6): false, at(obj99, apt6): false, at(obj33, apt6): false, at(obj77, apt6): false, at(obj21, apt6): false, at(obj66, apt6): false, at(obj55, apt6): false, at(obj00, apt6): false, at(apn4, apt8): false, at(apn5, apt8): false, at(apn2, apt8): false, at(apn8, apt8): false, at(apn3, apt8): false, at(apn6, apt8): false, at(apn1, apt8): false, at(tru2, apt8): false, at(tru4, apt8): false, at(tru1, apt8): false, at(tru5, apt8): false, at(tru3, apt8): false, at(obj23, apt8): false, at(obj44, apt8): false, at(obj13, apt8): false, at(obj12, apt8): false, at(obj22, apt8): false, at(obj11, apt8): false, at(obj88, apt8): false, at(obj99, apt8): false, at(obj33, apt8): false, at(obj77, apt8): false, at(obj21, apt8): false, at(obj66, apt8): false, at(obj55, apt8): false, at(obj00, apt8): false, at(apn4, apt7): false, at(apn5, apt7): false, at(apn2, apt7): false, at(apn8, apt7): false, at(apn3, apt7): false, at(apn6, apt7): false, at(apn7, apt7): false, at(apn1, apt7): false, at(tru2, apt7): false, at(tru4, apt7): false, at(tru1, apt7): false, at(tru5, apt7): false, at(tru3, apt7): false, at(obj23, apt7): false, at(obj44, apt7): false, at(obj13, apt7): false, at(obj12, apt7): false, at(obj22, apt7): false, at(obj11, apt7): false, at(obj88, apt7): false, at(obj99, apt7): false, at(obj33, apt7): false, at(obj77, apt7): false, at(obj21, apt7): false, at(obj66, apt7): false, at(obj55, apt7): false, at(obj00, apt7): false, at(apn4, apt3): false, at(apn5, apt3): false, at(apn2, apt3): false, at(apn8, apt3): false, at(apn3, apt3): false, at(apn6, apt3): false, at(apn7, apt3): false, at(tru2, apt3): false, at(tru4, apt3): false, at(tru1, apt3): false, at(tru5, apt3): false, at(tru3, apt3): false, at(obj23, apt3): false, at(obj44, apt3): false, at(obj13, apt3): false, at(obj12, apt3): false, at(obj22, apt3): false, at(obj11, apt3): false, at(obj88, apt3): false, at(obj99, apt3): false, at(obj33, apt3): false, at(obj77, apt3): false, at(obj21, apt3): false, at(obj66, apt3): false, at(obj55, apt3): false, at(obj00, apt3): false, at(apn4, apt2): false, at(apn5, apt2): false, at(apn8, apt2): false, at(apn3, apt2): false, at(apn7, apt2): false, at(apn1, apt2): false, at(tru2, apt2): false, at(tru4, apt2): false, at(tru1, apt2): false, at(tru5, apt2): false, at(tru3, apt2): false, at(obj23, apt2): false, at(obj44, apt2): false, at(obj13, apt2): false, at(obj12, apt2): false, at(obj22, apt2): false, at(obj11, apt2): false, at(obj88, apt2): false, at(obj99, apt2): false, at(obj33, apt2): false, at(obj77, apt2): false, at(obj21, apt2): false, at(obj66, apt2): false, at(obj55, apt2): false, at(obj00, apt2): false, at(apn4, apt1): false, at(apn5, apt1): false, at(apn2, apt1): false, at(apn3, apt1): false, at(apn6, apt1): false, at(apn7, apt1): false, at(apn1, apt1): false, at(tru2, apt1): false, at(tru4, apt1): false, at(tru1, apt1): false, at(tru5, apt1): false, at(tru3, apt1): false, at(obj23, apt1): false, at(obj44, apt1): false, at(obj13, apt1): false, at(obj12, apt1): false, at(obj22, apt1): false, at(obj11, apt1): false, at(obj88, apt1): false, at(obj99, apt1): false, at(obj33, apt1): false, at(obj77, apt1): false, at(obj21, apt1): false, at(obj66, apt1): false, at(obj55, apt1): false, at(obj00, apt1): false, at(apn4, pos33): false, at(apn5, pos33): false, at(apn2, pos33): false, at(apn8, pos33): false, at(apn3, pos33): false, at(apn6, pos33): false, at(apn7, pos33): false, at(apn1, pos33): false, at(tru2, pos33): false, at(tru4, pos33): false, at(tru1, pos33): false, at(tru5, pos33): false, at(obj23, pos33): false, at(obj44, pos33): false, at(obj13, pos33): false, at(obj12, pos33): false, at(obj22, pos33): false, at(obj11, pos33): false, at(obj88, pos33): false, at(obj33, pos33): false, at(obj77, pos33): false, at(obj21, pos33): false, at(obj66, pos33): false, at(obj55, pos33): false, at(obj00, pos33): false, at(apn4, pos55): false, at(apn5, pos55): false, at(apn2, pos55): false, at(apn8, pos55): false, at(apn3, pos55): false, at(apn6, pos55): false, at(apn7, pos55): false, at(apn1, pos55): false, at(tru2, pos55): false, at(tru4, pos55): false, at(tru1, pos55): false, at(tru3, pos55): false, at(obj23, pos55): false, at(obj44, pos55): false, at(obj13, pos55): false, at(obj12, pos55): false, at(obj22, pos55): false, at(obj11, pos55): false, at(obj88, pos55): false, at(obj99, pos55): false, at(obj33, pos55): false, at(obj77, pos55): false, at(obj66, pos55): false, at(obj55, pos55): false, at(obj00, pos55): false, at(apn4, pos21): false, at(apn5, pos21): false, at(apn2, pos21): false, at(apn8, pos21): false, at(apn3, pos21): false, at(apn6, pos21): false, at(apn7, pos21): false, at(apn1, pos21): false, at(tru2, pos21): false, at(tru4, pos21): false, at(tru1, pos21): false, at(tru5, pos21): false, at(tru3, pos21): false, at(obj23, pos21): false, at(obj44, pos21): false, at(obj12, pos21): false, at(obj22, pos21): false, at(obj88, pos21): false, at(obj99, pos21): false, at(obj77, pos21): false, at(obj21, pos21): false, at(obj66, pos21): false, at(obj55, pos21): false, at(obj00, pos21): false, at(apn4, pos23): false, at(apn5, pos23): false, at(apn2, pos23): false, at(apn8, pos23): false, at(apn3, pos23): false, at(apn6, pos23): false, at(apn7, pos23): false, at(apn1, pos23): false, at(tru2, pos23): false, at(tru1, pos23): false, at(tru5, pos23): false, at(tru3, pos23): false, at(obj23, pos23): false, at(obj13, pos23): false, at(obj12, pos23): false, at(obj11, pos23): false, at(obj88, pos23): false, at(obj99, pos23): false, at(obj33, pos23): false, at(obj77, pos23): false, at(obj21, pos23): false, at(obj66, pos23): false, at(obj00, pos23): false, at(apn4, pos11): false, at(apn5, pos11): false, at(apn2, pos11): false, at(apn8, pos11): false, at(apn3, pos11): false, at(apn6, pos11): false, at(apn7, pos11): false, at(apn1, pos11): false, at(tru2, pos11): false, at(tru4, pos11): false, at(tru1, pos11): false, at(tru5, pos11): false, at(tru3, pos11): false, at(obj23, pos11): false, at(obj44, pos11): false, at(obj13, pos11): false, at(obj12, pos11): false, at(obj22, pos11): false, at(obj11, pos11): false, at(obj88, pos11): false, at(obj99, pos11): false, at(obj33, pos11): false, at(obj77, pos11): false, at(obj21, pos11): false, at(obj66, pos11): false, at(obj55, pos11): false, at(apn4, pos22): false, at(apn5, pos22): false, at(apn2, pos22): false, at(apn8, pos22): false, at(apn3, pos22): false, at(apn6, pos22): false, at(apn7, pos22): false, at(apn1, pos22): false, at(tru2, pos22): false, at(tru4, pos22): false, at(tru5, pos22): false, at(tru3, pos22): false, at(obj23, pos22): false, at(obj44, pos22): false, at(obj13, pos22): false, at(obj22, pos22): false, at(obj11, pos22): false, at(obj99, pos22): false, at(obj33, pos22): false, at(obj77, pos22): false, at(obj21, pos22): false, at(obj55, pos22): false, at(obj00, pos22): false, at(apn4, pos66): false, at(apn5, pos66): false, at(apn2, pos66): false, at(apn8, pos66): false, at(apn3, pos66): false, at(apn6, pos66): false, at(apn7, pos66): false, at(apn1, pos66): false, at(tru4, pos66): false, at(tru1, pos66): false, at(tru5, pos66): false, at(tru3, pos66): false, at(obj23, pos66): false, at(obj44, pos66): false, at(obj13, pos66): false, at(obj12, pos66): false, at(obj22, pos66): false, at(obj11, pos66): false, at(obj88, pos66): false, at(obj99, pos66): false, at(obj33, pos66): false, at(obj21, pos66): false, at(obj66, pos66): false, at(obj55, pos66): false, at(obj00, pos66): false, at(apn4, pos44): false, at(apn5, pos44): false, at(apn2, pos44): false, at(apn8, pos44): false, at(apn3, pos44): false, at(apn6, pos44): false, at(apn7, pos44): false, at(apn1, pos44): false, at(tru2, pos44): false, at(tru4, pos44): false, at(tru1, pos44): false, at(tru5, pos44): false, at(tru3, pos44): false, at(obj23, pos44): false, at(obj44, pos44): false, at(obj13, pos44): false, at(obj12, pos44): false, at(obj22, pos44): false, at(obj11, pos44): false, at(obj88, pos44): false, at(obj99, pos44): false, at(obj33, pos44): false, at(obj77, pos44): false, at(obj21, pos44): false, at(obj66, pos44): false, at(obj55, pos44): false, at(obj00, pos44): false, at(apn4, pos77): false, at(apn5, pos77): false, at(apn2, pos77): false, at(apn8, pos77): false, at(apn3, pos77): false, at(apn6, pos77): false, at(apn7, pos77): false, at(apn1, pos77): false, at(tru2, pos77): false, at(tru4, pos77): false, at(tru1, pos77): false, at(tru5, pos77): false, at(tru3, pos77): false, at(obj23, pos77): false, at(obj44, pos77): false, at(obj13, pos77): false, at(obj12, pos77): false, at(obj22, pos77): false, at(obj11, pos77): false, at(obj88, pos77): false, at(obj99, pos77): false, at(obj33, pos77): false, at(obj77, pos77): false, at(obj21, pos77): false, at(obj66, pos77): false, at(obj55, pos77): false, at(obj00, pos77): false, at(apn4, pos13): false, at(apn5, pos13): false, at(apn2, pos13): false, at(apn8, pos13): false, at(apn3, pos13): false, at(apn6, pos13): false, at(apn7, pos13): false, at(apn1, pos13): false, at(tru2, pos13): false, at(tru4, pos13): false, at(tru1, pos13): false, at(tru5, pos13): false, at(tru3, pos13): false, at(obj23, pos13): false, at(obj44, pos13): false, at(obj13, pos13): false, at(obj12, pos13): false, at(obj22, pos13): false, at(obj11, pos13): false, at(obj88, pos13): false, at(obj99, pos13): false, at(obj33, pos13): false, at(obj77, pos13): false, at(obj21, pos13): false, at(obj66, pos13): false, at(obj55, pos13): false, at(obj00, pos13): false, at(apn4, pos12): false, at(apn5, pos12): false, at(apn2, pos12): false, at(apn8, pos12): false, at(apn3, pos12): false, at(apn6, pos12): false, at(apn7, pos12): false, at(apn1, pos12): false, at(tru2, pos12): false, at(tru4, pos12): false, at(tru1, pos12): false, at(tru5, pos12): false, at(tru3, pos12): false, at(obj44, pos12): false, at(obj13, pos12): false, at(obj12, pos12): false, at(obj22, pos12): false, at(obj11, pos12): false, at(obj88, pos12): false, at(obj99, pos12): false, at(obj33, pos12): false, at(obj77, pos12): false, at(obj21, pos12): false, at(obj66, pos12): false, at(obj55, pos12): false, at(obj00, pos12): false, in(obj23, apn4): false, in(obj44, apn4): false, in(obj13, apn4): false, in(obj12, apn4): false, in(obj22, apn4): false, in(obj11, apn4): false, in(obj88, apn4): false, in(obj99, apn4): false, in(obj33, apn4): false, in(obj77, apn4): false, in(obj21, apn4): false, in(obj66, apn4): false, in(obj55, apn4): false, in(obj00, apn4): false, in(obj23, apn5): false, in(obj44, apn5): false, in(obj13, apn5): false, in(obj12, apn5): false, in(obj22, apn5): false, in(obj11, apn5): false, in(obj88, apn5): false, in(obj99, apn5): false, in(obj33, apn5): false, in(obj77, apn5): false, in(obj21, apn5): false, in(obj66, apn5): false, in(obj55, apn5): false, in(obj00, apn5): false, in(obj23, apn2): false, in(obj44, apn2): false, in(obj13, apn2): false, in(obj12, apn2): false, in(obj22, apn2): false, in(obj11, apn2): false, in(obj88, apn2): false, in(obj99, apn2): false, in(obj33, apn2): false, in(obj77, apn2): false, in(obj21, apn2): false, in(obj66, apn2): false, in(obj55, apn2): false, in(obj00, apn2): false, in(obj23, apn8): false, in(obj44, apn8): false, in(obj13, apn8): false, in(obj12, apn8): false, in(obj22, apn8): false, in(obj11, apn8): false, in(obj88, apn8): false, in(obj99, apn8): false, in(obj33, apn8): false, in(obj77, apn8): false, in(obj21, apn8): false, in(obj66, apn8): false, in(obj55, apn8): false, in(obj00, apn8): false, in(obj23, apn3): false, in(obj44, apn3): false, in(obj13, apn3): false, in(obj12, apn3): false, in(obj22, apn3): false, in(obj11, apn3): false, in(obj88, apn3): false, in(obj99, apn3): false, in(obj33, apn3): false, in(obj77, apn3): false, in(obj21, apn3): false, in(obj66, apn3): false, in(obj55, apn3): false, in(obj00, apn3): false, in(obj23, apn6): false, in(obj44, apn6): false, in(obj13, apn6): false, in(obj12, apn6): false, in(obj22, apn6): false, in(obj11, apn6): false, in(obj88, apn6): false, in(obj99, apn6): false, in(obj33, apn6): false, in(obj77, apn6): false, in(obj21, apn6): false, in(obj66, apn6): false, in(obj55, apn6): false, in(obj00, apn6): false, in(obj23, apn7): false, in(obj44, apn7): false, in(obj13, apn7): false, in(obj12, apn7): false, in(obj22, apn7): false, in(obj11, apn7): false, in(obj88, apn7): false, in(obj99, apn7): false, in(obj33, apn7): false, in(obj77, apn7): false, in(obj21, apn7): false, in(obj66, apn7): false, in(obj55, apn7): false, in(obj00, apn7): false, in(obj23, apn1): false, in(obj44, apn1): false, in(obj13, apn1): false, in(obj12, apn1): false, in(obj22, apn1): false, in(obj11, apn1): false, in(obj88, apn1): false, in(obj99, apn1): false, in(obj33, apn1): false, in(obj77, apn1): false, in(obj21, apn1): false, in(obj66, apn1): false, in(obj55, apn1): false, in(obj00, apn1): false, in(obj23, tru2): false, in(obj44, tru2): false, in(obj13, tru2): false, in(obj12, tru2): false, in(obj22, tru2): false, in(obj11, tru2): false, in(obj88, tru2): false, in(obj99, tru2): false, in(obj33, tru2): false, in(obj77, tru2): false, in(obj21, tru2): false, in(obj66, tru2): false, in(obj55, tru2): false, in(obj00, tru2): false, in(obj23, tru4): false, in(obj44, tru4): false, in(obj13, tru4): false, in(obj12, tru4): false, in(obj22, tru4): false, in(obj11, tru4): false, in(obj88, tru4): false, in(obj99, tru4): false, in(obj33, tru4): false, in(obj77, tru4): false, in(obj21, tru4): false, in(obj66, tru4): false, in(obj55, tru4): false, in(obj00, tru4): false, in(obj23, tru1): false, in(obj44, tru1): false, in(obj13, tru1): false, in(obj12, tru1): false, in(obj22, tru1): false, in(obj11, tru1): false, in(obj88, tru1): false, in(obj99, tru1): false, in(obj33, tru1): false, in(obj77, tru1): false, in(obj21, tru1): false, in(obj66, tru1): false, in(obj55, tru1): false, in(obj00, tru1): false, in(obj23, tru5): false, in(obj44, tru5): false, in(obj13, tru5): false, in(obj12, tru5): false, in(obj22, tru5): false, in(obj11, tru5): false, in(obj88, tru5): false, in(obj99, tru5): false, in(obj33, tru5): false, in(obj77, tru5): false, in(obj21, tru5): false, in(obj66, tru5): false, in(obj55, tru5): false, in(obj00, tru5): false, in(obj23, tru3): false, in(obj44, tru3): false, in(obj13, tru3): false, in(obj12, tru3): false, in(obj22, tru3): false, in(obj11, tru3): false, in(obj88, tru3): false, in(obj99, tru3): false, in(obj33, tru3): false, in(obj77, tru3): false, in(obj21, tru3): false, in(obj66, tru3): false, in(obj55, tru3): false, in(obj00, tru3): false}"
            ]
          },
          "execution_count": 18,
          "metadata": {},
          "output_type": "execute_result"
        }
      ],
      "source": [
        "next_state = cast(UPCOWState, simulator.apply(events[0], init_state))\n",
        "next_state"
      ]
    },
    {
      "cell_type": "code",
      "execution_count": 28,
      "metadata": {},
      "outputs": [
        {
          "data": {
            "text/plain": [
              "'LOAD-TRUCK_obj12_tru1_pos22'"
            ]
          },
          "execution_count": 28,
          "metadata": {},
          "output_type": "execute_result"
        }
      ],
      "source": [
        "events2 = simulator.get_applicable_events(next_state)\n",
        "events2 = list(events2)\n",
        "possible_actions2 = []\n",
        "for ev in events2:\n",
        "    for ac in problem.actions:\n",
        "        if ac.preconditions == ev.conditions and ac.effects == ev.effects:\n",
        "            possible_actions2.append(ac)\n",
        "possible_actions2[0].name"
      ]
    },
    {
      "cell_type": "code",
      "execution_count": 30,
      "metadata": {},
      "outputs": [
        {
          "data": {
            "text/plain": [
              "{in(obj44, tru4): false, at(obj44, pos23): true}\n",
              "{at(obj44, pos23): false, in(obj44, tru4): true}\n",
              "{at(apn4, apt4): true, at(apn5, apt4): true, at(apn2, apt2): true, at(apn8, apt1): true, at(apn3, apt6): true, at(apn6, apt2): true, at(apn7, apt8): true, at(apn1, apt3): true, at(obj23, pos12): true, at(obj44, pos23): true, at(obj13, pos21): true, at(obj12, pos22): true, at(obj22, pos23): true, at(obj11, pos21): true, at(obj88, pos22): true, at(obj99, pos33): true, at(obj33, pos21): true, at(obj77, pos66): true, at(obj21, pos55): true, at(obj66, pos22): true, at(obj55, pos23): true, at(obj00, pos11): true, in-city(apt4, cit1): true, in-city(apt5, cit4): true, in-city(apt6, cit2): true, in-city(apt8, cit6): true, in-city(apt7, cit3): true, in-city(apt3, cit5): true, in-city(apt2, cit1): true, in-city(apt1, cit4): true, in-city(pos33, cit3): true, in-city(pos55, cit2): true, in-city(pos21, cit6): true, in-city(pos23, cit4): true, in-city(pos11, cit2): true, in-city(pos22, cit6): true, in-city(pos66, cit5): true, in-city(pos44, cit1): true, in-city(pos77, cit3): true, in-city(pos13, cit1): true, in-city(pos12, cit6): true, at(tru3, pos33): true, at(tru5, pos55): true, at(tru1, pos22): true, at(tru4, pos23): true, at(tru2, pos66): true, in-city(apt4, cit5): false, in-city(apt5, cit5): false, in-city(apt6, cit5): false, in-city(apt8, cit5): false, in-city(apt7, cit5): false, in-city(apt2, cit5): false, in-city(apt1, cit5): false, in-city(pos33, cit5): false, in-city(pos55, cit5): false, in-city(pos21, cit5): false, in-city(pos23, cit5): false, in-city(pos11, cit5): false, in-city(pos22, cit5): false, in-city(pos44, cit5): false, in-city(pos77, cit5): false, in-city(pos13, cit5): false, in-city(pos12, cit5): false, in-city(apt4, cit6): false, in-city(apt5, cit6): false, in-city(apt6, cit6): false, in-city(apt7, cit6): false, in-city(apt3, cit6): false, in-city(apt2, cit6): false, in-city(apt1, cit6): false, in-city(pos33, cit6): false, in-city(pos55, cit6): false, in-city(pos23, cit6): false, in-city(pos11, cit6): false, in-city(pos66, cit6): false, in-city(pos44, cit6): false, in-city(pos77, cit6): false, in-city(pos13, cit6): false, in-city(apt4, cit3): false, in-city(apt5, cit3): false, in-city(apt6, cit3): false, in-city(apt8, cit3): false, in-city(apt3, cit3): false, in-city(apt2, cit3): false, in-city(apt1, cit3): false, in-city(pos55, cit3): false, in-city(pos21, cit3): false, in-city(pos23, cit3): false, in-city(pos11, cit3): false, in-city(pos22, cit3): false, in-city(pos66, cit3): false, in-city(pos44, cit3): false, in-city(pos13, cit3): false, in-city(pos12, cit3): false, in-city(apt5, cit1): false, in-city(apt6, cit1): false, in-city(apt8, cit1): false, in-city(apt7, cit1): false, in-city(apt3, cit1): false, in-city(apt1, cit1): false, in-city(pos33, cit1): false, in-city(pos55, cit1): false, in-city(pos21, cit1): false, in-city(pos23, cit1): false, in-city(pos11, cit1): false, in-city(pos22, cit1): false, in-city(pos66, cit1): false, in-city(pos77, cit1): false, in-city(pos12, cit1): false, in-city(apt4, cit2): false, in-city(apt5, cit2): false, in-city(apt8, cit2): false, in-city(apt7, cit2): false, in-city(apt3, cit2): false, in-city(apt2, cit2): false, in-city(apt1, cit2): false, in-city(pos33, cit2): false, in-city(pos21, cit2): false, in-city(pos23, cit2): false, in-city(pos22, cit2): false, in-city(pos66, cit2): false, in-city(pos44, cit2): false, in-city(pos77, cit2): false, in-city(pos13, cit2): false, in-city(pos12, cit2): false, in-city(apt4, cit4): false, in-city(apt6, cit4): false, in-city(apt8, cit4): false, in-city(apt7, cit4): false, in-city(apt3, cit4): false, in-city(apt2, cit4): false, in-city(pos33, cit4): false, in-city(pos55, cit4): false, in-city(pos21, cit4): false, in-city(pos11, cit4): false, in-city(pos22, cit4): false, in-city(pos66, cit4): false, in-city(pos44, cit4): false, in-city(pos77, cit4): false, in-city(pos13, cit4): false, in-city(pos12, cit4): false, at(apn2, apt4): false, at(apn8, apt4): false, at(apn3, apt4): false, at(apn6, apt4): false, at(apn7, apt4): false, at(apn1, apt4): false, at(tru2, apt4): false, at(tru4, apt4): false, at(tru1, apt4): false, at(tru5, apt4): false, at(tru3, apt4): false, at(obj23, apt4): false, at(obj44, apt4): false, at(obj13, apt4): false, at(obj12, apt4): false, at(obj22, apt4): false, at(obj11, apt4): false, at(obj88, apt4): false, at(obj99, apt4): false, at(obj33, apt4): false, at(obj77, apt4): false, at(obj21, apt4): false, at(obj66, apt4): false, at(obj55, apt4): false, at(obj00, apt4): false, at(apn4, apt5): false, at(apn5, apt5): false, at(apn2, apt5): false, at(apn8, apt5): false, at(apn3, apt5): false, at(apn6, apt5): false, at(apn7, apt5): false, at(apn1, apt5): false, at(tru2, apt5): false, at(tru4, apt5): false, at(tru1, apt5): false, at(tru5, apt5): false, at(tru3, apt5): false, at(obj23, apt5): false, at(obj44, apt5): false, at(obj13, apt5): false, at(obj12, apt5): false, at(obj22, apt5): false, at(obj11, apt5): false, at(obj88, apt5): false, at(obj99, apt5): false, at(obj33, apt5): false, at(obj77, apt5): false, at(obj21, apt5): false, at(obj66, apt5): false, at(obj55, apt5): false, at(obj00, apt5): false, at(apn4, apt6): false, at(apn5, apt6): false, at(apn2, apt6): false, at(apn8, apt6): false, at(apn6, apt6): false, at(apn7, apt6): false, at(apn1, apt6): false, at(tru2, apt6): false, at(tru4, apt6): false, at(tru1, apt6): false, at(tru5, apt6): false, at(tru3, apt6): false, at(obj23, apt6): false, at(obj44, apt6): false, at(obj13, apt6): false, at(obj12, apt6): false, at(obj22, apt6): false, at(obj11, apt6): false, at(obj88, apt6): false, at(obj99, apt6): false, at(obj33, apt6): false, at(obj77, apt6): false, at(obj21, apt6): false, at(obj66, apt6): false, at(obj55, apt6): false, at(obj00, apt6): false, at(apn4, apt8): false, at(apn5, apt8): false, at(apn2, apt8): false, at(apn8, apt8): false, at(apn3, apt8): false, at(apn6, apt8): false, at(apn1, apt8): false, at(tru2, apt8): false, at(tru4, apt8): false, at(tru1, apt8): false, at(tru5, apt8): false, at(tru3, apt8): false, at(obj23, apt8): false, at(obj44, apt8): false, at(obj13, apt8): false, at(obj12, apt8): false, at(obj22, apt8): false, at(obj11, apt8): false, at(obj88, apt8): false, at(obj99, apt8): false, at(obj33, apt8): false, at(obj77, apt8): false, at(obj21, apt8): false, at(obj66, apt8): false, at(obj55, apt8): false, at(obj00, apt8): false, at(apn4, apt7): false, at(apn5, apt7): false, at(apn2, apt7): false, at(apn8, apt7): false, at(apn3, apt7): false, at(apn6, apt7): false, at(apn7, apt7): false, at(apn1, apt7): false, at(tru2, apt7): false, at(tru4, apt7): false, at(tru1, apt7): false, at(tru5, apt7): false, at(tru3, apt7): false, at(obj23, apt7): false, at(obj44, apt7): false, at(obj13, apt7): false, at(obj12, apt7): false, at(obj22, apt7): false, at(obj11, apt7): false, at(obj88, apt7): false, at(obj99, apt7): false, at(obj33, apt7): false, at(obj77, apt7): false, at(obj21, apt7): false, at(obj66, apt7): false, at(obj55, apt7): false, at(obj00, apt7): false, at(apn4, apt3): false, at(apn5, apt3): false, at(apn2, apt3): false, at(apn8, apt3): false, at(apn3, apt3): false, at(apn6, apt3): false, at(apn7, apt3): false, at(tru2, apt3): false, at(tru4, apt3): false, at(tru1, apt3): false, at(tru5, apt3): false, at(tru3, apt3): false, at(obj23, apt3): false, at(obj44, apt3): false, at(obj13, apt3): false, at(obj12, apt3): false, at(obj22, apt3): false, at(obj11, apt3): false, at(obj88, apt3): false, at(obj99, apt3): false, at(obj33, apt3): false, at(obj77, apt3): false, at(obj21, apt3): false, at(obj66, apt3): false, at(obj55, apt3): false, at(obj00, apt3): false, at(apn4, apt2): false, at(apn5, apt2): false, at(apn8, apt2): false, at(apn3, apt2): false, at(apn7, apt2): false, at(apn1, apt2): false, at(tru2, apt2): false, at(tru4, apt2): false, at(tru1, apt2): false, at(tru5, apt2): false, at(tru3, apt2): false, at(obj23, apt2): false, at(obj44, apt2): false, at(obj13, apt2): false, at(obj12, apt2): false, at(obj22, apt2): false, at(obj11, apt2): false, at(obj88, apt2): false, at(obj99, apt2): false, at(obj33, apt2): false, at(obj77, apt2): false, at(obj21, apt2): false, at(obj66, apt2): false, at(obj55, apt2): false, at(obj00, apt2): false, at(apn4, apt1): false, at(apn5, apt1): false, at(apn2, apt1): false, at(apn3, apt1): false, at(apn6, apt1): false, at(apn7, apt1): false, at(apn1, apt1): false, at(tru2, apt1): false, at(tru4, apt1): false, at(tru1, apt1): false, at(tru5, apt1): false, at(tru3, apt1): false, at(obj23, apt1): false, at(obj44, apt1): false, at(obj13, apt1): false, at(obj12, apt1): false, at(obj22, apt1): false, at(obj11, apt1): false, at(obj88, apt1): false, at(obj99, apt1): false, at(obj33, apt1): false, at(obj77, apt1): false, at(obj21, apt1): false, at(obj66, apt1): false, at(obj55, apt1): false, at(obj00, apt1): false, at(apn4, pos33): false, at(apn5, pos33): false, at(apn2, pos33): false, at(apn8, pos33): false, at(apn3, pos33): false, at(apn6, pos33): false, at(apn7, pos33): false, at(apn1, pos33): false, at(tru2, pos33): false, at(tru4, pos33): false, at(tru1, pos33): false, at(tru5, pos33): false, at(obj23, pos33): false, at(obj44, pos33): false, at(obj13, pos33): false, at(obj12, pos33): false, at(obj22, pos33): false, at(obj11, pos33): false, at(obj88, pos33): false, at(obj33, pos33): false, at(obj77, pos33): false, at(obj21, pos33): false, at(obj66, pos33): false, at(obj55, pos33): false, at(obj00, pos33): false, at(apn4, pos55): false, at(apn5, pos55): false, at(apn2, pos55): false, at(apn8, pos55): false, at(apn3, pos55): false, at(apn6, pos55): false, at(apn7, pos55): false, at(apn1, pos55): false, at(tru2, pos55): false, at(tru4, pos55): false, at(tru1, pos55): false, at(tru3, pos55): false, at(obj23, pos55): false, at(obj44, pos55): false, at(obj13, pos55): false, at(obj12, pos55): false, at(obj22, pos55): false, at(obj11, pos55): false, at(obj88, pos55): false, at(obj99, pos55): false, at(obj33, pos55): false, at(obj77, pos55): false, at(obj66, pos55): false, at(obj55, pos55): false, at(obj00, pos55): false, at(apn4, pos21): false, at(apn5, pos21): false, at(apn2, pos21): false, at(apn8, pos21): false, at(apn3, pos21): false, at(apn6, pos21): false, at(apn7, pos21): false, at(apn1, pos21): false, at(tru2, pos21): false, at(tru4, pos21): false, at(tru1, pos21): false, at(tru5, pos21): false, at(tru3, pos21): false, at(obj23, pos21): false, at(obj44, pos21): false, at(obj12, pos21): false, at(obj22, pos21): false, at(obj88, pos21): false, at(obj99, pos21): false, at(obj77, pos21): false, at(obj21, pos21): false, at(obj66, pos21): false, at(obj55, pos21): false, at(obj00, pos21): false, at(apn4, pos23): false, at(apn5, pos23): false, at(apn2, pos23): false, at(apn8, pos23): false, at(apn3, pos23): false, at(apn6, pos23): false, at(apn7, pos23): false, at(apn1, pos23): false, at(tru2, pos23): false, at(tru1, pos23): false, at(tru5, pos23): false, at(tru3, pos23): false, at(obj23, pos23): false, at(obj13, pos23): false, at(obj12, pos23): false, at(obj11, pos23): false, at(obj88, pos23): false, at(obj99, pos23): false, at(obj33, pos23): false, at(obj77, pos23): false, at(obj21, pos23): false, at(obj66, pos23): false, at(obj00, pos23): false, at(apn4, pos11): false, at(apn5, pos11): false, at(apn2, pos11): false, at(apn8, pos11): false, at(apn3, pos11): false, at(apn6, pos11): false, at(apn7, pos11): false, at(apn1, pos11): false, at(tru2, pos11): false, at(tru4, pos11): false, at(tru1, pos11): false, at(tru5, pos11): false, at(tru3, pos11): false, at(obj23, pos11): false, at(obj44, pos11): false, at(obj13, pos11): false, at(obj12, pos11): false, at(obj22, pos11): false, at(obj11, pos11): false, at(obj88, pos11): false, at(obj99, pos11): false, at(obj33, pos11): false, at(obj77, pos11): false, at(obj21, pos11): false, at(obj66, pos11): false, at(obj55, pos11): false, at(apn4, pos22): false, at(apn5, pos22): false, at(apn2, pos22): false, at(apn8, pos22): false, at(apn3, pos22): false, at(apn6, pos22): false, at(apn7, pos22): false, at(apn1, pos22): false, at(tru2, pos22): false, at(tru4, pos22): false, at(tru5, pos22): false, at(tru3, pos22): false, at(obj23, pos22): false, at(obj44, pos22): false, at(obj13, pos22): false, at(obj22, pos22): false, at(obj11, pos22): false, at(obj99, pos22): false, at(obj33, pos22): false, at(obj77, pos22): false, at(obj21, pos22): false, at(obj55, pos22): false, at(obj00, pos22): false, at(apn4, pos66): false, at(apn5, pos66): false, at(apn2, pos66): false, at(apn8, pos66): false, at(apn3, pos66): false, at(apn6, pos66): false, at(apn7, pos66): false, at(apn1, pos66): false, at(tru4, pos66): false, at(tru1, pos66): false, at(tru5, pos66): false, at(tru3, pos66): false, at(obj23, pos66): false, at(obj44, pos66): false, at(obj13, pos66): false, at(obj12, pos66): false, at(obj22, pos66): false, at(obj11, pos66): false, at(obj88, pos66): false, at(obj99, pos66): false, at(obj33, pos66): false, at(obj21, pos66): false, at(obj66, pos66): false, at(obj55, pos66): false, at(obj00, pos66): false, at(apn4, pos44): false, at(apn5, pos44): false, at(apn2, pos44): false, at(apn8, pos44): false, at(apn3, pos44): false, at(apn6, pos44): false, at(apn7, pos44): false, at(apn1, pos44): false, at(tru2, pos44): false, at(tru4, pos44): false, at(tru1, pos44): false, at(tru5, pos44): false, at(tru3, pos44): false, at(obj23, pos44): false, at(obj44, pos44): false, at(obj13, pos44): false, at(obj12, pos44): false, at(obj22, pos44): false, at(obj11, pos44): false, at(obj88, pos44): false, at(obj99, pos44): false, at(obj33, pos44): false, at(obj77, pos44): false, at(obj21, pos44): false, at(obj66, pos44): false, at(obj55, pos44): false, at(obj00, pos44): false, at(apn4, pos77): false, at(apn5, pos77): false, at(apn2, pos77): false, at(apn8, pos77): false, at(apn3, pos77): false, at(apn6, pos77): false, at(apn7, pos77): false, at(apn1, pos77): false, at(tru2, pos77): false, at(tru4, pos77): false, at(tru1, pos77): false, at(tru5, pos77): false, at(tru3, pos77): false, at(obj23, pos77): false, at(obj44, pos77): false, at(obj13, pos77): false, at(obj12, pos77): false, at(obj22, pos77): false, at(obj11, pos77): false, at(obj88, pos77): false, at(obj99, pos77): false, at(obj33, pos77): false, at(obj77, pos77): false, at(obj21, pos77): false, at(obj66, pos77): false, at(obj55, pos77): false, at(obj00, pos77): false, at(apn4, pos13): false, at(apn5, pos13): false, at(apn2, pos13): false, at(apn8, pos13): false, at(apn3, pos13): false, at(apn6, pos13): false, at(apn7, pos13): false, at(apn1, pos13): false, at(tru2, pos13): false, at(tru4, pos13): false, at(tru1, pos13): false, at(tru5, pos13): false, at(tru3, pos13): false, at(obj23, pos13): false, at(obj44, pos13): false, at(obj13, pos13): false, at(obj12, pos13): false, at(obj22, pos13): false, at(obj11, pos13): false, at(obj88, pos13): false, at(obj99, pos13): false, at(obj33, pos13): false, at(obj77, pos13): false, at(obj21, pos13): false, at(obj66, pos13): false, at(obj55, pos13): false, at(obj00, pos13): false, at(apn4, pos12): false, at(apn5, pos12): false, at(apn2, pos12): false, at(apn8, pos12): false, at(apn3, pos12): false, at(apn6, pos12): false, at(apn7, pos12): false, at(apn1, pos12): false, at(tru2, pos12): false, at(tru4, pos12): false, at(tru1, pos12): false, at(tru5, pos12): false, at(tru3, pos12): false, at(obj44, pos12): false, at(obj13, pos12): false, at(obj12, pos12): false, at(obj22, pos12): false, at(obj11, pos12): false, at(obj88, pos12): false, at(obj99, pos12): false, at(obj33, pos12): false, at(obj77, pos12): false, at(obj21, pos12): false, at(obj66, pos12): false, at(obj55, pos12): false, at(obj00, pos12): false, in(obj23, apn4): false, in(obj44, apn4): false, in(obj13, apn4): false, in(obj12, apn4): false, in(obj22, apn4): false, in(obj11, apn4): false, in(obj88, apn4): false, in(obj99, apn4): false, in(obj33, apn4): false, in(obj77, apn4): false, in(obj21, apn4): false, in(obj66, apn4): false, in(obj55, apn4): false, in(obj00, apn4): false, in(obj23, apn5): false, in(obj44, apn5): false, in(obj13, apn5): false, in(obj12, apn5): false, in(obj22, apn5): false, in(obj11, apn5): false, in(obj88, apn5): false, in(obj99, apn5): false, in(obj33, apn5): false, in(obj77, apn5): false, in(obj21, apn5): false, in(obj66, apn5): false, in(obj55, apn5): false, in(obj00, apn5): false, in(obj23, apn2): false, in(obj44, apn2): false, in(obj13, apn2): false, in(obj12, apn2): false, in(obj22, apn2): false, in(obj11, apn2): false, in(obj88, apn2): false, in(obj99, apn2): false, in(obj33, apn2): false, in(obj77, apn2): false, in(obj21, apn2): false, in(obj66, apn2): false, in(obj55, apn2): false, in(obj00, apn2): false, in(obj23, apn8): false, in(obj44, apn8): false, in(obj13, apn8): false, in(obj12, apn8): false, in(obj22, apn8): false, in(obj11, apn8): false, in(obj88, apn8): false, in(obj99, apn8): false, in(obj33, apn8): false, in(obj77, apn8): false, in(obj21, apn8): false, in(obj66, apn8): false, in(obj55, apn8): false, in(obj00, apn8): false, in(obj23, apn3): false, in(obj44, apn3): false, in(obj13, apn3): false, in(obj12, apn3): false, in(obj22, apn3): false, in(obj11, apn3): false, in(obj88, apn3): false, in(obj99, apn3): false, in(obj33, apn3): false, in(obj77, apn3): false, in(obj21, apn3): false, in(obj66, apn3): false, in(obj55, apn3): false, in(obj00, apn3): false, in(obj23, apn6): false, in(obj44, apn6): false, in(obj13, apn6): false, in(obj12, apn6): false, in(obj22, apn6): false, in(obj11, apn6): false, in(obj88, apn6): false, in(obj99, apn6): false, in(obj33, apn6): false, in(obj77, apn6): false, in(obj21, apn6): false, in(obj66, apn6): false, in(obj55, apn6): false, in(obj00, apn6): false, in(obj23, apn7): false, in(obj44, apn7): false, in(obj13, apn7): false, in(obj12, apn7): false, in(obj22, apn7): false, in(obj11, apn7): false, in(obj88, apn7): false, in(obj99, apn7): false, in(obj33, apn7): false, in(obj77, apn7): false, in(obj21, apn7): false, in(obj66, apn7): false, in(obj55, apn7): false, in(obj00, apn7): false, in(obj23, apn1): false, in(obj44, apn1): false, in(obj13, apn1): false, in(obj12, apn1): false, in(obj22, apn1): false, in(obj11, apn1): false, in(obj88, apn1): false, in(obj99, apn1): false, in(obj33, apn1): false, in(obj77, apn1): false, in(obj21, apn1): false, in(obj66, apn1): false, in(obj55, apn1): false, in(obj00, apn1): false, in(obj23, tru2): false, in(obj44, tru2): false, in(obj13, tru2): false, in(obj12, tru2): false, in(obj22, tru2): false, in(obj11, tru2): false, in(obj88, tru2): false, in(obj99, tru2): false, in(obj33, tru2): false, in(obj77, tru2): false, in(obj21, tru2): false, in(obj66, tru2): false, in(obj55, tru2): false, in(obj00, tru2): false, in(obj23, tru4): false, in(obj44, tru4): false, in(obj13, tru4): false, in(obj12, tru4): false, in(obj22, tru4): false, in(obj11, tru4): false, in(obj88, tru4): false, in(obj99, tru4): false, in(obj33, tru4): false, in(obj77, tru4): false, in(obj21, tru4): false, in(obj66, tru4): false, in(obj55, tru4): false, in(obj00, tru4): false, in(obj23, tru1): false, in(obj44, tru1): false, in(obj13, tru1): false, in(obj12, tru1): false, in(obj22, tru1): false, in(obj11, tru1): false, in(obj88, tru1): false, in(obj99, tru1): false, in(obj33, tru1): false, in(obj77, tru1): false, in(obj21, tru1): false, in(obj66, tru1): false, in(obj55, tru1): false, in(obj00, tru1): false, in(obj23, tru5): false, in(obj44, tru5): false, in(obj13, tru5): false, in(obj12, tru5): false, in(obj22, tru5): false, in(obj11, tru5): false, in(obj88, tru5): false, in(obj99, tru5): false, in(obj33, tru5): false, in(obj77, tru5): false, in(obj21, tru5): false, in(obj66, tru5): false, in(obj55, tru5): false, in(obj00, tru5): false, in(obj23, tru3): false, in(obj44, tru3): false, in(obj13, tru3): false, in(obj12, tru3): false, in(obj22, tru3): false, in(obj11, tru3): false, in(obj88, tru3): false, in(obj99, tru3): false, in(obj33, tru3): false, in(obj77, tru3): false, in(obj21, tru3): false, in(obj66, tru3): false, in(obj55, tru3): false, in(obj00, tru3): false}"
            ]
          },
          "execution_count": 30,
          "metadata": {},
          "output_type": "execute_result"
        }
      ],
      "source": [
        "next_state2 = cast(UPCOWState, simulator.apply(events2[8], next_state))\n",
        "next_state2"
      ]
    },
    {
      "cell_type": "code",
      "execution_count": 29,
      "metadata": {},
      "outputs": [
        {
          "name": "stdout",
          "output_type": "stream",
          "text": [
            "8\n"
          ]
        }
      ],
      "source": [
        "for i, action in enumerate(possible_actions2):\n",
        "    if action.name == 'UNLOAD-TRUCK_obj44_tru4_pos23':\n",
        "        print(i)"
      ]
    },
    {
      "cell_type": "markdown",
      "metadata": {
        "id": "b6cIcTqZopC0"
      },
      "source": [
        "E' anche possibile generare un evento da una azione qualsiasi. Prendiamo direttamente l'azione 'pick_up_d' dalla lista delle azioni. Eseguiamolo. Se lo stato che otteniamo non è None allora vuol dire che l'azione può essere eseguita e genera quello stato"
      ]
    },
    {
      "cell_type": "code",
      "execution_count": 40,
      "metadata": {},
      "outputs": [
        {
          "data": {
            "text/plain": [
              "{in(obj44, tru4): false, at(obj44, pos23): true}"
            ]
          },
          "execution_count": 40,
          "metadata": {},
          "output_type": "execute_result"
        }
      ],
      "source": [
        "next_state2._values"
      ]
    },
    {
      "cell_type": "code",
      "execution_count": 14,
      "metadata": {},
      "outputs": [
        {
          "name": "stdout",
          "output_type": "stream",
          "text": [
            "{at(obj44, pos23): false, in(obj44, tru4): true}\n",
            "{at(apn4, apt4): true, at(apn5, apt4): true, at(apn2, apt2): true, at(apn8, apt1): true, at(apn3, apt6): true, at(apn6, apt2): true, at(apn7, apt8): true, at(apn1, apt3): true, at(obj23, pos12): true, at(obj44, pos23): true, at(obj13, pos21): true, at(obj12, pos22): true, at(obj22, pos23): true, at(obj11, pos21): true, at(obj88, pos22): true, at(obj99, pos33): true, at(obj33, pos21): true, at(obj77, pos66): true, at(obj21, pos55): true, at(obj66, pos22): true, at(obj55, pos23): true, at(obj00, pos11): true, in-city(apt4, cit1): true, in-city(apt5, cit4): true, in-city(apt6, cit2): true, in-city(apt8, cit6): true, in-city(apt7, cit3): true, in-city(apt3, cit5): true, in-city(apt2, cit1): true, in-city(apt1, cit4): true, in-city(pos33, cit3): true, in-city(pos55, cit2): true, in-city(pos21, cit6): true, in-city(pos23, cit4): true, in-city(pos11, cit2): true, in-city(pos22, cit6): true, in-city(pos66, cit5): true, in-city(pos44, cit1): true, in-city(pos77, cit3): true, in-city(pos13, cit1): true, in-city(pos12, cit6): true, at(tru3, pos33): true, at(tru5, pos55): true, at(tru1, pos22): true, at(tru4, pos23): true, at(tru2, pos66): true, in-city(apt4, cit5): false, in-city(apt5, cit5): false, in-city(apt6, cit5): false, in-city(apt8, cit5): false, in-city(apt7, cit5): false, in-city(apt2, cit5): false, in-city(apt1, cit5): false, in-city(pos33, cit5): false, in-city(pos55, cit5): false, in-city(pos21, cit5): false, in-city(pos23, cit5): false, in-city(pos11, cit5): false, in-city(pos22, cit5): false, in-city(pos44, cit5): false, in-city(pos77, cit5): false, in-city(pos13, cit5): false, in-city(pos12, cit5): false, in-city(apt4, cit6): false, in-city(apt5, cit6): false, in-city(apt6, cit6): false, in-city(apt7, cit6): false, in-city(apt3, cit6): false, in-city(apt2, cit6): false, in-city(apt1, cit6): false, in-city(pos33, cit6): false, in-city(pos55, cit6): false, in-city(pos23, cit6): false, in-city(pos11, cit6): false, in-city(pos66, cit6): false, in-city(pos44, cit6): false, in-city(pos77, cit6): false, in-city(pos13, cit6): false, in-city(apt4, cit3): false, in-city(apt5, cit3): false, in-city(apt6, cit3): false, in-city(apt8, cit3): false, in-city(apt3, cit3): false, in-city(apt2, cit3): false, in-city(apt1, cit3): false, in-city(pos55, cit3): false, in-city(pos21, cit3): false, in-city(pos23, cit3): false, in-city(pos11, cit3): false, in-city(pos22, cit3): false, in-city(pos66, cit3): false, in-city(pos44, cit3): false, in-city(pos13, cit3): false, in-city(pos12, cit3): false, in-city(apt5, cit1): false, in-city(apt6, cit1): false, in-city(apt8, cit1): false, in-city(apt7, cit1): false, in-city(apt3, cit1): false, in-city(apt1, cit1): false, in-city(pos33, cit1): false, in-city(pos55, cit1): false, in-city(pos21, cit1): false, in-city(pos23, cit1): false, in-city(pos11, cit1): false, in-city(pos22, cit1): false, in-city(pos66, cit1): false, in-city(pos77, cit1): false, in-city(pos12, cit1): false, in-city(apt4, cit2): false, in-city(apt5, cit2): false, in-city(apt8, cit2): false, in-city(apt7, cit2): false, in-city(apt3, cit2): false, in-city(apt2, cit2): false, in-city(apt1, cit2): false, in-city(pos33, cit2): false, in-city(pos21, cit2): false, in-city(pos23, cit2): false, in-city(pos22, cit2): false, in-city(pos66, cit2): false, in-city(pos44, cit2): false, in-city(pos77, cit2): false, in-city(pos13, cit2): false, in-city(pos12, cit2): false, in-city(apt4, cit4): false, in-city(apt6, cit4): false, in-city(apt8, cit4): false, in-city(apt7, cit4): false, in-city(apt3, cit4): false, in-city(apt2, cit4): false, in-city(pos33, cit4): false, in-city(pos55, cit4): false, in-city(pos21, cit4): false, in-city(pos11, cit4): false, in-city(pos22, cit4): false, in-city(pos66, cit4): false, in-city(pos44, cit4): false, in-city(pos77, cit4): false, in-city(pos13, cit4): false, in-city(pos12, cit4): false, at(apn2, apt4): false, at(apn8, apt4): false, at(apn3, apt4): false, at(apn6, apt4): false, at(apn7, apt4): false, at(apn1, apt4): false, at(tru2, apt4): false, at(tru4, apt4): false, at(tru1, apt4): false, at(tru5, apt4): false, at(tru3, apt4): false, at(obj23, apt4): false, at(obj44, apt4): false, at(obj13, apt4): false, at(obj12, apt4): false, at(obj22, apt4): false, at(obj11, apt4): false, at(obj88, apt4): false, at(obj99, apt4): false, at(obj33, apt4): false, at(obj77, apt4): false, at(obj21, apt4): false, at(obj66, apt4): false, at(obj55, apt4): false, at(obj00, apt4): false, at(apn4, apt5): false, at(apn5, apt5): false, at(apn2, apt5): false, at(apn8, apt5): false, at(apn3, apt5): false, at(apn6, apt5): false, at(apn7, apt5): false, at(apn1, apt5): false, at(tru2, apt5): false, at(tru4, apt5): false, at(tru1, apt5): false, at(tru5, apt5): false, at(tru3, apt5): false, at(obj23, apt5): false, at(obj44, apt5): false, at(obj13, apt5): false, at(obj12, apt5): false, at(obj22, apt5): false, at(obj11, apt5): false, at(obj88, apt5): false, at(obj99, apt5): false, at(obj33, apt5): false, at(obj77, apt5): false, at(obj21, apt5): false, at(obj66, apt5): false, at(obj55, apt5): false, at(obj00, apt5): false, at(apn4, apt6): false, at(apn5, apt6): false, at(apn2, apt6): false, at(apn8, apt6): false, at(apn6, apt6): false, at(apn7, apt6): false, at(apn1, apt6): false, at(tru2, apt6): false, at(tru4, apt6): false, at(tru1, apt6): false, at(tru5, apt6): false, at(tru3, apt6): false, at(obj23, apt6): false, at(obj44, apt6): false, at(obj13, apt6): false, at(obj12, apt6): false, at(obj22, apt6): false, at(obj11, apt6): false, at(obj88, apt6): false, at(obj99, apt6): false, at(obj33, apt6): false, at(obj77, apt6): false, at(obj21, apt6): false, at(obj66, apt6): false, at(obj55, apt6): false, at(obj00, apt6): false, at(apn4, apt8): false, at(apn5, apt8): false, at(apn2, apt8): false, at(apn8, apt8): false, at(apn3, apt8): false, at(apn6, apt8): false, at(apn1, apt8): false, at(tru2, apt8): false, at(tru4, apt8): false, at(tru1, apt8): false, at(tru5, apt8): false, at(tru3, apt8): false, at(obj23, apt8): false, at(obj44, apt8): false, at(obj13, apt8): false, at(obj12, apt8): false, at(obj22, apt8): false, at(obj11, apt8): false, at(obj88, apt8): false, at(obj99, apt8): false, at(obj33, apt8): false, at(obj77, apt8): false, at(obj21, apt8): false, at(obj66, apt8): false, at(obj55, apt8): false, at(obj00, apt8): false, at(apn4, apt7): false, at(apn5, apt7): false, at(apn2, apt7): false, at(apn8, apt7): false, at(apn3, apt7): false, at(apn6, apt7): false, at(apn7, apt7): false, at(apn1, apt7): false, at(tru2, apt7): false, at(tru4, apt7): false, at(tru1, apt7): false, at(tru5, apt7): false, at(tru3, apt7): false, at(obj23, apt7): false, at(obj44, apt7): false, at(obj13, apt7): false, at(obj12, apt7): false, at(obj22, apt7): false, at(obj11, apt7): false, at(obj88, apt7): false, at(obj99, apt7): false, at(obj33, apt7): false, at(obj77, apt7): false, at(obj21, apt7): false, at(obj66, apt7): false, at(obj55, apt7): false, at(obj00, apt7): false, at(apn4, apt3): false, at(apn5, apt3): false, at(apn2, apt3): false, at(apn8, apt3): false, at(apn3, apt3): false, at(apn6, apt3): false, at(apn7, apt3): false, at(tru2, apt3): false, at(tru4, apt3): false, at(tru1, apt3): false, at(tru5, apt3): false, at(tru3, apt3): false, at(obj23, apt3): false, at(obj44, apt3): false, at(obj13, apt3): false, at(obj12, apt3): false, at(obj22, apt3): false, at(obj11, apt3): false, at(obj88, apt3): false, at(obj99, apt3): false, at(obj33, apt3): false, at(obj77, apt3): false, at(obj21, apt3): false, at(obj66, apt3): false, at(obj55, apt3): false, at(obj00, apt3): false, at(apn4, apt2): false, at(apn5, apt2): false, at(apn8, apt2): false, at(apn3, apt2): false, at(apn7, apt2): false, at(apn1, apt2): false, at(tru2, apt2): false, at(tru4, apt2): false, at(tru1, apt2): false, at(tru5, apt2): false, at(tru3, apt2): false, at(obj23, apt2): false, at(obj44, apt2): false, at(obj13, apt2): false, at(obj12, apt2): false, at(obj22, apt2): false, at(obj11, apt2): false, at(obj88, apt2): false, at(obj99, apt2): false, at(obj33, apt2): false, at(obj77, apt2): false, at(obj21, apt2): false, at(obj66, apt2): false, at(obj55, apt2): false, at(obj00, apt2): false, at(apn4, apt1): false, at(apn5, apt1): false, at(apn2, apt1): false, at(apn3, apt1): false, at(apn6, apt1): false, at(apn7, apt1): false, at(apn1, apt1): false, at(tru2, apt1): false, at(tru4, apt1): false, at(tru1, apt1): false, at(tru5, apt1): false, at(tru3, apt1): false, at(obj23, apt1): false, at(obj44, apt1): false, at(obj13, apt1): false, at(obj12, apt1): false, at(obj22, apt1): false, at(obj11, apt1): false, at(obj88, apt1): false, at(obj99, apt1): false, at(obj33, apt1): false, at(obj77, apt1): false, at(obj21, apt1): false, at(obj66, apt1): false, at(obj55, apt1): false, at(obj00, apt1): false, at(apn4, pos33): false, at(apn5, pos33): false, at(apn2, pos33): false, at(apn8, pos33): false, at(apn3, pos33): false, at(apn6, pos33): false, at(apn7, pos33): false, at(apn1, pos33): false, at(tru2, pos33): false, at(tru4, pos33): false, at(tru1, pos33): false, at(tru5, pos33): false, at(obj23, pos33): false, at(obj44, pos33): false, at(obj13, pos33): false, at(obj12, pos33): false, at(obj22, pos33): false, at(obj11, pos33): false, at(obj88, pos33): false, at(obj33, pos33): false, at(obj77, pos33): false, at(obj21, pos33): false, at(obj66, pos33): false, at(obj55, pos33): false, at(obj00, pos33): false, at(apn4, pos55): false, at(apn5, pos55): false, at(apn2, pos55): false, at(apn8, pos55): false, at(apn3, pos55): false, at(apn6, pos55): false, at(apn7, pos55): false, at(apn1, pos55): false, at(tru2, pos55): false, at(tru4, pos55): false, at(tru1, pos55): false, at(tru3, pos55): false, at(obj23, pos55): false, at(obj44, pos55): false, at(obj13, pos55): false, at(obj12, pos55): false, at(obj22, pos55): false, at(obj11, pos55): false, at(obj88, pos55): false, at(obj99, pos55): false, at(obj33, pos55): false, at(obj77, pos55): false, at(obj66, pos55): false, at(obj55, pos55): false, at(obj00, pos55): false, at(apn4, pos21): false, at(apn5, pos21): false, at(apn2, pos21): false, at(apn8, pos21): false, at(apn3, pos21): false, at(apn6, pos21): false, at(apn7, pos21): false, at(apn1, pos21): false, at(tru2, pos21): false, at(tru4, pos21): false, at(tru1, pos21): false, at(tru5, pos21): false, at(tru3, pos21): false, at(obj23, pos21): false, at(obj44, pos21): false, at(obj12, pos21): false, at(obj22, pos21): false, at(obj88, pos21): false, at(obj99, pos21): false, at(obj77, pos21): false, at(obj21, pos21): false, at(obj66, pos21): false, at(obj55, pos21): false, at(obj00, pos21): false, at(apn4, pos23): false, at(apn5, pos23): false, at(apn2, pos23): false, at(apn8, pos23): false, at(apn3, pos23): false, at(apn6, pos23): false, at(apn7, pos23): false, at(apn1, pos23): false, at(tru2, pos23): false, at(tru1, pos23): false, at(tru5, pos23): false, at(tru3, pos23): false, at(obj23, pos23): false, at(obj13, pos23): false, at(obj12, pos23): false, at(obj11, pos23): false, at(obj88, pos23): false, at(obj99, pos23): false, at(obj33, pos23): false, at(obj77, pos23): false, at(obj21, pos23): false, at(obj66, pos23): false, at(obj00, pos23): false, at(apn4, pos11): false, at(apn5, pos11): false, at(apn2, pos11): false, at(apn8, pos11): false, at(apn3, pos11): false, at(apn6, pos11): false, at(apn7, pos11): false, at(apn1, pos11): false, at(tru2, pos11): false, at(tru4, pos11): false, at(tru1, pos11): false, at(tru5, pos11): false, at(tru3, pos11): false, at(obj23, pos11): false, at(obj44, pos11): false, at(obj13, pos11): false, at(obj12, pos11): false, at(obj22, pos11): false, at(obj11, pos11): false, at(obj88, pos11): false, at(obj99, pos11): false, at(obj33, pos11): false, at(obj77, pos11): false, at(obj21, pos11): false, at(obj66, pos11): false, at(obj55, pos11): false, at(apn4, pos22): false, at(apn5, pos22): false, at(apn2, pos22): false, at(apn8, pos22): false, at(apn3, pos22): false, at(apn6, pos22): false, at(apn7, pos22): false, at(apn1, pos22): false, at(tru2, pos22): false, at(tru4, pos22): false, at(tru5, pos22): false, at(tru3, pos22): false, at(obj23, pos22): false, at(obj44, pos22): false, at(obj13, pos22): false, at(obj22, pos22): false, at(obj11, pos22): false, at(obj99, pos22): false, at(obj33, pos22): false, at(obj77, pos22): false, at(obj21, pos22): false, at(obj55, pos22): false, at(obj00, pos22): false, at(apn4, pos66): false, at(apn5, pos66): false, at(apn2, pos66): false, at(apn8, pos66): false, at(apn3, pos66): false, at(apn6, pos66): false, at(apn7, pos66): false, at(apn1, pos66): false, at(tru4, pos66): false, at(tru1, pos66): false, at(tru5, pos66): false, at(tru3, pos66): false, at(obj23, pos66): false, at(obj44, pos66): false, at(obj13, pos66): false, at(obj12, pos66): false, at(obj22, pos66): false, at(obj11, pos66): false, at(obj88, pos66): false, at(obj99, pos66): false, at(obj33, pos66): false, at(obj21, pos66): false, at(obj66, pos66): false, at(obj55, pos66): false, at(obj00, pos66): false, at(apn4, pos44): false, at(apn5, pos44): false, at(apn2, pos44): false, at(apn8, pos44): false, at(apn3, pos44): false, at(apn6, pos44): false, at(apn7, pos44): false, at(apn1, pos44): false, at(tru2, pos44): false, at(tru4, pos44): false, at(tru1, pos44): false, at(tru5, pos44): false, at(tru3, pos44): false, at(obj23, pos44): false, at(obj44, pos44): false, at(obj13, pos44): false, at(obj12, pos44): false, at(obj22, pos44): false, at(obj11, pos44): false, at(obj88, pos44): false, at(obj99, pos44): false, at(obj33, pos44): false, at(obj77, pos44): false, at(obj21, pos44): false, at(obj66, pos44): false, at(obj55, pos44): false, at(obj00, pos44): false, at(apn4, pos77): false, at(apn5, pos77): false, at(apn2, pos77): false, at(apn8, pos77): false, at(apn3, pos77): false, at(apn6, pos77): false, at(apn7, pos77): false, at(apn1, pos77): false, at(tru2, pos77): false, at(tru4, pos77): false, at(tru1, pos77): false, at(tru5, pos77): false, at(tru3, pos77): false, at(obj23, pos77): false, at(obj44, pos77): false, at(obj13, pos77): false, at(obj12, pos77): false, at(obj22, pos77): false, at(obj11, pos77): false, at(obj88, pos77): false, at(obj99, pos77): false, at(obj33, pos77): false, at(obj77, pos77): false, at(obj21, pos77): false, at(obj66, pos77): false, at(obj55, pos77): false, at(obj00, pos77): false, at(apn4, pos13): false, at(apn5, pos13): false, at(apn2, pos13): false, at(apn8, pos13): false, at(apn3, pos13): false, at(apn6, pos13): false, at(apn7, pos13): false, at(apn1, pos13): false, at(tru2, pos13): false, at(tru4, pos13): false, at(tru1, pos13): false, at(tru5, pos13): false, at(tru3, pos13): false, at(obj23, pos13): false, at(obj44, pos13): false, at(obj13, pos13): false, at(obj12, pos13): false, at(obj22, pos13): false, at(obj11, pos13): false, at(obj88, pos13): false, at(obj99, pos13): false, at(obj33, pos13): false, at(obj77, pos13): false, at(obj21, pos13): false, at(obj66, pos13): false, at(obj55, pos13): false, at(obj00, pos13): false, at(apn4, pos12): false, at(apn5, pos12): false, at(apn2, pos12): false, at(apn8, pos12): false, at(apn3, pos12): false, at(apn6, pos12): false, at(apn7, pos12): false, at(apn1, pos12): false, at(tru2, pos12): false, at(tru4, pos12): false, at(tru1, pos12): false, at(tru5, pos12): false, at(tru3, pos12): false, at(obj44, pos12): false, at(obj13, pos12): false, at(obj12, pos12): false, at(obj22, pos12): false, at(obj11, pos12): false, at(obj88, pos12): false, at(obj99, pos12): false, at(obj33, pos12): false, at(obj77, pos12): false, at(obj21, pos12): false, at(obj66, pos12): false, at(obj55, pos12): false, at(obj00, pos12): false, in(obj23, apn4): false, in(obj44, apn4): false, in(obj13, apn4): false, in(obj12, apn4): false, in(obj22, apn4): false, in(obj11, apn4): false, in(obj88, apn4): false, in(obj99, apn4): false, in(obj33, apn4): false, in(obj77, apn4): false, in(obj21, apn4): false, in(obj66, apn4): false, in(obj55, apn4): false, in(obj00, apn4): false, in(obj23, apn5): false, in(obj44, apn5): false, in(obj13, apn5): false, in(obj12, apn5): false, in(obj22, apn5): false, in(obj11, apn5): false, in(obj88, apn5): false, in(obj99, apn5): false, in(obj33, apn5): false, in(obj77, apn5): false, in(obj21, apn5): false, in(obj66, apn5): false, in(obj55, apn5): false, in(obj00, apn5): false, in(obj23, apn2): false, in(obj44, apn2): false, in(obj13, apn2): false, in(obj12, apn2): false, in(obj22, apn2): false, in(obj11, apn2): false, in(obj88, apn2): false, in(obj99, apn2): false, in(obj33, apn2): false, in(obj77, apn2): false, in(obj21, apn2): false, in(obj66, apn2): false, in(obj55, apn2): false, in(obj00, apn2): false, in(obj23, apn8): false, in(obj44, apn8): false, in(obj13, apn8): false, in(obj12, apn8): false, in(obj22, apn8): false, in(obj11, apn8): false, in(obj88, apn8): false, in(obj99, apn8): false, in(obj33, apn8): false, in(obj77, apn8): false, in(obj21, apn8): false, in(obj66, apn8): false, in(obj55, apn8): false, in(obj00, apn8): false, in(obj23, apn3): false, in(obj44, apn3): false, in(obj13, apn3): false, in(obj12, apn3): false, in(obj22, apn3): false, in(obj11, apn3): false, in(obj88, apn3): false, in(obj99, apn3): false, in(obj33, apn3): false, in(obj77, apn3): false, in(obj21, apn3): false, in(obj66, apn3): false, in(obj55, apn3): false, in(obj00, apn3): false, in(obj23, apn6): false, in(obj44, apn6): false, in(obj13, apn6): false, in(obj12, apn6): false, in(obj22, apn6): false, in(obj11, apn6): false, in(obj88, apn6): false, in(obj99, apn6): false, in(obj33, apn6): false, in(obj77, apn6): false, in(obj21, apn6): false, in(obj66, apn6): false, in(obj55, apn6): false, in(obj00, apn6): false, in(obj23, apn7): false, in(obj44, apn7): false, in(obj13, apn7): false, in(obj12, apn7): false, in(obj22, apn7): false, in(obj11, apn7): false, in(obj88, apn7): false, in(obj99, apn7): false, in(obj33, apn7): false, in(obj77, apn7): false, in(obj21, apn7): false, in(obj66, apn7): false, in(obj55, apn7): false, in(obj00, apn7): false, in(obj23, apn1): false, in(obj44, apn1): false, in(obj13, apn1): false, in(obj12, apn1): false, in(obj22, apn1): false, in(obj11, apn1): false, in(obj88, apn1): false, in(obj99, apn1): false, in(obj33, apn1): false, in(obj77, apn1): false, in(obj21, apn1): false, in(obj66, apn1): false, in(obj55, apn1): false, in(obj00, apn1): false, in(obj23, tru2): false, in(obj44, tru2): false, in(obj13, tru2): false, in(obj12, tru2): false, in(obj22, tru2): false, in(obj11, tru2): false, in(obj88, tru2): false, in(obj99, tru2): false, in(obj33, tru2): false, in(obj77, tru2): false, in(obj21, tru2): false, in(obj66, tru2): false, in(obj55, tru2): false, in(obj00, tru2): false, in(obj23, tru4): false, in(obj44, tru4): false, in(obj13, tru4): false, in(obj12, tru4): false, in(obj22, tru4): false, in(obj11, tru4): false, in(obj88, tru4): false, in(obj99, tru4): false, in(obj33, tru4): false, in(obj77, tru4): false, in(obj21, tru4): false, in(obj66, tru4): false, in(obj55, tru4): false, in(obj00, tru4): false, in(obj23, tru1): false, in(obj44, tru1): false, in(obj13, tru1): false, in(obj12, tru1): false, in(obj22, tru1): false, in(obj11, tru1): false, in(obj88, tru1): false, in(obj99, tru1): false, in(obj33, tru1): false, in(obj77, tru1): false, in(obj21, tru1): false, in(obj66, tru1): false, in(obj55, tru1): false, in(obj00, tru1): false, in(obj23, tru5): false, in(obj44, tru5): false, in(obj13, tru5): false, in(obj12, tru5): false, in(obj22, tru5): false, in(obj11, tru5): false, in(obj88, tru5): false, in(obj99, tru5): false, in(obj33, tru5): false, in(obj77, tru5): false, in(obj21, tru5): false, in(obj66, tru5): false, in(obj55, tru5): false, in(obj00, tru5): false, in(obj23, tru3): false, in(obj44, tru3): false, in(obj13, tru3): false, in(obj12, tru3): false, in(obj22, tru3): false, in(obj11, tru3): false, in(obj88, tru3): false, in(obj99, tru3): false, in(obj33, tru3): false, in(obj77, tru3): false, in(obj21, tru3): false, in(obj66, tru3): false, in(obj55, tru3): false, in(obj00, tru3): false}\n",
            "\n",
            "{at(apn4, apt4): true, at(apn5, apt4): true, at(apn2, apt2): true, at(apn8, apt1): true, at(apn3, apt6): true, at(apn6, apt2): true, at(apn7, apt8): true, at(apn1, apt3): true, at(obj23, pos12): true, at(obj44, pos23): true, at(obj13, pos21): true, at(obj12, pos22): true, at(obj22, pos23): true, at(obj11, pos21): true, at(obj88, pos22): true, at(obj99, pos33): true, at(obj33, pos21): true, at(obj77, pos66): true, at(obj21, pos55): true, at(obj66, pos22): true, at(obj55, pos23): true, at(obj00, pos11): true, in-city(apt4, cit1): true, in-city(apt5, cit4): true, in-city(apt6, cit2): true, in-city(apt8, cit6): true, in-city(apt7, cit3): true, in-city(apt3, cit5): true, in-city(apt2, cit1): true, in-city(apt1, cit4): true, in-city(pos33, cit3): true, in-city(pos55, cit2): true, in-city(pos21, cit6): true, in-city(pos23, cit4): true, in-city(pos11, cit2): true, in-city(pos22, cit6): true, in-city(pos66, cit5): true, in-city(pos44, cit1): true, in-city(pos77, cit3): true, in-city(pos13, cit1): true, in-city(pos12, cit6): true, at(tru3, pos33): true, at(tru5, pos55): true, at(tru1, pos22): true, at(tru4, pos23): true, at(tru2, pos66): true, in-city(apt4, cit5): false, in-city(apt5, cit5): false, in-city(apt6, cit5): false, in-city(apt8, cit5): false, in-city(apt7, cit5): false, in-city(apt2, cit5): false, in-city(apt1, cit5): false, in-city(pos33, cit5): false, in-city(pos55, cit5): false, in-city(pos21, cit5): false, in-city(pos23, cit5): false, in-city(pos11, cit5): false, in-city(pos22, cit5): false, in-city(pos44, cit5): false, in-city(pos77, cit5): false, in-city(pos13, cit5): false, in-city(pos12, cit5): false, in-city(apt4, cit6): false, in-city(apt5, cit6): false, in-city(apt6, cit6): false, in-city(apt7, cit6): false, in-city(apt3, cit6): false, in-city(apt2, cit6): false, in-city(apt1, cit6): false, in-city(pos33, cit6): false, in-city(pos55, cit6): false, in-city(pos23, cit6): false, in-city(pos11, cit6): false, in-city(pos66, cit6): false, in-city(pos44, cit6): false, in-city(pos77, cit6): false, in-city(pos13, cit6): false, in-city(apt4, cit3): false, in-city(apt5, cit3): false, in-city(apt6, cit3): false, in-city(apt8, cit3): false, in-city(apt3, cit3): false, in-city(apt2, cit3): false, in-city(apt1, cit3): false, in-city(pos55, cit3): false, in-city(pos21, cit3): false, in-city(pos23, cit3): false, in-city(pos11, cit3): false, in-city(pos22, cit3): false, in-city(pos66, cit3): false, in-city(pos44, cit3): false, in-city(pos13, cit3): false, in-city(pos12, cit3): false, in-city(apt5, cit1): false, in-city(apt6, cit1): false, in-city(apt8, cit1): false, in-city(apt7, cit1): false, in-city(apt3, cit1): false, in-city(apt1, cit1): false, in-city(pos33, cit1): false, in-city(pos55, cit1): false, in-city(pos21, cit1): false, in-city(pos23, cit1): false, in-city(pos11, cit1): false, in-city(pos22, cit1): false, in-city(pos66, cit1): false, in-city(pos77, cit1): false, in-city(pos12, cit1): false, in-city(apt4, cit2): false, in-city(apt5, cit2): false, in-city(apt8, cit2): false, in-city(apt7, cit2): false, in-city(apt3, cit2): false, in-city(apt2, cit2): false, in-city(apt1, cit2): false, in-city(pos33, cit2): false, in-city(pos21, cit2): false, in-city(pos23, cit2): false, in-city(pos22, cit2): false, in-city(pos66, cit2): false, in-city(pos44, cit2): false, in-city(pos77, cit2): false, in-city(pos13, cit2): false, in-city(pos12, cit2): false, in-city(apt4, cit4): false, in-city(apt6, cit4): false, in-city(apt8, cit4): false, in-city(apt7, cit4): false, in-city(apt3, cit4): false, in-city(apt2, cit4): false, in-city(pos33, cit4): false, in-city(pos55, cit4): false, in-city(pos21, cit4): false, in-city(pos11, cit4): false, in-city(pos22, cit4): false, in-city(pos66, cit4): false, in-city(pos44, cit4): false, in-city(pos77, cit4): false, in-city(pos13, cit4): false, in-city(pos12, cit4): false, at(apn2, apt4): false, at(apn8, apt4): false, at(apn3, apt4): false, at(apn6, apt4): false, at(apn7, apt4): false, at(apn1, apt4): false, at(tru2, apt4): false, at(tru4, apt4): false, at(tru1, apt4): false, at(tru5, apt4): false, at(tru3, apt4): false, at(obj23, apt4): false, at(obj44, apt4): false, at(obj13, apt4): false, at(obj12, apt4): false, at(obj22, apt4): false, at(obj11, apt4): false, at(obj88, apt4): false, at(obj99, apt4): false, at(obj33, apt4): false, at(obj77, apt4): false, at(obj21, apt4): false, at(obj66, apt4): false, at(obj55, apt4): false, at(obj00, apt4): false, at(apn4, apt5): false, at(apn5, apt5): false, at(apn2, apt5): false, at(apn8, apt5): false, at(apn3, apt5): false, at(apn6, apt5): false, at(apn7, apt5): false, at(apn1, apt5): false, at(tru2, apt5): false, at(tru4, apt5): false, at(tru1, apt5): false, at(tru5, apt5): false, at(tru3, apt5): false, at(obj23, apt5): false, at(obj44, apt5): false, at(obj13, apt5): false, at(obj12, apt5): false, at(obj22, apt5): false, at(obj11, apt5): false, at(obj88, apt5): false, at(obj99, apt5): false, at(obj33, apt5): false, at(obj77, apt5): false, at(obj21, apt5): false, at(obj66, apt5): false, at(obj55, apt5): false, at(obj00, apt5): false, at(apn4, apt6): false, at(apn5, apt6): false, at(apn2, apt6): false, at(apn8, apt6): false, at(apn6, apt6): false, at(apn7, apt6): false, at(apn1, apt6): false, at(tru2, apt6): false, at(tru4, apt6): false, at(tru1, apt6): false, at(tru5, apt6): false, at(tru3, apt6): false, at(obj23, apt6): false, at(obj44, apt6): false, at(obj13, apt6): false, at(obj12, apt6): false, at(obj22, apt6): false, at(obj11, apt6): false, at(obj88, apt6): false, at(obj99, apt6): false, at(obj33, apt6): false, at(obj77, apt6): false, at(obj21, apt6): false, at(obj66, apt6): false, at(obj55, apt6): false, at(obj00, apt6): false, at(apn4, apt8): false, at(apn5, apt8): false, at(apn2, apt8): false, at(apn8, apt8): false, at(apn3, apt8): false, at(apn6, apt8): false, at(apn1, apt8): false, at(tru2, apt8): false, at(tru4, apt8): false, at(tru1, apt8): false, at(tru5, apt8): false, at(tru3, apt8): false, at(obj23, apt8): false, at(obj44, apt8): false, at(obj13, apt8): false, at(obj12, apt8): false, at(obj22, apt8): false, at(obj11, apt8): false, at(obj88, apt8): false, at(obj99, apt8): false, at(obj33, apt8): false, at(obj77, apt8): false, at(obj21, apt8): false, at(obj66, apt8): false, at(obj55, apt8): false, at(obj00, apt8): false, at(apn4, apt7): false, at(apn5, apt7): false, at(apn2, apt7): false, at(apn8, apt7): false, at(apn3, apt7): false, at(apn6, apt7): false, at(apn7, apt7): false, at(apn1, apt7): false, at(tru2, apt7): false, at(tru4, apt7): false, at(tru1, apt7): false, at(tru5, apt7): false, at(tru3, apt7): false, at(obj23, apt7): false, at(obj44, apt7): false, at(obj13, apt7): false, at(obj12, apt7): false, at(obj22, apt7): false, at(obj11, apt7): false, at(obj88, apt7): false, at(obj99, apt7): false, at(obj33, apt7): false, at(obj77, apt7): false, at(obj21, apt7): false, at(obj66, apt7): false, at(obj55, apt7): false, at(obj00, apt7): false, at(apn4, apt3): false, at(apn5, apt3): false, at(apn2, apt3): false, at(apn8, apt3): false, at(apn3, apt3): false, at(apn6, apt3): false, at(apn7, apt3): false, at(tru2, apt3): false, at(tru4, apt3): false, at(tru1, apt3): false, at(tru5, apt3): false, at(tru3, apt3): false, at(obj23, apt3): false, at(obj44, apt3): false, at(obj13, apt3): false, at(obj12, apt3): false, at(obj22, apt3): false, at(obj11, apt3): false, at(obj88, apt3): false, at(obj99, apt3): false, at(obj33, apt3): false, at(obj77, apt3): false, at(obj21, apt3): false, at(obj66, apt3): false, at(obj55, apt3): false, at(obj00, apt3): false, at(apn4, apt2): false, at(apn5, apt2): false, at(apn8, apt2): false, at(apn3, apt2): false, at(apn7, apt2): false, at(apn1, apt2): false, at(tru2, apt2): false, at(tru4, apt2): false, at(tru1, apt2): false, at(tru5, apt2): false, at(tru3, apt2): false, at(obj23, apt2): false, at(obj44, apt2): false, at(obj13, apt2): false, at(obj12, apt2): false, at(obj22, apt2): false, at(obj11, apt2): false, at(obj88, apt2): false, at(obj99, apt2): false, at(obj33, apt2): false, at(obj77, apt2): false, at(obj21, apt2): false, at(obj66, apt2): false, at(obj55, apt2): false, at(obj00, apt2): false, at(apn4, apt1): false, at(apn5, apt1): false, at(apn2, apt1): false, at(apn3, apt1): false, at(apn6, apt1): false, at(apn7, apt1): false, at(apn1, apt1): false, at(tru2, apt1): false, at(tru4, apt1): false, at(tru1, apt1): false, at(tru5, apt1): false, at(tru3, apt1): false, at(obj23, apt1): false, at(obj44, apt1): false, at(obj13, apt1): false, at(obj12, apt1): false, at(obj22, apt1): false, at(obj11, apt1): false, at(obj88, apt1): false, at(obj99, apt1): false, at(obj33, apt1): false, at(obj77, apt1): false, at(obj21, apt1): false, at(obj66, apt1): false, at(obj55, apt1): false, at(obj00, apt1): false, at(apn4, pos33): false, at(apn5, pos33): false, at(apn2, pos33): false, at(apn8, pos33): false, at(apn3, pos33): false, at(apn6, pos33): false, at(apn7, pos33): false, at(apn1, pos33): false, at(tru2, pos33): false, at(tru4, pos33): false, at(tru1, pos33): false, at(tru5, pos33): false, at(obj23, pos33): false, at(obj44, pos33): false, at(obj13, pos33): false, at(obj12, pos33): false, at(obj22, pos33): false, at(obj11, pos33): false, at(obj88, pos33): false, at(obj33, pos33): false, at(obj77, pos33): false, at(obj21, pos33): false, at(obj66, pos33): false, at(obj55, pos33): false, at(obj00, pos33): false, at(apn4, pos55): false, at(apn5, pos55): false, at(apn2, pos55): false, at(apn8, pos55): false, at(apn3, pos55): false, at(apn6, pos55): false, at(apn7, pos55): false, at(apn1, pos55): false, at(tru2, pos55): false, at(tru4, pos55): false, at(tru1, pos55): false, at(tru3, pos55): false, at(obj23, pos55): false, at(obj44, pos55): false, at(obj13, pos55): false, at(obj12, pos55): false, at(obj22, pos55): false, at(obj11, pos55): false, at(obj88, pos55): false, at(obj99, pos55): false, at(obj33, pos55): false, at(obj77, pos55): false, at(obj66, pos55): false, at(obj55, pos55): false, at(obj00, pos55): false, at(apn4, pos21): false, at(apn5, pos21): false, at(apn2, pos21): false, at(apn8, pos21): false, at(apn3, pos21): false, at(apn6, pos21): false, at(apn7, pos21): false, at(apn1, pos21): false, at(tru2, pos21): false, at(tru4, pos21): false, at(tru1, pos21): false, at(tru5, pos21): false, at(tru3, pos21): false, at(obj23, pos21): false, at(obj44, pos21): false, at(obj12, pos21): false, at(obj22, pos21): false, at(obj88, pos21): false, at(obj99, pos21): false, at(obj77, pos21): false, at(obj21, pos21): false, at(obj66, pos21): false, at(obj55, pos21): false, at(obj00, pos21): false, at(apn4, pos23): false, at(apn5, pos23): false, at(apn2, pos23): false, at(apn8, pos23): false, at(apn3, pos23): false, at(apn6, pos23): false, at(apn7, pos23): false, at(apn1, pos23): false, at(tru2, pos23): false, at(tru1, pos23): false, at(tru5, pos23): false, at(tru3, pos23): false, at(obj23, pos23): false, at(obj13, pos23): false, at(obj12, pos23): false, at(obj11, pos23): false, at(obj88, pos23): false, at(obj99, pos23): false, at(obj33, pos23): false, at(obj77, pos23): false, at(obj21, pos23): false, at(obj66, pos23): false, at(obj00, pos23): false, at(apn4, pos11): false, at(apn5, pos11): false, at(apn2, pos11): false, at(apn8, pos11): false, at(apn3, pos11): false, at(apn6, pos11): false, at(apn7, pos11): false, at(apn1, pos11): false, at(tru2, pos11): false, at(tru4, pos11): false, at(tru1, pos11): false, at(tru5, pos11): false, at(tru3, pos11): false, at(obj23, pos11): false, at(obj44, pos11): false, at(obj13, pos11): false, at(obj12, pos11): false, at(obj22, pos11): false, at(obj11, pos11): false, at(obj88, pos11): false, at(obj99, pos11): false, at(obj33, pos11): false, at(obj77, pos11): false, at(obj21, pos11): false, at(obj66, pos11): false, at(obj55, pos11): false, at(apn4, pos22): false, at(apn5, pos22): false, at(apn2, pos22): false, at(apn8, pos22): false, at(apn3, pos22): false, at(apn6, pos22): false, at(apn7, pos22): false, at(apn1, pos22): false, at(tru2, pos22): false, at(tru4, pos22): false, at(tru5, pos22): false, at(tru3, pos22): false, at(obj23, pos22): false, at(obj44, pos22): false, at(obj13, pos22): false, at(obj22, pos22): false, at(obj11, pos22): false, at(obj99, pos22): false, at(obj33, pos22): false, at(obj77, pos22): false, at(obj21, pos22): false, at(obj55, pos22): false, at(obj00, pos22): false, at(apn4, pos66): false, at(apn5, pos66): false, at(apn2, pos66): false, at(apn8, pos66): false, at(apn3, pos66): false, at(apn6, pos66): false, at(apn7, pos66): false, at(apn1, pos66): false, at(tru4, pos66): false, at(tru1, pos66): false, at(tru5, pos66): false, at(tru3, pos66): false, at(obj23, pos66): false, at(obj44, pos66): false, at(obj13, pos66): false, at(obj12, pos66): false, at(obj22, pos66): false, at(obj11, pos66): false, at(obj88, pos66): false, at(obj99, pos66): false, at(obj33, pos66): false, at(obj21, pos66): false, at(obj66, pos66): false, at(obj55, pos66): false, at(obj00, pos66): false, at(apn4, pos44): false, at(apn5, pos44): false, at(apn2, pos44): false, at(apn8, pos44): false, at(apn3, pos44): false, at(apn6, pos44): false, at(apn7, pos44): false, at(apn1, pos44): false, at(tru2, pos44): false, at(tru4, pos44): false, at(tru1, pos44): false, at(tru5, pos44): false, at(tru3, pos44): false, at(obj23, pos44): false, at(obj44, pos44): false, at(obj13, pos44): false, at(obj12, pos44): false, at(obj22, pos44): false, at(obj11, pos44): false, at(obj88, pos44): false, at(obj99, pos44): false, at(obj33, pos44): false, at(obj77, pos44): false, at(obj21, pos44): false, at(obj66, pos44): false, at(obj55, pos44): false, at(obj00, pos44): false, at(apn4, pos77): false, at(apn5, pos77): false, at(apn2, pos77): false, at(apn8, pos77): false, at(apn3, pos77): false, at(apn6, pos77): false, at(apn7, pos77): false, at(apn1, pos77): false, at(tru2, pos77): false, at(tru4, pos77): false, at(tru1, pos77): false, at(tru5, pos77): false, at(tru3, pos77): false, at(obj23, pos77): false, at(obj44, pos77): false, at(obj13, pos77): false, at(obj12, pos77): false, at(obj22, pos77): false, at(obj11, pos77): false, at(obj88, pos77): false, at(obj99, pos77): false, at(obj33, pos77): false, at(obj77, pos77): false, at(obj21, pos77): false, at(obj66, pos77): false, at(obj55, pos77): false, at(obj00, pos77): false, at(apn4, pos13): false, at(apn5, pos13): false, at(apn2, pos13): false, at(apn8, pos13): false, at(apn3, pos13): false, at(apn6, pos13): false, at(apn7, pos13): false, at(apn1, pos13): false, at(tru2, pos13): false, at(tru4, pos13): false, at(tru1, pos13): false, at(tru5, pos13): false, at(tru3, pos13): false, at(obj23, pos13): false, at(obj44, pos13): false, at(obj13, pos13): false, at(obj12, pos13): false, at(obj22, pos13): false, at(obj11, pos13): false, at(obj88, pos13): false, at(obj99, pos13): false, at(obj33, pos13): false, at(obj77, pos13): false, at(obj21, pos13): false, at(obj66, pos13): false, at(obj55, pos13): false, at(obj00, pos13): false, at(apn4, pos12): false, at(apn5, pos12): false, at(apn2, pos12): false, at(apn8, pos12): false, at(apn3, pos12): false, at(apn6, pos12): false, at(apn7, pos12): false, at(apn1, pos12): false, at(tru2, pos12): false, at(tru4, pos12): false, at(tru1, pos12): false, at(tru5, pos12): false, at(tru3, pos12): false, at(obj44, pos12): false, at(obj13, pos12): false, at(obj12, pos12): false, at(obj22, pos12): false, at(obj11, pos12): false, at(obj88, pos12): false, at(obj99, pos12): false, at(obj33, pos12): false, at(obj77, pos12): false, at(obj21, pos12): false, at(obj66, pos12): false, at(obj55, pos12): false, at(obj00, pos12): false, in(obj23, apn4): false, in(obj44, apn4): false, in(obj13, apn4): false, in(obj12, apn4): false, in(obj22, apn4): false, in(obj11, apn4): false, in(obj88, apn4): false, in(obj99, apn4): false, in(obj33, apn4): false, in(obj77, apn4): false, in(obj21, apn4): false, in(obj66, apn4): false, in(obj55, apn4): false, in(obj00, apn4): false, in(obj23, apn5): false, in(obj44, apn5): false, in(obj13, apn5): false, in(obj12, apn5): false, in(obj22, apn5): false, in(obj11, apn5): false, in(obj88, apn5): false, in(obj99, apn5): false, in(obj33, apn5): false, in(obj77, apn5): false, in(obj21, apn5): false, in(obj66, apn5): false, in(obj55, apn5): false, in(obj00, apn5): false, in(obj23, apn2): false, in(obj44, apn2): false, in(obj13, apn2): false, in(obj12, apn2): false, in(obj22, apn2): false, in(obj11, apn2): false, in(obj88, apn2): false, in(obj99, apn2): false, in(obj33, apn2): false, in(obj77, apn2): false, in(obj21, apn2): false, in(obj66, apn2): false, in(obj55, apn2): false, in(obj00, apn2): false, in(obj23, apn8): false, in(obj44, apn8): false, in(obj13, apn8): false, in(obj12, apn8): false, in(obj22, apn8): false, in(obj11, apn8): false, in(obj88, apn8): false, in(obj99, apn8): false, in(obj33, apn8): false, in(obj77, apn8): false, in(obj21, apn8): false, in(obj66, apn8): false, in(obj55, apn8): false, in(obj00, apn8): false, in(obj23, apn3): false, in(obj44, apn3): false, in(obj13, apn3): false, in(obj12, apn3): false, in(obj22, apn3): false, in(obj11, apn3): false, in(obj88, apn3): false, in(obj99, apn3): false, in(obj33, apn3): false, in(obj77, apn3): false, in(obj21, apn3): false, in(obj66, apn3): false, in(obj55, apn3): false, in(obj00, apn3): false, in(obj23, apn6): false, in(obj44, apn6): false, in(obj13, apn6): false, in(obj12, apn6): false, in(obj22, apn6): false, in(obj11, apn6): false, in(obj88, apn6): false, in(obj99, apn6): false, in(obj33, apn6): false, in(obj77, apn6): false, in(obj21, apn6): false, in(obj66, apn6): false, in(obj55, apn6): false, in(obj00, apn6): false, in(obj23, apn7): false, in(obj44, apn7): false, in(obj13, apn7): false, in(obj12, apn7): false, in(obj22, apn7): false, in(obj11, apn7): false, in(obj88, apn7): false, in(obj99, apn7): false, in(obj33, apn7): false, in(obj77, apn7): false, in(obj21, apn7): false, in(obj66, apn7): false, in(obj55, apn7): false, in(obj00, apn7): false, in(obj23, apn1): false, in(obj44, apn1): false, in(obj13, apn1): false, in(obj12, apn1): false, in(obj22, apn1): false, in(obj11, apn1): false, in(obj88, apn1): false, in(obj99, apn1): false, in(obj33, apn1): false, in(obj77, apn1): false, in(obj21, apn1): false, in(obj66, apn1): false, in(obj55, apn1): false, in(obj00, apn1): false, in(obj23, tru2): false, in(obj44, tru2): false, in(obj13, tru2): false, in(obj12, tru2): false, in(obj22, tru2): false, in(obj11, tru2): false, in(obj88, tru2): false, in(obj99, tru2): false, in(obj33, tru2): false, in(obj77, tru2): false, in(obj21, tru2): false, in(obj66, tru2): false, in(obj55, tru2): false, in(obj00, tru2): false, in(obj23, tru4): false, in(obj44, tru4): false, in(obj13, tru4): false, in(obj12, tru4): false, in(obj22, tru4): false, in(obj11, tru4): false, in(obj88, tru4): false, in(obj99, tru4): false, in(obj33, tru4): false, in(obj77, tru4): false, in(obj21, tru4): false, in(obj66, tru4): false, in(obj55, tru4): false, in(obj00, tru4): false, in(obj23, tru1): false, in(obj44, tru1): false, in(obj13, tru1): false, in(obj12, tru1): false, in(obj22, tru1): false, in(obj11, tru1): false, in(obj88, tru1): false, in(obj99, tru1): false, in(obj33, tru1): false, in(obj77, tru1): false, in(obj21, tru1): false, in(obj66, tru1): false, in(obj55, tru1): false, in(obj00, tru1): false, in(obj23, tru5): false, in(obj44, tru5): false, in(obj13, tru5): false, in(obj12, tru5): false, in(obj22, tru5): false, in(obj11, tru5): false, in(obj88, tru5): false, in(obj99, tru5): false, in(obj33, tru5): false, in(obj77, tru5): false, in(obj21, tru5): false, in(obj66, tru5): false, in(obj55, tru5): false, in(obj00, tru5): false, in(obj23, tru3): false, in(obj44, tru3): false, in(obj13, tru3): false, in(obj12, tru3): false, in(obj22, tru3): false, in(obj11, tru3): false, in(obj88, tru3): false, in(obj99, tru3): false, in(obj33, tru3): false, in(obj77, tru3): false, in(obj21, tru3): false, in(obj66, tru3): false, in(obj55, tru3): false, in(obj00, tru3): false}\n"
          ]
        }
      ],
      "source": [
        "print(next_state)\n",
        "print()\n",
        "print(init_state)"
      ]
    },
    {
      "cell_type": "code",
      "execution_count": 30,
      "metadata": {},
      "outputs": [
        {
          "name": "stdout",
          "output_type": "stream",
          "text": [
            "58\n",
            "59\n",
            "98\n",
            "104\n",
            "110\n",
            "133\n",
            "139\n",
            "145\n",
            "168\n",
            "174\n",
            "180\n",
            "384\n",
            "386\n",
            "388\n"
          ]
        }
      ],
      "source": [
        "for i in range(len(problem.actions)):\n",
        "    pick_up_d_event = list(simulator.get_events(problem.actions[i],[]))[0]\n",
        "    state_pick_up_d_event = cast(UPCOWState, simulator.apply(pick_up_d_event, init_state))\n",
        "    if state_pick_up_d_event:\n",
        "        print(i)"
      ]
    },
    {
      "cell_type": "code",
      "execution_count": 31,
      "metadata": {
        "id": "f8joCHmooxMU"
      },
      "outputs": [
        {
          "data": {
            "text/plain": [
              "{at(apn1, apt1): false, at(apn1, apt3): true}\n",
              "{at(apn1, apt1): true, at(tru1, pos1): true, at(obj11, pos1): true, at(obj12, pos1): true, at(obj13, pos1): true, at(tru2, pos2): true, at(obj21, pos2): true, at(obj22, pos2): true, at(obj23, pos2): true, at(tru3, pos3): true, at(obj31, pos3): true, at(obj32, pos3): true, at(obj33, pos3): true, in-city(tru1, pos1, cit1): true, in-city(tru1, apt1, cit1): true, in-city(tru2, pos2, cit2): true, in-city(tru2, apt2, cit2): true, in-city(tru3, pos3, cit3): true, in-city(tru3, apt3, cit3): true, at(tru1, pos2): false, at(tru3, pos2): false, at(pos2, pos2): false, at(pos3, pos2): false, at(pos1, pos2): false, at(apn1, pos2): false, at(apt3, pos2): false, at(apt2, pos2): false, at(apt1, pos2): false, at(obj33, pos2): false, at(obj32, pos2): false, at(obj31, pos2): false, at(cit1, pos2): false, at(cit2, pos2): false, at(cit3, pos2): false, at(obj11, pos2): false, at(obj13, pos2): false, at(obj12, pos2): false, at(tru1, pos3): false, at(tru2, pos3): false, at(pos2, pos3): false, at(pos3, pos3): false, at(pos1, pos3): false, at(obj21, pos3): false, at(obj22, pos3): false, at(obj23, pos3): false, at(apn1, pos3): false, at(apt3, pos3): false, at(apt2, pos3): false, at(apt1, pos3): false, at(cit1, pos3): false, at(cit2, pos3): false, at(cit3, pos3): false, at(obj11, pos3): false, at(obj13, pos3): false, at(obj12, pos3): false, at(tru3, pos1): false, at(tru2, pos1): false, at(pos2, pos1): false, at(pos3, pos1): false, at(pos1, pos1): false, at(obj21, pos1): false, at(obj22, pos1): false, at(obj23, pos1): false, at(apn1, pos1): false, at(apt3, pos1): false, at(apt2, pos1): false, at(apt1, pos1): false, at(obj33, pos1): false, at(obj32, pos1): false, at(obj31, pos1): false, at(cit1, pos1): false, at(cit2, pos1): false, at(cit3, pos1): false, at(tru1, apt3): false, at(tru3, apt3): false, at(tru2, apt3): false, at(pos2, apt3): false, at(pos3, apt3): false, at(pos1, apt3): false, at(obj21, apt3): false, at(obj22, apt3): false, at(obj23, apt3): false, at(apn1, apt3): false, at(apt3, apt3): false, at(apt2, apt3): false, at(apt1, apt3): false, at(obj33, apt3): false, at(obj32, apt3): false, at(obj31, apt3): false, at(cit1, apt3): false, at(cit2, apt3): false, at(cit3, apt3): false, at(obj11, apt3): false, at(obj13, apt3): false, at(obj12, apt3): false, at(tru1, apt2): false, at(tru3, apt2): false, at(tru2, apt2): false, at(pos2, apt2): false, at(pos3, apt2): false, at(pos1, apt2): false, at(obj21, apt2): false, at(obj22, apt2): false, at(obj23, apt2): false, at(apn1, apt2): false, at(apt3, apt2): false, at(apt2, apt2): false, at(apt1, apt2): false, at(obj33, apt2): false, at(obj32, apt2): false, at(obj31, apt2): false, at(cit1, apt2): false, at(cit2, apt2): false, at(cit3, apt2): false, at(obj11, apt2): false, at(obj13, apt2): false, at(obj12, apt2): false, at(tru1, apt1): false, at(tru3, apt1): false, at(tru2, apt1): false, at(pos2, apt1): false, at(pos3, apt1): false, at(pos1, apt1): false, at(obj21, apt1): false, at(obj22, apt1): false, at(obj23, apt1): false, at(apt3, apt1): false, at(apt2, apt1): false, at(apt1, apt1): false, at(obj33, apt1): false, at(obj32, apt1): false, at(obj31, apt1): false, at(cit1, apt1): false, at(cit2, apt1): false, at(cit3, apt1): false, at(obj11, apt1): false, at(obj13, apt1): false, at(obj12, apt1): false, in(obj21, tru1): false, in(obj22, tru1): false, in(obj23, tru1): false, in(obj33, tru1): false, in(obj32, tru1): false, in(obj31, tru1): false, in(obj11, tru1): false, in(obj13, tru1): false, in(obj12, tru1): false, in(obj21, tru3): false, in(obj22, tru3): false, in(obj23, tru3): false, in(obj33, tru3): false, in(obj32, tru3): false, in(obj31, tru3): false, in(obj11, tru3): false, in(obj13, tru3): false, in(obj12, tru3): false, in(obj21, tru2): false, in(obj22, tru2): false, in(obj23, tru2): false, in(obj33, tru2): false, in(obj32, tru2): false, in(obj31, tru2): false, in(obj11, tru2): false, in(obj13, tru2): false, in(obj12, tru2): false, in(obj21, apn1): false, in(obj22, apn1): false, in(obj23, apn1): false, in(obj33, apn1): false, in(obj32, apn1): false, in(obj31, apn1): false, in(obj11, apn1): false, in(obj13, apn1): false, in(obj12, apn1): false, in-city(tru1, pos2, cit1): false, in-city(tru3, pos2, cit1): false, in-city(tru2, pos2, cit1): false, in-city(tru1, pos3, cit1): false, in-city(tru3, pos3, cit1): false, in-city(tru2, pos3, cit1): false, in-city(tru3, pos1, cit1): false, in-city(tru2, pos1, cit1): false, in-city(tru1, apt3, cit1): false, in-city(tru3, apt3, cit1): false, in-city(tru2, apt3, cit1): false, in-city(tru1, apt2, cit1): false, in-city(tru3, apt2, cit1): false, in-city(tru2, apt2, cit1): false, in-city(tru3, apt1, cit1): false, in-city(tru2, apt1, cit1): false, in-city(tru1, pos2, cit2): false, in-city(tru3, pos2, cit2): false, in-city(tru1, pos3, cit2): false, in-city(tru3, pos3, cit2): false, in-city(tru2, pos3, cit2): false, in-city(tru1, pos1, cit2): false, in-city(tru3, pos1, cit2): false, in-city(tru2, pos1, cit2): false, in-city(tru1, apt3, cit2): false, in-city(tru3, apt3, cit2): false, in-city(tru2, apt3, cit2): false, in-city(tru1, apt2, cit2): false, in-city(tru3, apt2, cit2): false, in-city(tru1, apt1, cit2): false, in-city(tru3, apt1, cit2): false, in-city(tru2, apt1, cit2): false, in-city(tru1, pos2, cit3): false, in-city(tru3, pos2, cit3): false, in-city(tru2, pos2, cit3): false, in-city(tru1, pos3, cit3): false, in-city(tru2, pos3, cit3): false, in-city(tru1, pos1, cit3): false, in-city(tru3, pos1, cit3): false, in-city(tru2, pos1, cit3): false, in-city(tru1, apt3, cit3): false, in-city(tru2, apt3, cit3): false, in-city(tru1, apt2, cit3): false, in-city(tru3, apt2, cit3): false, in-city(tru2, apt2, cit3): false, in-city(tru1, apt1, cit3): false, in-city(tru3, apt1, cit3): false, in-city(tru2, apt1, cit3): false}"
            ]
          },
          "execution_count": 31,
          "metadata": {},
          "output_type": "execute_result"
        }
      ],
      "source": [
        "pick_up_d_event = list(simulator.get_events(problem.actions[58],[]))[0]\n",
        "state_pick_up_d_event = cast(UPCOWState, simulator.apply(pick_up_d_event, init_state))\n",
        "state_pick_up_d_event"
      ]
    },
    {
      "cell_type": "markdown",
      "metadata": {
        "id": "v_ixsw9teS8E"
      },
      "source": [
        "Nel caso l'azione non possa essere eseguita avremo None. Prendiamo l'azione put_down_d"
      ]
    },
    {
      "cell_type": "code",
      "execution_count": 9,
      "metadata": {
        "colab": {
          "base_uri": "https://localhost:8080/"
        },
        "id": "af0PQ28Qed7M",
        "outputId": "8ba5e3d3-11aa-4009-fbcc-43da1727c0dd"
      },
      "outputs": [
        {
          "name": "stdout",
          "output_type": "stream",
          "text": [
            "True\n"
          ]
        }
      ],
      "source": [
        "put_down_d_event = list(simulator.get_events(problem.actions[4],[]))[0]\n",
        "state_put_down_d_event = cast(UPCOWState, simulator.apply(put_down_d_event, init_state))\n",
        "print(state_put_down_d_event is None)"
      ]
    },
    {
      "cell_type": "code",
      "execution_count": null,
      "metadata": {
        "id": "QRmlA5GPqGoU"
      },
      "outputs": [],
      "source": [
        "target_action_string = \"DRIVE-TRUCK_tru2_pos55_pos33_cit3\"\n",
        "starting_action_string = \"drivetrucktru2pos55pos33cit3\""
      ]
    },
    {
      "cell_type": "code",
      "execution_count": null,
      "metadata": {
        "colab": {
          "base_uri": "https://localhost:8080/",
          "height": 36
        },
        "id": "4n5fwWUntEbF",
        "outputId": "23bcec31-49ec-4f90-cf91-d18959c21f68"
      },
      "outputs": [
        {
          "data": {
            "application/vnd.google.colaboratory.intrinsic+json": {
              "type": "string"
            },
            "text/plain": [
              "'drivetrucktru2pos55pos33cit3'"
            ]
          },
          "execution_count": 3,
          "metadata": {},
          "output_type": "execute_result"
        }
      ],
      "source": [
        "tmp = starting_action_string.replace(\"drivetruck\", \"DRIVE-TRUCK \")\n",
        "tmp"
      ]
    },
    {
      "cell_type": "code",
      "execution_count": null,
      "metadata": {
        "colab": {
          "base_uri": "https://localhost:8080/"
        },
        "id": "bboFSGlgtSAL",
        "outputId": "e981c29f-0698-4aa4-dfff-4ecf539c548c"
      },
      "outputs": [
        {
          "data": {
            "text/plain": [
              "('DRIVE-TRUCK', 'tru2pos55pos33cit3')"
            ]
          },
          "execution_count": 49,
          "metadata": {},
          "output_type": "execute_result"
        }
      ],
      "source": [
        "action, objects_string = tmp.split()\n",
        "action, objects_string"
      ]
    },
    {
      "cell_type": "code",
      "execution_count": null,
      "metadata": {
        "id": "Xks3Zbtotfvc"
      },
      "outputs": [],
      "source": [
        "import re"
      ]
    },
    {
      "cell_type": "code",
      "execution_count": null,
      "metadata": {
        "colab": {
          "base_uri": "https://localhost:8080/"
        },
        "id": "nteRBKXltZdk",
        "outputId": "7cb86524-b184-4557-9404-eaf615fd2989"
      },
      "outputs": [
        {
          "data": {
            "text/plain": [
              "['tru2', 'pos55', 'pos33', 'cit3']"
            ]
          },
          "execution_count": 51,
          "metadata": {},
          "output_type": "execute_result"
        }
      ],
      "source": [
        "objects = re.findall(\"[a-z]+\\\\d+\", objects_string)\n",
        "objects"
      ]
    },
    {
      "cell_type": "code",
      "execution_count": null,
      "metadata": {
        "colab": {
          "base_uri": "https://localhost:8080/"
        },
        "id": "MCMDIMRhuJ_d",
        "outputId": "3bb3b60a-7466-4e91-b904-11e4c041961a"
      },
      "outputs": [
        {
          "data": {
            "text/plain": [
              "['DRIVE-TRUCK', 'tru2', 'pos55', 'pos33', 'cit3']"
            ]
          },
          "execution_count": 52,
          "metadata": {},
          "output_type": "execute_result"
        }
      ],
      "source": [
        "objects.insert(0, action)\n",
        "objects"
      ]
    },
    {
      "cell_type": "code",
      "execution_count": null,
      "metadata": {
        "colab": {
          "base_uri": "https://localhost:8080/",
          "height": 36
        },
        "id": "Aw_OBcu6t_-g",
        "outputId": "38c81802-f130-4dc9-88a0-a19d55a15128"
      },
      "outputs": [
        {
          "data": {
            "application/vnd.google.colaboratory.intrinsic+json": {
              "type": "string"
            },
            "text/plain": [
              "'DRIVE-TRUCK_tru2_pos55_pos33_cit3'"
            ]
          },
          "execution_count": 53,
          "metadata": {},
          "output_type": "execute_result"
        }
      ],
      "source": [
        "action_name = \"_\".join(objects)\n",
        "action_name"
      ]
    },
    {
      "cell_type": "code",
      "execution_count": null,
      "metadata": {
        "colab": {
          "base_uri": "https://localhost:8080/"
        },
        "id": "V5apoOv5uiTI",
        "outputId": "1f38d56e-7165-4a72-9b15-fb1e38d753f3"
      },
      "outputs": [
        {
          "name": "stdout",
          "output_type": "stream",
          "text": [
            "action DRIVE-TRUCK_tru2_pos55_pos33_cit3 {\n",
            "    preconditions = [\n",
            "      at(tru2, pos55)\n",
            "    ]\n",
            "    effects = [\n",
            "      at(tru2, pos55) := false\n",
            "      at(tru2, pos33) := true\n",
            "    ]\n",
            "    simulated effect = None\n",
            "  }\n"
          ]
        }
      ],
      "source": [
        "for action in possible_actions:\n",
        "    if action.name == action_name:\n",
        "        print(action)\n",
        "        break"
      ]
    },
    {
      "cell_type": "code",
      "execution_count": null,
      "metadata": {
        "id": "12NWkuyRwIzm"
      },
      "outputs": [],
      "source": [
        "possible_actions"
      ]
    },
    {
      "cell_type": "code",
      "execution_count": null,
      "metadata": {
        "colab": {
          "base_uri": "https://localhost:8080/"
        },
        "id": "oKgGYIOOwfJE",
        "outputId": "64dac7a1-c6d9-4db2-e1aa-4a5b7594742f"
      },
      "outputs": [
        {
          "data": {
            "text/plain": [
              "{'_conditions': [at(tru5, pos12), at(obj21, pos12)],\n",
              " '_effects': [at(obj21, pos12) := false, in(obj21, tru5) := true],\n",
              " '_simulated_effect': None}"
            ]
          },
          "execution_count": 62,
          "metadata": {},
          "output_type": "execute_result"
        }
      ],
      "source": [
        "events[0].__dict__"
      ]
    },
    {
      "cell_type": "code",
      "execution_count": null,
      "metadata": {
        "id": "5lKD2Z55Unou"
      },
      "outputs": [],
      "source": [
        "starting_action_string = \"DRIVE-TRUCK_tru2_pos55_pos33_cit3\"\n",
        "target_action_string = \"drivetrucktru2pos55pos33cit3\""
      ]
    },
    {
      "cell_type": "code",
      "execution_count": null,
      "metadata": {
        "colab": {
          "base_uri": "https://localhost:8080/",
          "height": 36
        },
        "id": "RiQE-S7CUo3F",
        "outputId": "a03e6d02-793e-4faa-d01f-d93f0d95da5c"
      },
      "outputs": [
        {
          "data": {
            "application/vnd.google.colaboratory.intrinsic+json": {
              "type": "string"
            },
            "text/plain": [
              "'drive-truck_tru2_pos55_pos33_cit3'"
            ]
          },
          "execution_count": 3,
          "metadata": {},
          "output_type": "execute_result"
        }
      ],
      "source": [
        "tmp = starting_action_string.lower()\n",
        "tmp"
      ]
    },
    {
      "cell_type": "code",
      "execution_count": null,
      "metadata": {
        "colab": {
          "base_uri": "https://localhost:8080/"
        },
        "id": "358gHaEFU03r",
        "outputId": "c9bd57a3-5337-41bd-e5a7-1d3c5f524484"
      },
      "outputs": [
        {
          "data": {
            "text/plain": [
              "['drive', 'truck', 'tru2', 'pos55', 'pos33', 'cit3']"
            ]
          },
          "execution_count": 8,
          "metadata": {},
          "output_type": "execute_result"
        }
      ],
      "source": [
        "parts = tmp.split(\"-\")\n",
        "parts = [parts[0]] + parts[1].split(\"_\")\n",
        "parts"
      ]
    },
    {
      "cell_type": "code",
      "execution_count": null,
      "metadata": {
        "colab": {
          "base_uri": "https://localhost:8080/"
        },
        "id": "jI7tst2tVUoi",
        "outputId": "053d5008-a4bd-4482-c494-92e3e7021c3d"
      },
      "outputs": [
        {
          "data": {
            "text/plain": [
              "True"
            ]
          },
          "execution_count": 10,
          "metadata": {},
          "output_type": "execute_result"
        }
      ],
      "source": [
        "\"\".join(parts) == target_action_string"
      ]
    },
    {
      "cell_type": "code",
      "execution_count": null,
      "metadata": {
        "id": "eJ25lRdVWCPR"
      },
      "outputs": [],
      "source": [
        "def reverse_format(action_name):\n",
        "    tmp = action_name.lower()\n",
        "    tmp = tmp.split(\"-\")\n",
        "    tmp = [tmp[0]] + tmp[1].split(\"_\")\n",
        "    return \"\".join(tmp)"
      ]
    },
    {
      "cell_type": "code",
      "execution_count": null,
      "metadata": {
        "colab": {
          "base_uri": "https://localhost:8080/"
        },
        "id": "rEwpDPrSWDIp",
        "outputId": "274f3be3-c6ed-4975-f46e-8276d27c6b08"
      },
      "outputs": [
        {
          "data": {
            "text/plain": [
              "True"
            ]
          },
          "execution_count": 13,
          "metadata": {},
          "output_type": "execute_result"
        }
      ],
      "source": [
        "reverse_format(starting_action_string) == target_action_string"
      ]
    },
    {
      "cell_type": "code",
      "execution_count": null,
      "metadata": {
        "colab": {
          "base_uri": "https://localhost:8080/"
        },
        "id": "5Y7aIGe9mdHf",
        "outputId": "9e3ace33-17fa-4a3d-d2d4-e3d4abfe8fee"
      },
      "outputs": [
        {
          "data": {
            "text/plain": [
              "{at(apn3, apt4): true, at(apn8, apt8): true, at(obj23, pos77): true, at(obj99, pos77): true, at(obj21, pos12): true, at(obj44, pos55): true, at(obj11, pos23): true, at(obj00, pos55): true, in-city(apt8, cit6): true, in-city(apt4, cit3): true, in-city(pos77, cit6): true, in-city(pos33, cit3): true, in-city(pos44, cit3): true, in-city(pos23, cit3): true, in-city(pos12, cit6): true, in-city(pos55, cit3): true, at(tru5, pos12): true, at(tru2, pos55): true, in-city(apt8, cit3): false, in-city(pos77, cit3): false, in-city(pos12, cit3): false, in-city(apt4, cit6): false, in-city(pos33, cit6): false, in-city(pos44, cit6): false, in-city(pos23, cit6): false, in-city(pos55, cit6): false, at(apn3, apt8): false, at(tru2, apt8): false, at(tru5, apt8): false, at(obj23, apt8): false, at(obj99, apt8): false, at(obj21, apt8): false, at(obj44, apt8): false, at(obj11, apt8): false, at(obj00, apt8): false, at(apn8, apt4): false, at(tru2, apt4): false, at(tru5, apt4): false, at(obj23, apt4): false, at(obj99, apt4): false, at(obj21, apt4): false, at(obj44, apt4): false, at(obj11, apt4): false, at(obj00, apt4): false, at(apn3, pos77): false, at(apn8, pos77): false, at(tru2, pos77): false, at(tru5, pos77): false, at(obj21, pos77): false, at(obj44, pos77): false, at(obj11, pos77): false, at(obj00, pos77): false, at(apn3, pos33): false, at(apn8, pos33): false, at(tru2, pos33): false, at(tru5, pos33): false, at(obj23, pos33): false, at(obj99, pos33): false, at(obj21, pos33): false, at(obj44, pos33): false, at(obj11, pos33): false, at(obj00, pos33): false, at(apn3, pos44): false, at(apn8, pos44): false, at(tru2, pos44): false, at(tru5, pos44): false, at(obj23, pos44): false, at(obj99, pos44): false, at(obj21, pos44): false, at(obj44, pos44): false, at(obj11, pos44): false, at(obj00, pos44): false, at(apn3, pos23): false, at(apn8, pos23): false, at(tru2, pos23): false, at(tru5, pos23): false, at(obj23, pos23): false, at(obj99, pos23): false, at(obj21, pos23): false, at(obj44, pos23): false, at(obj00, pos23): false, at(apn3, pos12): false, at(apn8, pos12): false, at(tru2, pos12): false, at(obj23, pos12): false, at(obj99, pos12): false, at(obj44, pos12): false, at(obj11, pos12): false, at(obj00, pos12): false, at(apn3, pos55): false, at(apn8, pos55): false, at(tru5, pos55): false, at(obj23, pos55): false, at(obj99, pos55): false, at(obj21, pos55): false, at(obj11, pos55): false, in(obj23, apn3): false, in(obj99, apn3): false, in(obj21, apn3): false, in(obj44, apn3): false, in(obj11, apn3): false, in(obj00, apn3): false, in(obj23, apn8): false, in(obj99, apn8): false, in(obj21, apn8): false, in(obj44, apn8): false, in(obj11, apn8): false, in(obj00, apn8): false, in(obj23, tru2): false, in(obj99, tru2): false, in(obj21, tru2): false, in(obj44, tru2): false, in(obj11, tru2): false, in(obj00, tru2): false, in(obj23, tru5): false, in(obj99, tru5): false, in(obj21, tru5): false, in(obj44, tru5): false, in(obj11, tru5): false, in(obj00, tru5): false}"
            ]
          },
          "execution_count": 10,
          "metadata": {},
          "output_type": "execute_result"
        }
      ],
      "source": [
        "init_state"
      ]
    },
    {
      "cell_type": "code",
      "execution_count": null,
      "metadata": {
        "colab": {
          "base_uri": "https://localhost:8080/"
        },
        "id": "AT91WnwonbNx",
        "outputId": "9c78f05d-5388-4707-b8c3-77ee3ac4fe24"
      },
      "outputs": [
        {
          "data": {
            "text/plain": [
              "bool at[obj=physobj, loc=place]"
            ]
          },
          "execution_count": 43,
          "metadata": {},
          "output_type": "execute_result"
        }
      ],
      "source": [
        "problem.goals[0].args[0].fluent()"
      ]
    },
    {
      "cell_type": "code",
      "execution_count": null,
      "metadata": {
        "colab": {
          "base_uri": "https://localhost:8080/"
        },
        "id": "YLTimEjfm2Fq",
        "outputId": "b9467fae-3eb2-4d1d-8a77-226a296fd199"
      },
      "outputs": [
        {
          "data": {
            "text/plain": [
              "false"
            ]
          },
          "execution_count": 40,
          "metadata": {},
          "output_type": "execute_result"
        }
      ],
      "source": [
        "init_state.__dict__['_values'][problem.goals[0].args[1]]"
      ]
    },
    {
      "cell_type": "code",
      "execution_count": null,
      "metadata": {},
      "outputs": [],
      "source": []
    }
  ],
  "metadata": {
    "colab": {
      "provenance": []
    },
    "kernelspec": {
      "display_name": "Python 3",
      "name": "python3"
    },
    "language_info": {
      "codemirror_mode": {
        "name": "ipython",
        "version": 3
      },
      "file_extension": ".py",
      "mimetype": "text/x-python",
      "name": "python",
      "nbconvert_exporter": "python",
      "pygments_lexer": "ipython3",
      "version": "3.9.13"
    }
  },
  "nbformat": 4,
  "nbformat_minor": 0
}
